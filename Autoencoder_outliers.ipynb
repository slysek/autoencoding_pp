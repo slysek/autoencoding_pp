{
 "nbformat": 4,
 "nbformat_minor": 0,
 "metadata": {
  "colab": {
   "provenance": [],
   "gpuType": "T4",
   "authorship_tag": "ABX9TyNNbGjjxTbeAsrDRvnAYqBt",
   "include_colab_link": true
  },
  "kernelspec": {
   "name": "python3",
   "display_name": "Python 3 (ipykernel)",
   "language": "python"
  },
  "language_info": {
   "name": "python"
  },
  "accelerator": "GPU"
 },
 "cells": [
  {
   "cell_type": "markdown",
   "metadata": {
    "id": "view-in-github",
    "colab_type": "text"
   },
   "source": [
    "<a href=\"https://colab.research.google.com/github/marcinwolter/Autoencoder/blob/main/Autoencoder_outliers.ipynb\" target=\"_parent\"><img src=\"https://colab.research.google.com/assets/colab-badge.svg\" alt=\"Open In Colab\"/></a>"
   ]
  },
  {
   "cell_type": "markdown",
   "source": [
    "# <font color='green'> **Outlier detection with autoencoders**"
   ],
   "metadata": {
    "id": "MOtkTk2PN8wL"
   }
  },
  {
   "cell_type": "markdown",
   "source": [
    "An autoencoder is a type of artificial neural network used to learn efficient codings of unlabeled data (unsupervised learning). An autoencoder learns two functions: an encoding function that transforms the input data, and a decoding function that recreates the input data from the encoded representation. The autoencoder learns an efficient representation (encoding) for a set of data, typically for dimensionality reduction.\n",
    "\n",
    "<img src='https://stackabuse.s3.amazonaws.com/media/image-reconstruction-and-denoising-with-autoencoders-in-python-and-keras-3.png' width=500px>"
   ],
   "metadata": {
    "id": "oGzIphYSOF32"
   }
  },
  {
   "cell_type": "markdown",
   "metadata": {
    "id": "Q_HsQ5NoC-T4"
   },
   "source": [
    "# **Simple autoencoder**"
   ]
  },
  {
   "cell_type": "code",
   "metadata": {
    "id": "2WoFjhvZC-T8",
    "ExecuteTime": {
     "end_time": "2024-07-22T11:50:30.262677Z",
     "start_time": "2024-07-22T11:50:30.259818Z"
    }
   },
   "source": [
    "import keras\n",
    "from keras.datasets import mnist\n",
    "from keras.datasets import fashion_mnist\n",
    "import numpy as np\n",
    "np.random.seed(10)"
   ],
   "outputs": [],
   "execution_count": 2
  },
  {
   "cell_type": "code",
   "metadata": {
    "id": "SKSiD0J-C-T-",
    "ExecuteTime": {
     "end_time": "2024-07-22T11:50:31.273077Z",
     "start_time": "2024-07-22T11:50:31.169565Z"
    }
   },
   "source": [
    "import numpy as np\n",
    "from tensorflow.keras import layers\n",
    "from keras.models import Model\n"
   ],
   "outputs": [],
   "execution_count": 3
  },
  {
   "cell_type": "markdown",
   "source": [
    "# Read MNIST data"
   ],
   "metadata": {
    "id": "YO1d8uvM83gu"
   }
  },
  {
   "metadata": {
    "ExecuteTime": {
     "end_time": "2024-07-22T12:01:51.419868Z",
     "start_time": "2024-07-22T12:01:51.388874Z"
    }
   },
   "cell_type": "code",
   "source": "data = np.load(\"bkg_data.npy\", allow_pickle=True)",
   "outputs": [],
   "execution_count": 43
  },
  {
   "metadata": {
    "ExecuteTime": {
     "end_time": "2024-07-22T12:01:51.844029Z",
     "start_time": "2024-07-22T12:01:51.840288Z"
    }
   },
   "cell_type": "code",
   "source": "keys = list(data.item().keys())",
   "outputs": [],
   "execution_count": 44
  },
  {
   "metadata": {
    "ExecuteTime": {
     "end_time": "2024-07-22T12:01:52.611709Z",
     "start_time": "2024-07-22T12:01:52.607417Z"
    }
   },
   "cell_type": "code",
   "source": [
    "max_length = max([len(data.item().get(key)) for key in keys])\n",
    "max_length"
   ],
   "outputs": [
    {
     "data": {
      "text/plain": [
       "55532"
      ]
     },
     "execution_count": 45,
     "metadata": {},
     "output_type": "execute_result"
    }
   ],
   "execution_count": 45
  },
  {
   "metadata": {
    "ExecuteTime": {
     "end_time": "2024-07-22T12:01:53.461556Z",
     "start_time": "2024-07-22T12:01:53.456847Z"
    }
   },
   "cell_type": "code",
   "source": [
    "traning_data = {}\n",
    "\n",
    "for key in keys:\n",
    "    traning_data[key] = data.item().get(key)"
   ],
   "outputs": [],
   "execution_count": 46
  },
  {
   "metadata": {
    "ExecuteTime": {
     "end_time": "2024-07-22T12:01:53.873154Z",
     "start_time": "2024-07-22T12:01:53.870310Z"
    }
   },
   "cell_type": "code",
   "source": [
    "def padding_data(combo):\n",
    "    for key in keys:\n",
    "        combo[key] = np.pad(combo[key], (0, max_length - len(combo[key])), mode='constant', constant_values=0)\n",
    "    return combo"
   ],
   "outputs": [],
   "execution_count": 47
  },
  {
   "metadata": {
    "ExecuteTime": {
     "end_time": "2024-07-22T12:01:54.519259Z",
     "start_time": "2024-07-22T12:01:54.489876Z"
    }
   },
   "cell_type": "code",
   "source": "training_data = padding_data(traning_data)",
   "outputs": [],
   "execution_count": 48
  },
  {
   "metadata": {
    "ExecuteTime": {
     "end_time": "2024-07-22T12:01:54.948592Z",
     "start_time": "2024-07-22T12:01:54.935486Z"
    }
   },
   "cell_type": "code",
   "source": "traning_matrix = np.array([values for values in traning_data.values()])",
   "outputs": [],
   "execution_count": 49
  },
  {
   "metadata": {
    "ExecuteTime": {
     "end_time": "2024-07-22T12:01:55.340700Z",
     "start_time": "2024-07-22T12:01:55.336109Z"
    }
   },
   "cell_type": "code",
   "source": "traning_matrix.shape",
   "outputs": [
    {
     "data": {
      "text/plain": [
       "(285, 55532)"
      ]
     },
     "execution_count": 50,
     "metadata": {},
     "output_type": "execute_result"
    }
   ],
   "execution_count": 50
  },
  {
   "metadata": {
    "ExecuteTime": {
     "end_time": "2024-07-22T12:01:55.882246Z",
     "start_time": "2024-07-22T12:01:55.878852Z"
    }
   },
   "cell_type": "code",
   "source": "traning_matrix = traning_matrix.T",
   "outputs": [],
   "execution_count": 51
  },
  {
   "metadata": {
    "ExecuteTime": {
     "end_time": "2024-07-22T12:01:56.241814Z",
     "start_time": "2024-07-22T12:01:56.238448Z"
    }
   },
   "cell_type": "code",
   "source": "traning_matrix.shape",
   "outputs": [
    {
     "data": {
      "text/plain": [
       "(55532, 285)"
      ]
     },
     "execution_count": 52,
     "metadata": {},
     "output_type": "execute_result"
    }
   ],
   "execution_count": 52
  },
  {
   "metadata": {
    "ExecuteTime": {
     "end_time": "2024-07-22T12:01:56.621976Z",
     "start_time": "2024-07-22T12:01:56.617067Z"
    }
   },
   "cell_type": "code",
   "source": "traning_matrix.shape",
   "outputs": [
    {
     "data": {
      "text/plain": [
       "(55532, 285)"
      ]
     },
     "execution_count": 53,
     "metadata": {},
     "output_type": "execute_result"
    }
   ],
   "execution_count": 53
  },
  {
   "metadata": {
    "ExecuteTime": {
     "end_time": "2024-07-22T12:01:57.101234Z",
     "start_time": "2024-07-22T12:01:57.080210Z"
    }
   },
   "cell_type": "code",
   "source": "clean_matrix = traning_matrix[:,~np.all(np.isnan(traning_matrix), axis=0)]",
   "outputs": [],
   "execution_count": 54
  },
  {
   "metadata": {
    "ExecuteTime": {
     "end_time": "2024-07-22T12:01:57.634081Z",
     "start_time": "2024-07-22T12:01:57.509712Z"
    }
   },
   "cell_type": "code",
   "source": [
    "from sklearn.model_selection import train_test_split\n",
    "\n",
    "x_train, x_test = train_test_split(clean_matrix, test_size=0.2, random_state=42)\n"
   ],
   "outputs": [],
   "execution_count": 55
  },
  {
   "cell_type": "code",
   "metadata": {
    "id": "9aJJcnUFC-UA",
    "ExecuteTime": {
     "end_time": "2024-07-22T12:01:58.127813Z",
     "start_time": "2024-07-22T12:01:58.123419Z"
    }
   },
   "source": [
    "\"\"\"(x_train, y_train), (x_test, y_test) = mnist.load_data()\n",
    "\n",
    "x_train = x_train / 255.\n",
    "x_test = x_test / 255.\"\"\""
   ],
   "outputs": [
    {
     "data": {
      "text/plain": [
       "'(x_train, y_train), (x_test, y_test) = mnist.load_data()\\n\\nx_train = x_train / 255.\\nx_test = x_test / 255.'"
      ]
     },
     "execution_count": 56,
     "metadata": {},
     "output_type": "execute_result"
    }
   ],
   "execution_count": 56
  },
  {
   "cell_type": "markdown",
   "source": [
    "# Reshape data (only if you use the fully connected network)"
   ],
   "metadata": {
    "id": "q6IHiJhV8ISX"
   }
  },
  {
   "cell_type": "code",
   "source": [
    "x_train = x_train.reshape((x_train.shape[0], -1))\n",
    "x_test = x_test.reshape((x_test.shape[0], -1))"
   ],
   "metadata": {
    "id": "fyBWn6wD8R7g",
    "ExecuteTime": {
     "end_time": "2024-07-22T12:01:59.452698Z",
     "start_time": "2024-07-22T12:01:59.449381Z"
    }
   },
   "outputs": [],
   "execution_count": 57
  },
  {
   "metadata": {
    "ExecuteTime": {
     "end_time": "2024-07-22T12:01:59.920128Z",
     "start_time": "2024-07-22T12:01:59.916036Z"
    }
   },
   "cell_type": "code",
   "source": "x_train.shape",
   "outputs": [
    {
     "data": {
      "text/plain": [
       "(44425, 285)"
      ]
     },
     "execution_count": 58,
     "metadata": {},
     "output_type": "execute_result"
    }
   ],
   "execution_count": 58
  },
  {
   "metadata": {
    "ExecuteTime": {
     "end_time": "2024-07-22T12:02:00.315293Z",
     "start_time": "2024-07-22T12:02:00.310523Z"
    }
   },
   "cell_type": "code",
   "source": "x_test.shape",
   "outputs": [
    {
     "data": {
      "text/plain": [
       "(11107, 285)"
      ]
     },
     "execution_count": 59,
     "metadata": {},
     "output_type": "execute_result"
    }
   ],
   "execution_count": 59
  },
  {
   "cell_type": "markdown",
   "source": [
    "# Hyperparameters"
   ],
   "metadata": {
    "id": "5BbesywEH13h"
   }
  },
  {
   "cell_type": "code",
   "source": [
    "encoding_dim = 60 # valid for fully connected network only\n",
    "batch_size = 64\n",
    "epochs = 100 #100"
   ],
   "metadata": {
    "id": "MleFCJdDH4f2",
    "ExecuteTime": {
     "end_time": "2024-07-22T13:36:34.989634Z",
     "start_time": "2024-07-22T13:36:34.986402Z"
    }
   },
   "outputs": [],
   "execution_count": 214
  },
  {
   "cell_type": "markdown",
   "source": [
    "# **Fully connected autoencoder**"
   ],
   "metadata": {
    "id": "R1ERftJ25xE3"
   }
  },
  {
   "cell_type": "code",
   "source": [
    "input_shape = x_train.shape[1]\n",
    "# This is our input image\n",
    "input_img = layers.Input(shape=(input_shape,))\n",
    "# \"encoded\" is the encoded representation of the input\n",
    "encoded = layers.Dense(518, activation='relu')(input_img)\n",
    "encoded = layers.Dense(256, activation='relu')(encoded)\n",
    "encoded = layers.Dense(128, activation='relu')(encoded)\n",
    "encoded = layers.Dropout(0.05)(encoded)\n",
    "encoded = layers.Dense(encoding_dim, activation='linear')(encoded)\n",
    "\n",
    "# \"decoded\" is the lossy reconstruction of the input\n",
    "decoded = layers.Dense(128, activation='relu')(encoded)\n",
    "decoded = layers.Dense(256, activation='relu')(decoded)\n",
    "decoded = layers.Dense(518, activation='relu')(decoded)\n",
    "decoded = layers.Dropout(0.05)(decoded)\n",
    "decoded = layers.Dense(input_shape, activation='sigmoid')(decoded)\n",
    "\n",
    "\n",
    "# This model maps an input to its reconstruction\n",
    "autoencoder = Model(input_img, decoded)\n",
    "#encoder = Model(input_img, encoded)\n",
    "\n",
    "autoencoder.compile(optimizer=\"adam\", loss=\"binary_crossentropy\")\n",
    "autoencoder.summary()\n"
   ],
   "metadata": {
    "outputId": "a327d746-ba95-43bc-e182-4ff739d86989",
    "colab": {
     "base_uri": "https://localhost:8080/"
    },
    "id": "RjCBg16J5xE9",
    "ExecuteTime": {
     "end_time": "2024-07-22T13:36:36.193927Z",
     "start_time": "2024-07-22T13:36:36.135570Z"
    }
   },
   "outputs": [
    {
     "data": {
      "text/plain": [
       "\u001B[1mModel: \"functional_9\"\u001B[0m\n"
      ],
      "text/html": [
       "<pre style=\"white-space:pre;overflow-x:auto;line-height:normal;font-family:Menlo,'DejaVu Sans Mono',consolas,'Courier New',monospace\"><span style=\"font-weight: bold\">Model: \"functional_9\"</span>\n",
       "</pre>\n"
      ]
     },
     "metadata": {},
     "output_type": "display_data"
    },
    {
     "data": {
      "text/plain": [
       "┏━━━━━━━━━━━━━━━━━━━━━━━━━━━━━━━━━┳━━━━━━━━━━━━━━━━━━━━━━━━┳━━━━━━━━━━━━━━━┓\n",
       "┃\u001B[1m \u001B[0m\u001B[1mLayer (type)                   \u001B[0m\u001B[1m \u001B[0m┃\u001B[1m \u001B[0m\u001B[1mOutput Shape          \u001B[0m\u001B[1m \u001B[0m┃\u001B[1m \u001B[0m\u001B[1m      Param #\u001B[0m\u001B[1m \u001B[0m┃\n",
       "┡━━━━━━━━━━━━━━━━━━━━━━━━━━━━━━━━━╇━━━━━━━━━━━━━━━━━━━━━━━━╇━━━━━━━━━━━━━━━┩\n",
       "│ input_layer_9 (\u001B[38;5;33mInputLayer\u001B[0m)      │ (\u001B[38;5;45mNone\u001B[0m, \u001B[38;5;34m285\u001B[0m)            │             \u001B[38;5;34m0\u001B[0m │\n",
       "├─────────────────────────────────┼────────────────────────┼───────────────┤\n",
       "│ dense_50 (\u001B[38;5;33mDense\u001B[0m)                │ (\u001B[38;5;45mNone\u001B[0m, \u001B[38;5;34m518\u001B[0m)            │       \u001B[38;5;34m148,148\u001B[0m │\n",
       "├─────────────────────────────────┼────────────────────────┼───────────────┤\n",
       "│ dense_51 (\u001B[38;5;33mDense\u001B[0m)                │ (\u001B[38;5;45mNone\u001B[0m, \u001B[38;5;34m256\u001B[0m)            │       \u001B[38;5;34m132,864\u001B[0m │\n",
       "├─────────────────────────────────┼────────────────────────┼───────────────┤\n",
       "│ dense_52 (\u001B[38;5;33mDense\u001B[0m)                │ (\u001B[38;5;45mNone\u001B[0m, \u001B[38;5;34m128\u001B[0m)            │        \u001B[38;5;34m32,896\u001B[0m │\n",
       "├─────────────────────────────────┼────────────────────────┼───────────────┤\n",
       "│ dropout_18 (\u001B[38;5;33mDropout\u001B[0m)            │ (\u001B[38;5;45mNone\u001B[0m, \u001B[38;5;34m128\u001B[0m)            │             \u001B[38;5;34m0\u001B[0m │\n",
       "├─────────────────────────────────┼────────────────────────┼───────────────┤\n",
       "│ dense_53 (\u001B[38;5;33mDense\u001B[0m)                │ (\u001B[38;5;45mNone\u001B[0m, \u001B[38;5;34m60\u001B[0m)             │         \u001B[38;5;34m7,740\u001B[0m │\n",
       "├─────────────────────────────────┼────────────────────────┼───────────────┤\n",
       "│ dense_54 (\u001B[38;5;33mDense\u001B[0m)                │ (\u001B[38;5;45mNone\u001B[0m, \u001B[38;5;34m128\u001B[0m)            │         \u001B[38;5;34m7,808\u001B[0m │\n",
       "├─────────────────────────────────┼────────────────────────┼───────────────┤\n",
       "│ dense_55 (\u001B[38;5;33mDense\u001B[0m)                │ (\u001B[38;5;45mNone\u001B[0m, \u001B[38;5;34m256\u001B[0m)            │        \u001B[38;5;34m33,024\u001B[0m │\n",
       "├─────────────────────────────────┼────────────────────────┼───────────────┤\n",
       "│ dense_56 (\u001B[38;5;33mDense\u001B[0m)                │ (\u001B[38;5;45mNone\u001B[0m, \u001B[38;5;34m518\u001B[0m)            │       \u001B[38;5;34m133,126\u001B[0m │\n",
       "├─────────────────────────────────┼────────────────────────┼───────────────┤\n",
       "│ dropout_19 (\u001B[38;5;33mDropout\u001B[0m)            │ (\u001B[38;5;45mNone\u001B[0m, \u001B[38;5;34m518\u001B[0m)            │             \u001B[38;5;34m0\u001B[0m │\n",
       "├─────────────────────────────────┼────────────────────────┼───────────────┤\n",
       "│ dense_57 (\u001B[38;5;33mDense\u001B[0m)                │ (\u001B[38;5;45mNone\u001B[0m, \u001B[38;5;34m285\u001B[0m)            │       \u001B[38;5;34m147,915\u001B[0m │\n",
       "└─────────────────────────────────┴────────────────────────┴───────────────┘\n"
      ],
      "text/html": [
       "<pre style=\"white-space:pre;overflow-x:auto;line-height:normal;font-family:Menlo,'DejaVu Sans Mono',consolas,'Courier New',monospace\">┏━━━━━━━━━━━━━━━━━━━━━━━━━━━━━━━━━┳━━━━━━━━━━━━━━━━━━━━━━━━┳━━━━━━━━━━━━━━━┓\n",
       "┃<span style=\"font-weight: bold\"> Layer (type)                    </span>┃<span style=\"font-weight: bold\"> Output Shape           </span>┃<span style=\"font-weight: bold\">       Param # </span>┃\n",
       "┡━━━━━━━━━━━━━━━━━━━━━━━━━━━━━━━━━╇━━━━━━━━━━━━━━━━━━━━━━━━╇━━━━━━━━━━━━━━━┩\n",
       "│ input_layer_9 (<span style=\"color: #0087ff; text-decoration-color: #0087ff\">InputLayer</span>)      │ (<span style=\"color: #00d7ff; text-decoration-color: #00d7ff\">None</span>, <span style=\"color: #00af00; text-decoration-color: #00af00\">285</span>)            │             <span style=\"color: #00af00; text-decoration-color: #00af00\">0</span> │\n",
       "├─────────────────────────────────┼────────────────────────┼───────────────┤\n",
       "│ dense_50 (<span style=\"color: #0087ff; text-decoration-color: #0087ff\">Dense</span>)                │ (<span style=\"color: #00d7ff; text-decoration-color: #00d7ff\">None</span>, <span style=\"color: #00af00; text-decoration-color: #00af00\">518</span>)            │       <span style=\"color: #00af00; text-decoration-color: #00af00\">148,148</span> │\n",
       "├─────────────────────────────────┼────────────────────────┼───────────────┤\n",
       "│ dense_51 (<span style=\"color: #0087ff; text-decoration-color: #0087ff\">Dense</span>)                │ (<span style=\"color: #00d7ff; text-decoration-color: #00d7ff\">None</span>, <span style=\"color: #00af00; text-decoration-color: #00af00\">256</span>)            │       <span style=\"color: #00af00; text-decoration-color: #00af00\">132,864</span> │\n",
       "├─────────────────────────────────┼────────────────────────┼───────────────┤\n",
       "│ dense_52 (<span style=\"color: #0087ff; text-decoration-color: #0087ff\">Dense</span>)                │ (<span style=\"color: #00d7ff; text-decoration-color: #00d7ff\">None</span>, <span style=\"color: #00af00; text-decoration-color: #00af00\">128</span>)            │        <span style=\"color: #00af00; text-decoration-color: #00af00\">32,896</span> │\n",
       "├─────────────────────────────────┼────────────────────────┼───────────────┤\n",
       "│ dropout_18 (<span style=\"color: #0087ff; text-decoration-color: #0087ff\">Dropout</span>)            │ (<span style=\"color: #00d7ff; text-decoration-color: #00d7ff\">None</span>, <span style=\"color: #00af00; text-decoration-color: #00af00\">128</span>)            │             <span style=\"color: #00af00; text-decoration-color: #00af00\">0</span> │\n",
       "├─────────────────────────────────┼────────────────────────┼───────────────┤\n",
       "│ dense_53 (<span style=\"color: #0087ff; text-decoration-color: #0087ff\">Dense</span>)                │ (<span style=\"color: #00d7ff; text-decoration-color: #00d7ff\">None</span>, <span style=\"color: #00af00; text-decoration-color: #00af00\">60</span>)             │         <span style=\"color: #00af00; text-decoration-color: #00af00\">7,740</span> │\n",
       "├─────────────────────────────────┼────────────────────────┼───────────────┤\n",
       "│ dense_54 (<span style=\"color: #0087ff; text-decoration-color: #0087ff\">Dense</span>)                │ (<span style=\"color: #00d7ff; text-decoration-color: #00d7ff\">None</span>, <span style=\"color: #00af00; text-decoration-color: #00af00\">128</span>)            │         <span style=\"color: #00af00; text-decoration-color: #00af00\">7,808</span> │\n",
       "├─────────────────────────────────┼────────────────────────┼───────────────┤\n",
       "│ dense_55 (<span style=\"color: #0087ff; text-decoration-color: #0087ff\">Dense</span>)                │ (<span style=\"color: #00d7ff; text-decoration-color: #00d7ff\">None</span>, <span style=\"color: #00af00; text-decoration-color: #00af00\">256</span>)            │        <span style=\"color: #00af00; text-decoration-color: #00af00\">33,024</span> │\n",
       "├─────────────────────────────────┼────────────────────────┼───────────────┤\n",
       "│ dense_56 (<span style=\"color: #0087ff; text-decoration-color: #0087ff\">Dense</span>)                │ (<span style=\"color: #00d7ff; text-decoration-color: #00d7ff\">None</span>, <span style=\"color: #00af00; text-decoration-color: #00af00\">518</span>)            │       <span style=\"color: #00af00; text-decoration-color: #00af00\">133,126</span> │\n",
       "├─────────────────────────────────┼────────────────────────┼───────────────┤\n",
       "│ dropout_19 (<span style=\"color: #0087ff; text-decoration-color: #0087ff\">Dropout</span>)            │ (<span style=\"color: #00d7ff; text-decoration-color: #00d7ff\">None</span>, <span style=\"color: #00af00; text-decoration-color: #00af00\">518</span>)            │             <span style=\"color: #00af00; text-decoration-color: #00af00\">0</span> │\n",
       "├─────────────────────────────────┼────────────────────────┼───────────────┤\n",
       "│ dense_57 (<span style=\"color: #0087ff; text-decoration-color: #0087ff\">Dense</span>)                │ (<span style=\"color: #00d7ff; text-decoration-color: #00d7ff\">None</span>, <span style=\"color: #00af00; text-decoration-color: #00af00\">285</span>)            │       <span style=\"color: #00af00; text-decoration-color: #00af00\">147,915</span> │\n",
       "└─────────────────────────────────┴────────────────────────┴───────────────┘\n",
       "</pre>\n"
      ]
     },
     "metadata": {},
     "output_type": "display_data"
    },
    {
     "data": {
      "text/plain": [
       "\u001B[1m Total params: \u001B[0m\u001B[38;5;34m643,521\u001B[0m (2.45 MB)\n"
      ],
      "text/html": [
       "<pre style=\"white-space:pre;overflow-x:auto;line-height:normal;font-family:Menlo,'DejaVu Sans Mono',consolas,'Courier New',monospace\"><span style=\"font-weight: bold\"> Total params: </span><span style=\"color: #00af00; text-decoration-color: #00af00\">643,521</span> (2.45 MB)\n",
       "</pre>\n"
      ]
     },
     "metadata": {},
     "output_type": "display_data"
    },
    {
     "data": {
      "text/plain": [
       "\u001B[1m Trainable params: \u001B[0m\u001B[38;5;34m643,521\u001B[0m (2.45 MB)\n"
      ],
      "text/html": [
       "<pre style=\"white-space:pre;overflow-x:auto;line-height:normal;font-family:Menlo,'DejaVu Sans Mono',consolas,'Courier New',monospace\"><span style=\"font-weight: bold\"> Trainable params: </span><span style=\"color: #00af00; text-decoration-color: #00af00\">643,521</span> (2.45 MB)\n",
       "</pre>\n"
      ]
     },
     "metadata": {},
     "output_type": "display_data"
    },
    {
     "data": {
      "text/plain": [
       "\u001B[1m Non-trainable params: \u001B[0m\u001B[38;5;34m0\u001B[0m (0.00 B)\n"
      ],
      "text/html": [
       "<pre style=\"white-space:pre;overflow-x:auto;line-height:normal;font-family:Menlo,'DejaVu Sans Mono',consolas,'Courier New',monospace\"><span style=\"font-weight: bold\"> Non-trainable params: </span><span style=\"color: #00af00; text-decoration-color: #00af00\">0</span> (0.00 B)\n",
       "</pre>\n"
      ]
     },
     "metadata": {},
     "output_type": "display_data"
    }
   ],
   "execution_count": 215
  },
  {
   "cell_type": "markdown",
   "source": [
    "# **Convolutional autoencoder**\n",
    "\n",
    "Should work better than the fully connected one"
   ],
   "metadata": {
    "id": "lWpOzb8h5xE-"
   }
  },
  {
   "cell_type": "code",
   "metadata": {
    "outputId": "30baed1c-f7cd-436c-fe55-2ef1fdb6aeb8",
    "colab": {
     "base_uri": "https://localhost:8080/",
     "height": 106
    },
    "id": "_NiO0FKx5xE-",
    "ExecuteTime": {
     "end_time": "2024-07-22T13:36:37.230417Z",
     "start_time": "2024-07-22T13:36:37.225954Z"
    }
   },
   "source": [
    "'''\n",
    "# Autoencoder with convolutional network\n",
    "input = layers.Input(shape=(28, 28, 1))\n",
    "\n",
    "# Encoder\n",
    "x = layers.Conv2D(32, (3, 3), activation=\"relu\", padding=\"same\")(input)\n",
    "x = layers.MaxPooling2D((2, 2), padding=\"same\")(x)\n",
    "x = layers.Conv2D(32, (3, 3), activation=\"relu\", padding=\"same\")(x)\n",
    "x = layers.MaxPooling2D((2, 2), padding=\"same\")(x)\n",
    "\n",
    "# Decoder\n",
    "x = layers.Conv2DTranspose(32, (3, 3), strides=2, activation=\"relu\", padding=\"same\")(x)\n",
    "x = layers.Conv2DTranspose(32, (3, 3), strides=2, activation=\"relu\", padding=\"same\")(x)\n",
    "x = layers.Conv2D(1, (3, 3), activation=\"sigmoid\", padding=\"same\")(x)\n",
    "\n",
    "# Autoencoder\n",
    "autoencoder = Model(input, x)\n",
    "autoencoder.compile(optimizer=\"adam\", loss=\"binary_crossentropy\")\n",
    "autoencoder.summary()\n",
    "'''"
   ],
   "outputs": [
    {
     "data": {
      "text/plain": [
       "'\\n# Autoencoder with convolutional network\\ninput = layers.Input(shape=(28, 28, 1))\\n\\n# Encoder\\nx = layers.Conv2D(32, (3, 3), activation=\"relu\", padding=\"same\")(input)\\nx = layers.MaxPooling2D((2, 2), padding=\"same\")(x)\\nx = layers.Conv2D(32, (3, 3), activation=\"relu\", padding=\"same\")(x)\\nx = layers.MaxPooling2D((2, 2), padding=\"same\")(x)\\n\\n# Decoder\\nx = layers.Conv2DTranspose(32, (3, 3), strides=2, activation=\"relu\", padding=\"same\")(x)\\nx = layers.Conv2DTranspose(32, (3, 3), strides=2, activation=\"relu\", padding=\"same\")(x)\\nx = layers.Conv2D(1, (3, 3), activation=\"sigmoid\", padding=\"same\")(x)\\n\\n# Autoencoder\\nautoencoder = Model(input, x)\\nautoencoder.compile(optimizer=\"adam\", loss=\"binary_crossentropy\")\\nautoencoder.summary()\\n'"
      ]
     },
     "execution_count": 216,
     "metadata": {},
     "output_type": "execute_result"
    }
   ],
   "execution_count": 216
  },
  {
   "cell_type": "markdown",
   "source": [
    "# Train the autoencoder"
   ],
   "metadata": {
    "id": "z-5aojR5_0No"
   }
  },
  {
   "cell_type": "code",
   "source": [
    "autoencoder.compile(optimizer='adam', loss='binary_crossentropy')\n",
    "history = autoencoder.fit(x_train, x_train, batch_size=batch_size, epochs=epochs, validation_data=(x_test, x_test))"
   ],
   "metadata": {
    "colab": {
     "base_uri": "https://localhost:8080/"
    },
    "id": "QF3580pkAGSj",
    "outputId": "33c64483-47bd-4202-ae9f-f210b2314965",
    "jupyter": {
     "is_executing": true
    },
    "ExecuteTime": {
     "start_time": "2024-07-22T13:36:37.935577Z"
    }
   },
   "outputs": [
    {
     "name": "stdout",
     "output_type": "stream",
     "text": [
      "Epoch 1/100\n",
      "\u001B[1m695/695\u001B[0m \u001B[32m━━━━━━━━━━━━━━━━━━━━\u001B[0m\u001B[37m\u001B[0m \u001B[1m8s\u001B[0m 10ms/step - loss: 0.5861 - val_loss: 0.5623\n",
      "Epoch 2/100\n",
      "\u001B[1m695/695\u001B[0m \u001B[32m━━━━━━━━━━━━━━━━━━━━\u001B[0m\u001B[37m\u001B[0m \u001B[1m7s\u001B[0m 9ms/step - loss: 0.5625 - val_loss: 0.5601\n",
      "Epoch 3/100\n",
      "\u001B[1m695/695\u001B[0m \u001B[32m━━━━━━━━━━━━━━━━━━━━\u001B[0m\u001B[37m\u001B[0m \u001B[1m7s\u001B[0m 9ms/step - loss: 0.5597 - val_loss: 0.5578\n",
      "Epoch 4/100\n",
      "\u001B[1m695/695\u001B[0m \u001B[32m━━━━━━━━━━━━━━━━━━━━\u001B[0m\u001B[37m\u001B[0m \u001B[1m7s\u001B[0m 10ms/step - loss: 0.5568 - val_loss: 0.5549\n",
      "Epoch 5/100\n",
      "\u001B[1m695/695\u001B[0m \u001B[32m━━━━━━━━━━━━━━━━━━━━\u001B[0m\u001B[37m\u001B[0m \u001B[1m7s\u001B[0m 9ms/step - loss: 0.5580 - val_loss: 0.5546\n",
      "Epoch 6/100\n",
      "\u001B[1m695/695\u001B[0m \u001B[32m━━━━━━━━━━━━━━━━━━━━\u001B[0m\u001B[37m\u001B[0m \u001B[1m6s\u001B[0m 9ms/step - loss: 0.5551 - val_loss: 0.5552\n",
      "Epoch 7/100\n",
      "\u001B[1m695/695\u001B[0m \u001B[32m━━━━━━━━━━━━━━━━━━━━\u001B[0m\u001B[37m\u001B[0m \u001B[1m7s\u001B[0m 10ms/step - loss: 0.5550 - val_loss: 0.5529\n",
      "Epoch 8/100\n",
      "\u001B[1m695/695\u001B[0m \u001B[32m━━━━━━━━━━━━━━━━━━━━\u001B[0m\u001B[37m\u001B[0m \u001B[1m7s\u001B[0m 10ms/step - loss: 0.5540 - val_loss: 0.5537\n",
      "Epoch 9/100\n",
      "\u001B[1m695/695\u001B[0m \u001B[32m━━━━━━━━━━━━━━━━━━━━\u001B[0m\u001B[37m\u001B[0m \u001B[1m7s\u001B[0m 9ms/step - loss: 0.5538 - val_loss: 0.5523\n",
      "Epoch 10/100\n",
      "\u001B[1m695/695\u001B[0m \u001B[32m━━━━━━━━━━━━━━━━━━━━\u001B[0m\u001B[37m\u001B[0m \u001B[1m7s\u001B[0m 9ms/step - loss: 0.5533 - val_loss: 0.5523\n",
      "Epoch 11/100\n",
      "\u001B[1m695/695\u001B[0m \u001B[32m━━━━━━━━━━━━━━━━━━━━\u001B[0m\u001B[37m\u001B[0m \u001B[1m6s\u001B[0m 9ms/step - loss: 0.5529 - val_loss: 0.5518\n",
      "Epoch 12/100\n",
      "\u001B[1m695/695\u001B[0m \u001B[32m━━━━━━━━━━━━━━━━━━━━\u001B[0m\u001B[37m\u001B[0m \u001B[1m7s\u001B[0m 9ms/step - loss: 0.5528 - val_loss: 0.5517\n",
      "Epoch 13/100\n",
      "\u001B[1m695/695\u001B[0m \u001B[32m━━━━━━━━━━━━━━━━━━━━\u001B[0m\u001B[37m\u001B[0m \u001B[1m7s\u001B[0m 10ms/step - loss: 0.5524 - val_loss: 0.5514\n",
      "Epoch 14/100\n",
      "\u001B[1m695/695\u001B[0m \u001B[32m━━━━━━━━━━━━━━━━━━━━\u001B[0m\u001B[37m\u001B[0m \u001B[1m7s\u001B[0m 10ms/step - loss: 0.5526 - val_loss: 0.5513\n",
      "Epoch 15/100\n",
      "\u001B[1m695/695\u001B[0m \u001B[32m━━━━━━━━━━━━━━━━━━━━\u001B[0m\u001B[37m\u001B[0m \u001B[1m10s\u001B[0m 9ms/step - loss: 0.5523 - val_loss: 0.5519\n",
      "Epoch 16/100\n",
      "\u001B[1m695/695\u001B[0m \u001B[32m━━━━━━━━━━━━━━━━━━━━\u001B[0m\u001B[37m\u001B[0m \u001B[1m7s\u001B[0m 9ms/step - loss: 0.5520 - val_loss: 0.5515\n",
      "Epoch 17/100\n",
      "\u001B[1m695/695\u001B[0m \u001B[32m━━━━━━━━━━━━━━━━━━━━\u001B[0m\u001B[37m\u001B[0m \u001B[1m6s\u001B[0m 9ms/step - loss: 0.5521 - val_loss: 0.5516\n",
      "Epoch 18/100\n",
      "\u001B[1m695/695\u001B[0m \u001B[32m━━━━━━━━━━━━━━━━━━━━\u001B[0m\u001B[37m\u001B[0m \u001B[1m6s\u001B[0m 9ms/step - loss: 0.5520 - val_loss: 0.5512\n",
      "Epoch 19/100\n",
      "\u001B[1m695/695\u001B[0m \u001B[32m━━━━━━━━━━━━━━━━━━━━\u001B[0m\u001B[37m\u001B[0m \u001B[1m6s\u001B[0m 9ms/step - loss: 0.5518 - val_loss: 0.5512\n",
      "Epoch 20/100\n",
      "\u001B[1m695/695\u001B[0m \u001B[32m━━━━━━━━━━━━━━━━━━━━\u001B[0m\u001B[37m\u001B[0m \u001B[1m6s\u001B[0m 9ms/step - loss: 0.5517 - val_loss: 0.5509\n",
      "Epoch 21/100\n",
      "\u001B[1m695/695\u001B[0m \u001B[32m━━━━━━━━━━━━━━━━━━━━\u001B[0m\u001B[37m\u001B[0m \u001B[1m6s\u001B[0m 9ms/step - loss: 0.5512 - val_loss: 0.5515\n",
      "Epoch 22/100\n",
      "\u001B[1m695/695\u001B[0m \u001B[32m━━━━━━━━━━━━━━━━━━━━\u001B[0m\u001B[37m\u001B[0m \u001B[1m7s\u001B[0m 10ms/step - loss: 0.5514 - val_loss: 0.5527\n",
      "Epoch 23/100\n",
      "\u001B[1m695/695\u001B[0m \u001B[32m━━━━━━━━━━━━━━━━━━━━\u001B[0m\u001B[37m\u001B[0m \u001B[1m7s\u001B[0m 10ms/step - loss: 0.5546 - val_loss: 0.5504\n",
      "Epoch 24/100\n",
      "\u001B[1m695/695\u001B[0m \u001B[32m━━━━━━━━━━━━━━━━━━━━\u001B[0m\u001B[37m\u001B[0m \u001B[1m6s\u001B[0m 9ms/step - loss: 0.5511 - val_loss: 0.5507\n",
      "Epoch 25/100\n",
      "\u001B[1m695/695\u001B[0m \u001B[32m━━━━━━━━━━━━━━━━━━━━\u001B[0m\u001B[37m\u001B[0m \u001B[1m6s\u001B[0m 9ms/step - loss: 0.5510 - val_loss: 0.5502\n",
      "Epoch 26/100\n",
      "\u001B[1m695/695\u001B[0m \u001B[32m━━━━━━━━━━━━━━━━━━━━\u001B[0m\u001B[37m\u001B[0m \u001B[1m6s\u001B[0m 9ms/step - loss: 0.5509 - val_loss: 0.5501\n",
      "Epoch 27/100\n",
      "\u001B[1m695/695\u001B[0m \u001B[32m━━━━━━━━━━━━━━━━━━━━\u001B[0m\u001B[37m\u001B[0m \u001B[1m7s\u001B[0m 10ms/step - loss: 0.5510 - val_loss: 0.5504\n",
      "Epoch 28/100\n",
      "\u001B[1m695/695\u001B[0m \u001B[32m━━━━━━━━━━━━━━━━━━━━\u001B[0m\u001B[37m\u001B[0m \u001B[1m7s\u001B[0m 9ms/step - loss: 0.5508 - val_loss: 0.5501\n",
      "Epoch 29/100\n",
      "\u001B[1m695/695\u001B[0m \u001B[32m━━━━━━━━━━━━━━━━━━━━\u001B[0m\u001B[37m\u001B[0m \u001B[1m7s\u001B[0m 9ms/step - loss: 0.5511 - val_loss: 0.5499\n",
      "Epoch 30/100\n",
      "\u001B[1m695/695\u001B[0m \u001B[32m━━━━━━━━━━━━━━━━━━━━\u001B[0m\u001B[37m\u001B[0m \u001B[1m6s\u001B[0m 9ms/step - loss: 0.5511 - val_loss: 0.5504\n",
      "Epoch 31/100\n",
      "\u001B[1m695/695\u001B[0m \u001B[32m━━━━━━━━━━━━━━━━━━━━\u001B[0m\u001B[37m\u001B[0m \u001B[1m7s\u001B[0m 10ms/step - loss: 0.5506 - val_loss: 0.5504\n",
      "Epoch 32/100\n",
      "\u001B[1m695/695\u001B[0m \u001B[32m━━━━━━━━━━━━━━━━━━━━\u001B[0m\u001B[37m\u001B[0m \u001B[1m7s\u001B[0m 10ms/step - loss: 0.5513 - val_loss: 0.5501\n",
      "Epoch 33/100\n",
      "\u001B[1m695/695\u001B[0m \u001B[32m━━━━━━━━━━━━━━━━━━━━\u001B[0m\u001B[37m\u001B[0m \u001B[1m7s\u001B[0m 10ms/step - loss: 0.5505 - val_loss: 0.5503\n",
      "Epoch 34/100\n",
      "\u001B[1m695/695\u001B[0m \u001B[32m━━━━━━━━━━━━━━━━━━━━\u001B[0m\u001B[37m\u001B[0m \u001B[1m7s\u001B[0m 9ms/step - loss: 0.5507 - val_loss: 0.5498\n",
      "Epoch 35/100\n",
      "\u001B[1m695/695\u001B[0m \u001B[32m━━━━━━━━━━━━━━━━━━━━\u001B[0m\u001B[37m\u001B[0m \u001B[1m6s\u001B[0m 9ms/step - loss: 0.5503 - val_loss: 0.5497\n",
      "Epoch 36/100\n",
      "\u001B[1m695/695\u001B[0m \u001B[32m━━━━━━━━━━━━━━━━━━━━\u001B[0m\u001B[37m\u001B[0m \u001B[1m6s\u001B[0m 9ms/step - loss: 0.5507 - val_loss: 0.5496\n",
      "Epoch 37/100\n",
      "\u001B[1m695/695\u001B[0m \u001B[32m━━━━━━━━━━━━━━━━━━━━\u001B[0m\u001B[37m\u001B[0m \u001B[1m6s\u001B[0m 9ms/step - loss: 0.5503 - val_loss: 0.5498\n",
      "Epoch 38/100\n",
      "\u001B[1m695/695\u001B[0m \u001B[32m━━━━━━━━━━━━━━━━━━━━\u001B[0m\u001B[37m\u001B[0m \u001B[1m7s\u001B[0m 10ms/step - loss: 0.5503 - val_loss: 0.5500\n",
      "Epoch 39/100\n",
      "\u001B[1m695/695\u001B[0m \u001B[32m━━━━━━━━━━━━━━━━━━━━\u001B[0m\u001B[37m\u001B[0m \u001B[1m6s\u001B[0m 9ms/step - loss: 0.5503 - val_loss: 0.5494\n",
      "Epoch 40/100\n",
      "\u001B[1m695/695\u001B[0m \u001B[32m━━━━━━━━━━━━━━━━━━━━\u001B[0m\u001B[37m\u001B[0m \u001B[1m7s\u001B[0m 10ms/step - loss: 0.5504 - val_loss: 0.5495\n",
      "Epoch 41/100\n",
      "\u001B[1m695/695\u001B[0m \u001B[32m━━━━━━━━━━━━━━━━━━━━\u001B[0m\u001B[37m\u001B[0m \u001B[1m6s\u001B[0m 9ms/step - loss: 0.5505 - val_loss: 0.5498\n",
      "Epoch 42/100\n",
      "\u001B[1m695/695\u001B[0m \u001B[32m━━━━━━━━━━━━━━━━━━━━\u001B[0m\u001B[37m\u001B[0m \u001B[1m7s\u001B[0m 9ms/step - loss: 0.5499 - val_loss: 0.5494\n",
      "Epoch 43/100\n",
      "\u001B[1m695/695\u001B[0m \u001B[32m━━━━━━━━━━━━━━━━━━━━\u001B[0m\u001B[37m\u001B[0m \u001B[1m7s\u001B[0m 10ms/step - loss: 0.5501 - val_loss: 0.5497\n",
      "Epoch 44/100\n",
      "\u001B[1m695/695\u001B[0m \u001B[32m━━━━━━━━━━━━━━━━━━━━\u001B[0m\u001B[37m\u001B[0m \u001B[1m7s\u001B[0m 9ms/step - loss: 0.5501 - val_loss: 0.5510\n",
      "Epoch 45/100\n",
      "\u001B[1m695/695\u001B[0m \u001B[32m━━━━━━━━━━━━━━━━━━━━\u001B[0m\u001B[37m\u001B[0m \u001B[1m6s\u001B[0m 9ms/step - loss: 0.5525 - val_loss: 0.5496\n",
      "Epoch 46/100\n",
      "\u001B[1m695/695\u001B[0m \u001B[32m━━━━━━━━━━━━━━━━━━━━\u001B[0m\u001B[37m\u001B[0m \u001B[1m6s\u001B[0m 9ms/step - loss: 0.5499 - val_loss: 0.5493\n",
      "Epoch 47/100\n",
      "\u001B[1m695/695\u001B[0m \u001B[32m━━━━━━━━━━━━━━━━━━━━\u001B[0m\u001B[37m\u001B[0m \u001B[1m6s\u001B[0m 9ms/step - loss: 0.5499 - val_loss: 0.5493\n",
      "Epoch 48/100\n",
      "\u001B[1m695/695\u001B[0m \u001B[32m━━━━━━━━━━━━━━━━━━━━\u001B[0m\u001B[37m\u001B[0m \u001B[1m7s\u001B[0m 9ms/step - loss: 0.5498 - val_loss: 0.5500\n",
      "Epoch 49/100\n",
      "\u001B[1m695/695\u001B[0m \u001B[32m━━━━━━━━━━━━━━━━━━━━\u001B[0m\u001B[37m\u001B[0m \u001B[1m6s\u001B[0m 9ms/step - loss: 0.5501 - val_loss: 0.5494\n",
      "Epoch 50/100\n",
      "\u001B[1m695/695\u001B[0m \u001B[32m━━━━━━━━━━━━━━━━━━━━\u001B[0m\u001B[37m\u001B[0m \u001B[1m6s\u001B[0m 9ms/step - loss: 0.5497 - val_loss: 0.5497\n",
      "Epoch 51/100\n",
      "\u001B[1m695/695\u001B[0m \u001B[32m━━━━━━━━━━━━━━━━━━━━\u001B[0m\u001B[37m\u001B[0m \u001B[1m6s\u001B[0m 9ms/step - loss: 0.5506 - val_loss: 0.5491\n",
      "Epoch 52/100\n",
      "\u001B[1m695/695\u001B[0m \u001B[32m━━━━━━━━━━━━━━━━━━━━\u001B[0m\u001B[37m\u001B[0m \u001B[1m6s\u001B[0m 9ms/step - loss: 0.5498 - val_loss: 0.5490\n",
      "Epoch 53/100\n",
      "\u001B[1m695/695\u001B[0m \u001B[32m━━━━━━━━━━━━━━━━━━━━\u001B[0m\u001B[37m\u001B[0m \u001B[1m6s\u001B[0m 9ms/step - loss: 0.5497 - val_loss: 0.5490\n",
      "Epoch 54/100\n",
      "\u001B[1m695/695\u001B[0m \u001B[32m━━━━━━━━━━━━━━━━━━━━\u001B[0m\u001B[37m\u001B[0m \u001B[1m6s\u001B[0m 9ms/step - loss: 0.5497 - val_loss: 0.5490\n",
      "Epoch 55/100\n",
      "\u001B[1m695/695\u001B[0m \u001B[32m━━━━━━━━━━━━━━━━━━━━\u001B[0m\u001B[37m\u001B[0m \u001B[1m7s\u001B[0m 10ms/step - loss: 0.5508 - val_loss: 0.5492\n",
      "Epoch 56/100\n",
      "\u001B[1m695/695\u001B[0m \u001B[32m━━━━━━━━━━━━━━━━━━━━\u001B[0m\u001B[37m\u001B[0m \u001B[1m6s\u001B[0m 9ms/step - loss: 0.5494 - val_loss: 0.5491\n",
      "Epoch 57/100\n",
      "\u001B[1m695/695\u001B[0m \u001B[32m━━━━━━━━━━━━━━━━━━━━\u001B[0m\u001B[37m\u001B[0m \u001B[1m6s\u001B[0m 9ms/step - loss: 0.5496 - val_loss: 0.5488\n",
      "Epoch 58/100\n",
      "\u001B[1m695/695\u001B[0m \u001B[32m━━━━━━━━━━━━━━━━━━━━\u001B[0m\u001B[37m\u001B[0m \u001B[1m6s\u001B[0m 9ms/step - loss: 0.5495 - val_loss: 0.5490\n",
      "Epoch 59/100\n",
      "\u001B[1m695/695\u001B[0m \u001B[32m━━━━━━━━━━━━━━━━━━━━\u001B[0m\u001B[37m\u001B[0m \u001B[1m6s\u001B[0m 9ms/step - loss: 0.5510 - val_loss: 0.5489\n",
      "Epoch 60/100\n",
      "\u001B[1m695/695\u001B[0m \u001B[32m━━━━━━━━━━━━━━━━━━━━\u001B[0m\u001B[37m\u001B[0m \u001B[1m6s\u001B[0m 9ms/step - loss: 0.5498 - val_loss: 0.5489\n",
      "Epoch 61/100\n",
      "\u001B[1m695/695\u001B[0m \u001B[32m━━━━━━━━━━━━━━━━━━━━\u001B[0m\u001B[37m\u001B[0m \u001B[1m6s\u001B[0m 9ms/step - loss: 0.5494 - val_loss: 0.5488\n",
      "Epoch 62/100\n",
      "\u001B[1m695/695\u001B[0m \u001B[32m━━━━━━━━━━━━━━━━━━━━\u001B[0m\u001B[37m\u001B[0m \u001B[1m7s\u001B[0m 10ms/step - loss: 0.5494 - val_loss: 0.5535\n",
      "Epoch 63/100\n",
      "\u001B[1m695/695\u001B[0m \u001B[32m━━━━━━━━━━━━━━━━━━━━\u001B[0m\u001B[37m\u001B[0m \u001B[1m6s\u001B[0m 9ms/step - loss: 0.5513 - val_loss: 0.5494\n",
      "Epoch 64/100\n",
      "\u001B[1m695/695\u001B[0m \u001B[32m━━━━━━━━━━━━━━━━━━━━\u001B[0m\u001B[37m\u001B[0m \u001B[1m6s\u001B[0m 9ms/step - loss: 0.5495 - val_loss: 0.5487\n",
      "Epoch 65/100\n",
      "\u001B[1m695/695\u001B[0m \u001B[32m━━━━━━━━━━━━━━━━━━━━\u001B[0m\u001B[37m\u001B[0m \u001B[1m6s\u001B[0m 9ms/step - loss: 0.5496 - val_loss: 0.5489\n",
      "Epoch 66/100\n",
      "\u001B[1m695/695\u001B[0m \u001B[32m━━━━━━━━━━━━━━━━━━━━\u001B[0m\u001B[37m\u001B[0m \u001B[1m7s\u001B[0m 10ms/step - loss: 0.5493 - val_loss: 0.5492\n",
      "Epoch 67/100\n",
      "\u001B[1m428/695\u001B[0m \u001B[32m━━━━━━━━━━━━\u001B[0m\u001B[37m━━━━━━━━\u001B[0m \u001B[1m2s\u001B[0m 8ms/step - loss: 0.5493"
     ]
    }
   ],
   "execution_count": null
  },
  {
   "cell_type": "markdown",
   "source": [
    "# Plot history"
   ],
   "metadata": {
    "id": "SfxDe-2rWj7_"
   }
  },
  {
   "cell_type": "code",
   "source": [
    "# summarize history for loss\n",
    "import matplotlib.pyplot as plt\n",
    "\n",
    "print(history)\n",
    "plt.plot(history.history['loss'])\n",
    "plt.plot(history.history['val_loss'])\n",
    "\n",
    "plt.title('model loss')\n",
    "plt.ylabel('loss')\n",
    "plt.xlabel('epoch')\n",
    "plt.legend(['train loss','val. loss'], loc='upper right')\n",
    "plt.show()"
   ],
   "metadata": {
    "colab": {
     "base_uri": "https://localhost:8080/",
     "height": 490
    },
    "id": "VMBHEXEWWU-q",
    "outputId": "ee08fe0d-8bcf-4cce-c804-a837ae3e2ec8",
    "ExecuteTime": {
     "end_time": "2024-07-22T13:09:56.926185Z",
     "start_time": "2024-07-22T13:09:56.843270Z"
    }
   },
   "outputs": [
    {
     "name": "stdout",
     "output_type": "stream",
     "text": [
      "<keras.src.callbacks.history.History object at 0x7e1c03d73c40>\n"
     ]
    },
    {
     "data": {
      "text/plain": [
       "<Figure size 640x480 with 1 Axes>"
      ],
      "image/png": "[encoded data removed]"
     },
     "metadata": {},
     "output_type": "display_data"
    }
   ],
   "execution_count": 195
  },
  {
   "cell_type": "markdown",
   "source": [
    "# Plot digits"
   ],
   "metadata": {
    "id": "XRjNIK_kWqJK"
   }
  },
  {
   "metadata": {
    "ExecuteTime": {
     "end_time": "2024-07-22T13:10:00.010232Z",
     "start_time": "2024-07-22T13:09:59.092064Z"
    }
   },
   "cell_type": "code",
   "source": "decoded_data = autoencoder.predict(x_test)",
   "outputs": [
    {
     "name": "stdout",
     "output_type": "stream",
     "text": [
      "\u001B[1m348/348\u001B[0m \u001B[32m━━━━━━━━━━━━━━━━━━━━\u001B[0m\u001B[37m\u001B[0m \u001B[1m1s\u001B[0m 2ms/step\n"
     ]
    }
   ],
   "execution_count": 196
  },
  {
   "metadata": {
    "ExecuteTime": {
     "end_time": "2024-07-22T13:10:00.017102Z",
     "start_time": "2024-07-22T13:10:00.012400Z"
    }
   },
   "cell_type": "code",
   "source": "keys[0]",
   "outputs": [
    {
     "data": {
      "text/plain": [
       "'lep_Pt_0'"
      ]
     },
     "execution_count": 197,
     "metadata": {},
     "output_type": "execute_result"
    }
   ],
   "execution_count": 197
  },
  {
   "metadata": {
    "ExecuteTime": {
     "end_time": "2024-07-22T13:10:00.022612Z",
     "start_time": "2024-07-22T13:10:00.018562Z"
    }
   },
   "cell_type": "code",
   "source": [
    "def bins(n, list):\n",
    "    bins = []\n",
    "\n",
    "    list = sorted(list)\n",
    "\n",
    "    last = list[-1]\n",
    "    k = np.min(list)\n",
    "    while k < last:\n",
    "        bins.append(k)\n",
    "        k += (last - list[0])/n\n",
    "\n",
    "\n",
    "    return bins"
   ],
   "outputs": [],
   "execution_count": 198
  },
  {
   "metadata": {
    "ExecuteTime": {
     "end_time": "2024-07-22T13:10:00.645389Z",
     "start_time": "2024-07-22T13:10:00.640761Z"
    }
   },
   "cell_type": "code",
   "source": [
    "def paint(key, m):\n",
    "    biny = bins(m, decoded_data[key])\n",
    "    plt.hist(decoded_data[key], bins=biny, color='blue')\n",
    "    plt.hist(clean_matrix[key], bins=biny, color='green', alpha=0.5)\n",
    "    plt.title(keys[key])\n",
    "    plt.show()"
   ],
   "outputs": [],
   "execution_count": 199
  },
  {
   "metadata": {
    "ExecuteTime": {
     "end_time": "2024-07-22T13:10:01.404206Z",
     "start_time": "2024-07-22T13:10:01.399892Z"
    }
   },
   "cell_type": "code",
   "source": "decoded_data.shape",
   "outputs": [
    {
     "data": {
      "text/plain": [
       "(11107, 285)"
      ]
     },
     "execution_count": 200,
     "metadata": {},
     "output_type": "execute_result"
    }
   ],
   "execution_count": 200
  },
  {
   "metadata": {
    "ExecuteTime": {
     "end_time": "2024-07-22T13:10:03.835821Z",
     "start_time": "2024-07-22T13:10:01.706983Z"
    }
   },
   "cell_type": "code",
   "source": [
    "for i in range(len(keys[:10])):\n",
    "    paint(i, 100)"
   ],
   "outputs": [
    {
     "data": {
      "text/plain": [
       "<Figure size 640x480 with 1 Axes>"
      ],
      "image/png": "[encoded data removed]"
     },
     "metadata": {},
     "output_type": "display_data"
    },
    {
     "data": {
      "text/plain": [
       "<Figure size 640x480 with 1 Axes>"
      ],
      "image/png": "[encoded data removed]"
     },
     "metadata": {},
     "output_type": "display_data"
    },
    {
     "data": {
      "text/plain": [
       "<Figure size 640x480 with 1 Axes>"
      ],
      "image/png": "[encoded data removed]"
     },
     "metadata": {},
     "output_type": "display_data"
    },
    {
     "data": {
      "text/plain": [
       "<Figure size 640x480 with 1 Axes>"
      ],
      "image/png": "[encoded data removed]"
     },
     "metadata": {},
     "output_type": "display_data"
    },
    {
     "data": {
      "text/plain": [
       "<Figure size 640x480 with 1 Axes>"
      ],
      "image/png": "[encoded data removed]"
     },
     "metadata": {},
     "output_type": "display_data"
    },
    {
     "data": {
      "text/plain": [
       "<Figure size 640x480 with 1 Axes>"
      ],
      "image/png": "[encoded data removed]"
     },
     "metadata": {},
     "output_type": "display_data"
    },
    {
     "data": {
      "text/plain": [
       "<Figure size 640x480 with 1 Axes>"
      ],
      "image/png": "[encoded data removed]"
     },
     "metadata": {},
     "output_type": "display_data"
    },
    {
     "data": {
      "text/plain": [
       "<Figure size 640x480 with 1 Axes>"
      ],
      "image/png": "[encoded data removed]"
     },
     "metadata": {},
     "output_type": "display_data"
    },
    {
     "data": {
      "text/plain": [
       "<Figure size 640x480 with 1 Axes>"
      ],
      "image/png": "[encoded data removed]"
     },
     "metadata": {},
     "output_type": "display_data"
    },
    {
     "data": {
      "text/plain": [
       "<Figure size 640x480 with 1 Axes>"
      ],
      "image/png": "[encoded data removed]"
     },
     "metadata": {},
     "output_type": "display_data"
    }
   ],
   "execution_count": 201
  },
  {
   "cell_type": "code",
   "source": [
    "decoded_imgs = autoencoder.predict(x_test)\n",
    "\n",
    "n = 20\n",
    "plt.figure(figsize=(20, 4))\n",
    "for i in range(1, n + 1):\n",
    "    # Display original\n",
    "    ax = plt.subplot(2, n, i)\n",
    "    plt.imshow(x_test[i].reshape(28, 28))\n",
    "    plt.gray()\n",
    "    ax.get_xaxis().set_visible(False)\n",
    "    ax.get_yaxis().set_visible(False)\n",
    "\n",
    "    # Display reconstruction\n",
    "    ax = plt.subplot(2, n, i + n)\n",
    "    plt.imshow(decoded_imgs[i].reshape(28, 28))\n",
    "    plt.gray()\n",
    "    ax.get_xaxis().set_visible(False)\n",
    "    ax.get_yaxis().set_visible(False)\n",
    "plt.show()"
   ],
   "metadata": {
    "colab": {
     "base_uri": "https://localhost:8080/",
     "height": 238
    },
    "id": "f1utzPeZRXpY",
    "outputId": "ce5775a7-ddc5-41a0-e2f0-e0a36ac9dbdd",
    "ExecuteTime": {
     "end_time": "2024-07-22T13:10:06.439803Z",
     "start_time": "2024-07-22T13:10:05.381405Z"
    }
   },
   "outputs": [
    {
     "name": "stdout",
     "output_type": "stream",
     "text": [
      "\u001B[1m348/348\u001B[0m \u001B[32m━━━━━━━━━━━━━━━━━━━━\u001B[0m\u001B[37m\u001B[0m \u001B[1m1s\u001B[0m 3ms/step\n"
     ]
    },
    {
     "ename": "ValueError",
     "evalue": "cannot reshape array of size 285 into shape (28,28)",
     "output_type": "error",
     "traceback": [
      "\u001B[0;31m---------------------------------------------------------------------------\u001B[0m",
      "\u001B[0;31mValueError\u001B[0m                                Traceback (most recent call last)",
      "Cell \u001B[0;32mIn[202], line 8\u001B[0m\n\u001B[1;32m      5\u001B[0m \u001B[38;5;28;01mfor\u001B[39;00m i \u001B[38;5;129;01min\u001B[39;00m \u001B[38;5;28mrange\u001B[39m(\u001B[38;5;241m1\u001B[39m, n \u001B[38;5;241m+\u001B[39m \u001B[38;5;241m1\u001B[39m):\n\u001B[1;32m      6\u001B[0m     \u001B[38;5;66;03m# Display original\u001B[39;00m\n\u001B[1;32m      7\u001B[0m     ax \u001B[38;5;241m=\u001B[39m plt\u001B[38;5;241m.\u001B[39msubplot(\u001B[38;5;241m2\u001B[39m, n, i)\n\u001B[0;32m----> 8\u001B[0m     plt\u001B[38;5;241m.\u001B[39mimshow(\u001B[43mx_test\u001B[49m\u001B[43m[\u001B[49m\u001B[43mi\u001B[49m\u001B[43m]\u001B[49m\u001B[38;5;241;43m.\u001B[39;49m\u001B[43mreshape\u001B[49m\u001B[43m(\u001B[49m\u001B[38;5;241;43m28\u001B[39;49m\u001B[43m,\u001B[49m\u001B[43m \u001B[49m\u001B[38;5;241;43m28\u001B[39;49m\u001B[43m)\u001B[49m)\n\u001B[1;32m      9\u001B[0m     plt\u001B[38;5;241m.\u001B[39mgray()\n\u001B[1;32m     10\u001B[0m     ax\u001B[38;5;241m.\u001B[39mget_xaxis()\u001B[38;5;241m.\u001B[39mset_visible(\u001B[38;5;28;01mFalse\u001B[39;00m)\n",
      "\u001B[0;31mValueError\u001B[0m: cannot reshape array of size 285 into shape (28,28)"
     ]
    },
    {
     "data": {
      "text/plain": [
       "<Figure size 2000x400 with 1 Axes>"
      ],
      "image/png": "[encoded data removed]"
     },
     "metadata": {},
     "output_type": "display_data"
    }
   ],
   "execution_count": 202
  },
  {
   "cell_type": "markdown",
   "source": [
    "# Read fashion mnist"
   ],
   "metadata": {
    "id": "D0isRetq0BC7"
   }
  },
  {
   "cell_type": "code",
   "source": [
    "(xf_train, yf_train), (xf_test, yf_test) = fashion_mnist.load_data()\n",
    "\n",
    "xf_train = xf_train / 255.\n",
    "xf_test = xf_test / 255."
   ],
   "metadata": {
    "id": "NLXluT5o0FkN",
    "ExecuteTime": {
     "end_time": "2024-07-22T13:10:07.803170Z",
     "start_time": "2024-07-22T13:10:07.377404Z"
    }
   },
   "outputs": [],
   "execution_count": 203
  },
  {
   "metadata": {
    "ExecuteTime": {
     "end_time": "2024-07-22T13:10:08.316011Z",
     "start_time": "2024-07-22T13:10:08.224222Z"
    }
   },
   "cell_type": "code",
   "source": [
    "data = np.load(\"signal_data.npy\", allow_pickle=True)\n",
    "keys = list(data.item().keys())\n",
    "max_length = max([len(data.item().get(key)) for key in keys])\n",
    "signal_data = {}\n",
    "\n",
    "for key in keys:\n",
    "    signal_data[key] = data.item().get(key)\n",
    "\n",
    "\n",
    "def padding_data(combo):\n",
    "    for key in keys:\n",
    "        combo[key] = np.pad(combo[key], (0, max_length - len(combo[key])), mode='constant', constant_values=0)\n",
    "    return combo\n",
    "\n",
    "\n",
    "signal_data = padding_data(signal_data)\n",
    "signal_matrix = np.array([values for values in signal_data.values()])\n",
    "signal_matrix.shape"
   ],
   "outputs": [
    {
     "data": {
      "text/plain": [
       "(285, 57098)"
      ]
     },
     "execution_count": 204,
     "metadata": {},
     "output_type": "execute_result"
    }
   ],
   "execution_count": 204
  },
  {
   "metadata": {
    "ExecuteTime": {
     "end_time": "2024-07-22T13:10:08.619853Z",
     "start_time": "2024-07-22T13:10:08.617081Z"
    }
   },
   "cell_type": "code",
   "source": "signal_matrix = signal_matrix.T",
   "outputs": [],
   "execution_count": 205
  },
  {
   "metadata": {
    "ExecuteTime": {
     "end_time": "2024-07-22T13:10:09.228454Z",
     "start_time": "2024-07-22T13:10:09.210215Z"
    }
   },
   "cell_type": "code",
   "source": "clean_signal_matrix = signal_matrix[:,~np.all(np.isnan(signal_matrix), axis=0)]\n",
   "outputs": [],
   "execution_count": 206
  },
  {
   "cell_type": "markdown",
   "source": [
    "# Reshape fashion data (only if you use the fully connected network)"
   ],
   "metadata": {
    "id": "fegFoFY79_DN"
   }
  },
  {
   "cell_type": "code",
   "source": [
    "xf_train = xf_train.reshape((xf_train.shape[0], -1))\n",
    "xf_test = xf_test.reshape((xf_test.shape[0], -1))"
   ],
   "metadata": {
    "id": "SVpR9vOP9_DU",
    "ExecuteTime": {
     "end_time": "2024-07-22T13:10:10.078598Z",
     "start_time": "2024-07-22T13:10:10.074742Z"
    }
   },
   "outputs": [],
   "execution_count": 207
  },
  {
   "metadata": {
    "ExecuteTime": {
     "end_time": "2024-07-22T13:10:10.662022Z",
     "start_time": "2024-07-22T13:10:10.529322Z"
    }
   },
   "cell_type": "code",
   "source": "xs_train, xs_test = train_test_split(clean_signal_matrix, test_size=0.2, random_state=42)",
   "outputs": [],
   "execution_count": 208
  },
  {
   "cell_type": "markdown",
   "source": [
    "# Plot fashion digits"
   ],
   "metadata": {
    "id": "aNVJo8OQ0tUq"
   }
  },
  {
   "cell_type": "code",
   "source": [
    "fashion_decoded_imgs = autoencoder.predict(xs_test)\n",
    "\n",
    "n = 20\n",
    "plt.figure(figsize=(20, 4))\n",
    "for i in range(1, n + 1):\n",
    "    # Display original\n",
    "    ax = plt.subplot(2, n, i)\n",
    "    plt.imshow(xf_test[i].reshape(28, 28))\n",
    "    plt.gray()\n",
    "    ax.get_xaxis().set_visible(False)\n",
    "    ax.get_yaxis().set_visible(False)\n",
    "\n",
    "    # Display reconstruction\n",
    "    ax = plt.subplot(2, n, i + n)\n",
    "    plt.imshow(fashion_decoded_imgs[i].reshape(28, 28))\n",
    "    plt.gray()\n",
    "    ax.get_xaxis().set_visible(False)\n",
    "    ax.get_yaxis().set_visible(False)\n",
    "plt.show()"
   ],
   "metadata": {
    "id": "WL-E0Qqv0wUf",
    "outputId": "23bd0ce0-d5a5-48f7-e7c0-1da011d8669a",
    "colab": {
     "base_uri": "https://localhost:8080/",
     "height": 238
    },
    "ExecuteTime": {
     "end_time": "2024-07-22T13:10:12.467618Z",
     "start_time": "2024-07-22T13:10:11.598164Z"
    }
   },
   "outputs": [
    {
     "name": "stdout",
     "output_type": "stream",
     "text": [
      "\u001B[1m357/357\u001B[0m \u001B[32m━━━━━━━━━━━━━━━━━━━━\u001B[0m\u001B[37m\u001B[0m \u001B[1m1s\u001B[0m 2ms/step\n"
     ]
    },
    {
     "ename": "ValueError",
     "evalue": "cannot reshape array of size 285 into shape (28,28)",
     "output_type": "error",
     "traceback": [
      "\u001B[0;31m---------------------------------------------------------------------------\u001B[0m",
      "\u001B[0;31mValueError\u001B[0m                                Traceback (most recent call last)",
      "Cell \u001B[0;32mIn[209], line 15\u001B[0m\n\u001B[1;32m     13\u001B[0m \u001B[38;5;66;03m# Display reconstruction\u001B[39;00m\n\u001B[1;32m     14\u001B[0m ax \u001B[38;5;241m=\u001B[39m plt\u001B[38;5;241m.\u001B[39msubplot(\u001B[38;5;241m2\u001B[39m, n, i \u001B[38;5;241m+\u001B[39m n)\n\u001B[0;32m---> 15\u001B[0m plt\u001B[38;5;241m.\u001B[39mimshow(\u001B[43mfashion_decoded_imgs\u001B[49m\u001B[43m[\u001B[49m\u001B[43mi\u001B[49m\u001B[43m]\u001B[49m\u001B[38;5;241;43m.\u001B[39;49m\u001B[43mreshape\u001B[49m\u001B[43m(\u001B[49m\u001B[38;5;241;43m28\u001B[39;49m\u001B[43m,\u001B[49m\u001B[43m \u001B[49m\u001B[38;5;241;43m28\u001B[39;49m\u001B[43m)\u001B[49m)\n\u001B[1;32m     16\u001B[0m plt\u001B[38;5;241m.\u001B[39mgray()\n\u001B[1;32m     17\u001B[0m ax\u001B[38;5;241m.\u001B[39mget_xaxis()\u001B[38;5;241m.\u001B[39mset_visible(\u001B[38;5;28;01mFalse\u001B[39;00m)\n",
      "\u001B[0;31mValueError\u001B[0m: cannot reshape array of size 285 into shape (28,28)"
     ]
    },
    {
     "data": {
      "text/plain": [
       "<Figure size 2000x400 with 2 Axes>"
      ],
      "image/png": "[encoded data removed]"
     },
     "metadata": {},
     "output_type": "display_data"
    }
   ],
   "execution_count": 209
  },
  {
   "cell_type": "markdown",
   "source": [
    "# Calculate the losses for mnist digits and fasion mnist and plot a histogram"
   ],
   "metadata": {
    "id": "4fBYoW_w6aVM"
   }
  },
  {
   "metadata": {
    "ExecuteTime": {
     "end_time": "2024-07-22T13:10:15.098070Z",
     "start_time": "2024-07-22T13:10:14.531441Z"
    }
   },
   "cell_type": "code",
   "source": "signal_output = autoencoder.predict(xs_test)\n",
   "outputs": [
    {
     "name": "stdout",
     "output_type": "stream",
     "text": [
      "\u001B[1m357/357\u001B[0m \u001B[32m━━━━━━━━━━━━━━━━━━━━\u001B[0m\u001B[37m\u001B[0m \u001B[1m0s\u001B[0m 1ms/step\n"
     ]
    }
   ],
   "execution_count": 210
  },
  {
   "cell_type": "markdown",
   "source": [
    "### Reshape only if you use the convolutional autoencoder"
   ],
   "metadata": {
    "id": "AWKnxR6aBh0O"
   }
  },
  {
   "cell_type": "code",
   "source": [
    "#decoded_imgs = decoded_imgs.reshape((decoded_imgs.shape[0], -1))\n",
    "#fashion_decoded_imgs = fashion_decoded_imgs.reshape((fashion_decoded_imgs.shape[0], -1))\n",
    "#x_test = x_test.reshape((x_test.shape[0], -1))\n",
    "#xf_test = xf_test.reshape((xf_test.shape[0], -1))"
   ],
   "metadata": {
    "id": "1CPKrhgpANBW",
    "ExecuteTime": {
     "end_time": "2024-07-22T13:10:18.447449Z",
     "start_time": "2024-07-22T13:10:18.444304Z"
    }
   },
   "outputs": [],
   "execution_count": 211
  },
  {
   "cell_type": "code",
   "source": [
    "losses = keras.losses.mean_squared_error(decoded_data, x_test)\n",
    "#print(losses[0:20])\n",
    "fashion_losses = keras.losses.mean_squared_error(signal_output, xs_test)\n",
    "#print(fashion_losses[0:20])"
   ],
   "metadata": {
    "id": "AmMFP1fc3e_1",
    "ExecuteTime": {
     "end_time": "2024-07-22T13:10:18.870151Z",
     "start_time": "2024-07-22T13:10:18.851123Z"
    }
   },
   "outputs": [],
   "execution_count": 212
  },
  {
   "cell_type": "code",
   "source": [
    "plt.hist(losses,bins=200,range=(0,0.015),label=\"background\",alpha=0.7)\n",
    "plt.hist(fashion_losses,bins=200,range=(0,0.015),label=\"signal\",alpha=0.7)\n",
    "plt.title(\"Losses for background and signal\")\n",
    "plt.legend()\n",
    "#plt.yscale('log')\n",
    "plt.savefig(f'518-128 E:{epochs}, bach:{batch_size}, dim:{encoding_dim}.png')\n",
    "plt.show()"
   ],
   "metadata": {
    "colab": {
     "base_uri": "https://localhost:8080/",
     "height": 452
    },
    "id": "D_hS7j-24Ci9",
    "outputId": "a3065b1b-e8f1-476c-a82e-8371c2dff805",
    "ExecuteTime": {
     "end_time": "2024-07-22T13:10:21.898471Z",
     "start_time": "2024-07-22T13:10:19.458728Z"
    }
   },
   "outputs": [
    {
     "data": {
      "text/plain": [
       "<Figure size 640x480 with 1 Axes>"
      ],
      "image/png": "[encoded data removed]"
     },
     "metadata": {},
     "output_type": "display_data"
    }
   ],
   "execution_count": 213
  },
  {
   "cell_type": "markdown",
   "source": [
    "# Outlier detection\n",
    "\n",
    "The autoencoder is trained on mnist hand-written digits. Therefore it does not reproduce the fashion elements well, therefore the losses are much higher than for mnist digits. Putting a cut on losses allows to identify the outliers.\n",
    "\n",
    "### Remark\n",
    "The autoencoder was never trained on \"fashion\" images."
   ],
   "metadata": {
    "id": "9aM2DYvs86sL"
   }
  }
 ]
}
