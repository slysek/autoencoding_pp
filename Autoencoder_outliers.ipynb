{
 "nbformat": 4,
 "nbformat_minor": 0,
 "metadata": {
  "colab": {
   "provenance": [],
   "gpuType": "T4",
   "authorship_tag": "ABX9TyNNbGjjxTbeAsrDRvnAYqBt",
   "include_colab_link": true
  },
  "kernelspec": {
   "name": "python3",
   "display_name": "Python 3 (ipykernel)",
   "language": "python"
  },
  "language_info": {
   "name": "python"
  },
  "accelerator": "GPU"
 },
 "cells": [
  {
   "cell_type": "markdown",
   "metadata": {
    "id": "view-in-github",
    "colab_type": "text"
   },
   "source": [
    "<a href=\"https://colab.research.google.com/github/marcinwolter/Autoencoder/blob/main/Autoencoder_outliers.ipynb\" target=\"_parent\"><img src=\"https://colab.research.google.com/assets/colab-badge.svg\" alt=\"Open In Colab\"/></a>"
   ]
  },
  {
   "cell_type": "markdown",
   "source": [
    "# <font color='green'> **Outlier detection with autoencoders**"
   ],
   "metadata": {
    "id": "MOtkTk2PN8wL"
   }
  },
  {
   "cell_type": "markdown",
   "source": [
    "An autoencoder is a type of artificial neural network used to learn efficient codings of unlabeled data (unsupervised learning). An autoencoder learns two functions: an encoding function that transforms the input data, and a decoding function that recreates the input data from the encoded representation. The autoencoder learns an efficient representation (encoding) for a set of data, typically for dimensionality reduction.\n",
    "\n",
    "<img src='https://stackabuse.s3.amazonaws.com/media/image-reconstruction-and-denoising-with-autoencoders-in-python-and-keras-3.png' width=500px>"
   ],
   "metadata": {
    "id": "oGzIphYSOF32"
   }
  },
  {
   "cell_type": "markdown",
   "metadata": {
    "id": "Q_HsQ5NoC-T4"
   },
   "source": [
    "# **Simple autoencoder**"
   ]
  },
  {
   "cell_type": "code",
   "metadata": {
    "id": "2WoFjhvZC-T8",
    "ExecuteTime": {
     "end_time": "2024-07-25T13:17:24.665242Z",
     "start_time": "2024-07-25T13:17:24.661504Z"
    }
   },
   "source": [
    "import keras\n",
    "import numpy as np\n",
    "np.random.seed(10)"
   ],
   "outputs": [],
   "execution_count": 68
  },
  {
   "cell_type": "code",
   "metadata": {
    "id": "SKSiD0J-C-T-",
    "ExecuteTime": {
     "end_time": "2024-07-25T13:17:24.844213Z",
     "start_time": "2024-07-25T13:17:24.841390Z"
    }
   },
   "source": [
    "import numpy as np\n",
    "from tensorflow.keras import layers\n",
    "from keras.models import Model\n"
   ],
   "outputs": [],
   "execution_count": 69
  },
  {
   "cell_type": "markdown",
   "source": [
    "# Read MNIST data"
   ],
   "metadata": {
    "id": "YO1d8uvM83gu"
   }
  },
  {
   "metadata": {
    "ExecuteTime": {
     "end_time": "2024-07-25T13:17:25.571548Z",
     "start_time": "2024-07-25T13:17:25.544407Z"
    }
   },
   "cell_type": "code",
   "source": "data = np.load(\"new_background_data.npy\", allow_pickle=True)",
   "outputs": [],
   "execution_count": 70
  },
  {
   "metadata": {
    "ExecuteTime": {
     "end_time": "2024-07-25T13:17:25.817788Z",
     "start_time": "2024-07-25T13:17:25.814Z"
    }
   },
   "cell_type": "code",
   "source": "keys = list(data.item().keys())",
   "outputs": [],
   "execution_count": 71
  },
  {
   "metadata": {
    "ExecuteTime": {
     "end_time": "2024-07-25T13:17:25.975422Z",
     "start_time": "2024-07-25T13:17:25.970430Z"
    }
   },
   "cell_type": "code",
   "source": [
    "max_length = max([len(data.item().get(key)) for key in keys])\n",
    "max_length"
   ],
   "outputs": [
    {
     "data": {
      "text/plain": [
       "47867"
      ]
     },
     "execution_count": 72,
     "metadata": {},
     "output_type": "execute_result"
    }
   ],
   "execution_count": 72
  },
  {
   "metadata": {
    "ExecuteTime": {
     "end_time": "2024-07-25T13:17:26.130088Z",
     "start_time": "2024-07-25T13:17:26.126215Z"
    }
   },
   "cell_type": "code",
   "source": [
    "traning_data = {}\n",
    "\n",
    "for key in keys:\n",
    "    traning_data[key] = data.item().get(key)"
   ],
   "outputs": [],
   "execution_count": 73
  },
  {
   "metadata": {
    "ExecuteTime": {
     "end_time": "2024-07-25T13:17:26.515349Z",
     "start_time": "2024-07-25T13:17:26.512410Z"
    }
   },
   "cell_type": "code",
   "source": [
    "def padding_data(combo):\n",
    "    for key in keys:\n",
    "        combo[key] = np.pad(combo[key], (0, max_length - len(combo[key])), mode='constant', constant_values=0)\n",
    "    return combo"
   ],
   "outputs": [],
   "execution_count": 74
  },
  {
   "metadata": {
    "ExecuteTime": {
     "end_time": "2024-07-25T13:17:26.768945Z",
     "start_time": "2024-07-25T13:17:26.754044Z"
    }
   },
   "cell_type": "code",
   "source": "training_data = padding_data(traning_data)",
   "outputs": [],
   "execution_count": 75
  },
  {
   "metadata": {
    "ExecuteTime": {
     "end_time": "2024-07-25T13:17:26.951918Z",
     "start_time": "2024-07-25T13:17:26.943085Z"
    }
   },
   "cell_type": "code",
   "source": "traning_matrix = np.array([values for values in traning_data.values()])",
   "outputs": [],
   "execution_count": 76
  },
  {
   "metadata": {
    "ExecuteTime": {
     "end_time": "2024-07-25T13:17:27.198090Z",
     "start_time": "2024-07-25T13:17:27.194620Z"
    }
   },
   "cell_type": "code",
   "source": "traning_matrix.shape",
   "outputs": [
    {
     "data": {
      "text/plain": [
       "(196, 47867)"
      ]
     },
     "execution_count": 77,
     "metadata": {},
     "output_type": "execute_result"
    }
   ],
   "execution_count": 77
  },
  {
   "metadata": {
    "ExecuteTime": {
     "end_time": "2024-07-25T13:17:29.426102Z",
     "start_time": "2024-07-25T13:17:29.422318Z"
    }
   },
   "cell_type": "code",
   "source": "clean_matrix.shape",
   "outputs": [
    {
     "data": {
      "text/plain": [
       "(47867, 196)"
      ]
     },
     "execution_count": 82,
     "metadata": {},
     "output_type": "execute_result"
    }
   ],
   "execution_count": 82
  },
  {
   "metadata": {
    "ExecuteTime": {
     "end_time": "2024-07-25T13:17:29.872177Z",
     "start_time": "2024-07-25T13:17:29.863525Z"
    }
   },
   "cell_type": "code",
   "source": [
    "from sklearn.model_selection import train_test_split\n",
    "\n",
    "x_train, x_test = train_test_split(clean_matrix[:,:2], test_size=0.2, random_state=42)\n"
   ],
   "outputs": [],
   "execution_count": 83
  },
  {
   "cell_type": "markdown",
   "source": [
    "# Reshape data (only if you use the fully connected network)"
   ],
   "metadata": {
    "id": "q6IHiJhV8ISX"
   }
  },
  {
   "cell_type": "code",
   "source": [
    "x_train = x_train.reshape((x_train.shape[0], -1))\n",
    "x_test = x_test.reshape((x_test.shape[0], -1))"
   ],
   "metadata": {
    "id": "fyBWn6wD8R7g",
    "ExecuteTime": {
     "end_time": "2024-07-25T13:17:31.113487Z",
     "start_time": "2024-07-25T13:17:31.109836Z"
    }
   },
   "outputs": [],
   "execution_count": 84
  },
  {
   "metadata": {
    "ExecuteTime": {
     "end_time": "2024-07-25T13:17:31.544202Z",
     "start_time": "2024-07-25T13:17:31.538339Z"
    }
   },
   "cell_type": "code",
   "source": "x_train.shape",
   "outputs": [
    {
     "data": {
      "text/plain": [
       "(38293, 2)"
      ]
     },
     "execution_count": 85,
     "metadata": {},
     "output_type": "execute_result"
    }
   ],
   "execution_count": 85
  },
  {
   "metadata": {
    "ExecuteTime": {
     "end_time": "2024-07-25T13:17:32.251250Z",
     "start_time": "2024-07-25T13:17:32.245787Z"
    }
   },
   "cell_type": "code",
   "source": "x_test.shape",
   "outputs": [
    {
     "data": {
      "text/plain": [
       "(9574, 2)"
      ]
     },
     "execution_count": 86,
     "metadata": {},
     "output_type": "execute_result"
    }
   ],
   "execution_count": 86
  },
  {
   "metadata": {
    "ExecuteTime": {
     "end_time": "2024-07-25T13:17:32.720554Z",
     "start_time": "2024-07-25T13:17:32.715782Z"
    }
   },
   "cell_type": "code",
   "source": [
    "def paint(key, m, list):\n",
    "    biny = bins(m, list)\n",
    "    plt.hist(list, bins=biny, color='blue')\n",
    "    plt.title(keys[key])\n",
    "    plt.show()"
   ],
   "outputs": [],
   "execution_count": 87
  },
  {
   "metadata": {},
   "cell_type": "code",
   "source": [
    "for i in range(10):\n",
    "    paint(i, 100, x_train[:,i])"
   ],
   "outputs": [],
   "execution_count": null
  },
  {
   "cell_type": "markdown",
   "source": [
    "# Hyperparameters"
   ],
   "metadata": {
    "id": "5BbesywEH13h"
   }
  },
  {
   "cell_type": "code",
   "source": [
    "encoding_dim = 2 # valid for fully connected network only\n",
    "batch_size = 128\n",
    "epochs = 10 #100"
   ],
   "metadata": {
    "id": "MleFCJdDH4f2",
    "ExecuteTime": {
     "end_time": "2024-07-25T13:17:39.661938Z",
     "start_time": "2024-07-25T13:17:39.659491Z"
    }
   },
   "outputs": [],
   "execution_count": 89
  },
  {
   "cell_type": "markdown",
   "source": [
    "# **Fully connected autoencoder**"
   ],
   "metadata": {
    "id": "R1ERftJ25xE3"
   }
  },
  {
   "cell_type": "code",
   "source": [
    "input_shape = x_train.shape[1]\n",
    "# This is our input image\n",
    "input_img = layers.Input(shape=(input_shape,))\n",
    "# \"encoded\" is the encoded representation of the input\n",
    "encoded = layers.Dense(2, activation='relu')(input_img)\n",
    "#encoded = layers.Dense(64, activation='relu')(encoded)\n",
    "#encoded = layers.Dense(32, activation='relu')(encoded)\n",
    "\n",
    "#encoded = layers.Dense(128, activation='relu')(encoded)\n",
    "#encoded = layers.Dropout(0.05)(encoded)\n",
    "encoded = layers.Dense(encoding_dim, activation='linear')(encoded)\n",
    "\n",
    "# \"decoded\" is the lossy reconstruction of the input\n",
    "decoded = layers.Dense(2, activation='relu')(encoded)\n",
    "#decoded = layers.Dense(128, activation='relu')(decoded)\n",
    "#decoded = layers.Dense(128, activation='relu')(decoded)\n",
    "\n",
    "#decoded = layers.Dense(518, activation='relu')(decoded)\n",
    "#decoded = layers.Dropout(0.05)(decoded)\n",
    "decoded = layers.Dense(input_shape, activation='sigmoid')(decoded)\n",
    "\n",
    "\n",
    "# This model maps an input to its reconstruction\n",
    "autoencoder = Model(input_img, decoded)\n",
    "#encoder = Model(input_img, encoded)\n",
    "\n",
    "autoencoder.compile(optimizer=\"adam\", loss=\"binary_crossentropy\")\n",
    "autoencoder.summary()\n"
   ],
   "metadata": {
    "outputId": "a327d746-ba95-43bc-e182-4ff739d86989",
    "colab": {
     "base_uri": "https://localhost:8080/"
    },
    "id": "RjCBg16J5xE9",
    "ExecuteTime": {
     "end_time": "2024-07-25T13:17:40.301546Z",
     "start_time": "2024-07-25T13:17:40.263338Z"
    }
   },
   "outputs": [
    {
     "data": {
      "text/plain": [
       "\u001B[1mModel: \"functional_5\"\u001B[0m\n"
      ],
      "text/html": [
       "<pre style=\"white-space:pre;overflow-x:auto;line-height:normal;font-family:Menlo,'DejaVu Sans Mono',consolas,'Courier New',monospace\"><span style=\"font-weight: bold\">Model: \"functional_5\"</span>\n",
       "</pre>\n"
      ]
     },
     "metadata": {},
     "output_type": "display_data"
    },
    {
     "data": {
      "text/plain": [
       "┏━━━━━━━━━━━━━━━━━━━━━━━━━━━━━━━━━┳━━━━━━━━━━━━━━━━━━━━━━━━┳━━━━━━━━━━━━━━━┓\n",
       "┃\u001B[1m \u001B[0m\u001B[1mLayer (type)                   \u001B[0m\u001B[1m \u001B[0m┃\u001B[1m \u001B[0m\u001B[1mOutput Shape          \u001B[0m\u001B[1m \u001B[0m┃\u001B[1m \u001B[0m\u001B[1m      Param #\u001B[0m\u001B[1m \u001B[0m┃\n",
       "┡━━━━━━━━━━━━━━━━━━━━━━━━━━━━━━━━━╇━━━━━━━━━━━━━━━━━━━━━━━━╇━━━━━━━━━━━━━━━┩\n",
       "│ input_layer_5 (\u001B[38;5;33mInputLayer\u001B[0m)      │ (\u001B[38;5;45mNone\u001B[0m, \u001B[38;5;34m2\u001B[0m)              │             \u001B[38;5;34m0\u001B[0m │\n",
       "├─────────────────────────────────┼────────────────────────┼───────────────┤\n",
       "│ dense_24 (\u001B[38;5;33mDense\u001B[0m)                │ (\u001B[38;5;45mNone\u001B[0m, \u001B[38;5;34m2\u001B[0m)              │             \u001B[38;5;34m6\u001B[0m │\n",
       "├─────────────────────────────────┼────────────────────────┼───────────────┤\n",
       "│ dense_25 (\u001B[38;5;33mDense\u001B[0m)                │ (\u001B[38;5;45mNone\u001B[0m, \u001B[38;5;34m2\u001B[0m)              │             \u001B[38;5;34m6\u001B[0m │\n",
       "├─────────────────────────────────┼────────────────────────┼───────────────┤\n",
       "│ dense_26 (\u001B[38;5;33mDense\u001B[0m)                │ (\u001B[38;5;45mNone\u001B[0m, \u001B[38;5;34m2\u001B[0m)              │             \u001B[38;5;34m6\u001B[0m │\n",
       "├─────────────────────────────────┼────────────────────────┼───────────────┤\n",
       "│ dense_27 (\u001B[38;5;33mDense\u001B[0m)                │ (\u001B[38;5;45mNone\u001B[0m, \u001B[38;5;34m2\u001B[0m)              │             \u001B[38;5;34m6\u001B[0m │\n",
       "└─────────────────────────────────┴────────────────────────┴───────────────┘\n"
      ],
      "text/html": [
       "<pre style=\"white-space:pre;overflow-x:auto;line-height:normal;font-family:Menlo,'DejaVu Sans Mono',consolas,'Courier New',monospace\">┏━━━━━━━━━━━━━━━━━━━━━━━━━━━━━━━━━┳━━━━━━━━━━━━━━━━━━━━━━━━┳━━━━━━━━━━━━━━━┓\n",
       "┃<span style=\"font-weight: bold\"> Layer (type)                    </span>┃<span style=\"font-weight: bold\"> Output Shape           </span>┃<span style=\"font-weight: bold\">       Param # </span>┃\n",
       "┡━━━━━━━━━━━━━━━━━━━━━━━━━━━━━━━━━╇━━━━━━━━━━━━━━━━━━━━━━━━╇━━━━━━━━━━━━━━━┩\n",
       "│ input_layer_5 (<span style=\"color: #0087ff; text-decoration-color: #0087ff\">InputLayer</span>)      │ (<span style=\"color: #00d7ff; text-decoration-color: #00d7ff\">None</span>, <span style=\"color: #00af00; text-decoration-color: #00af00\">2</span>)              │             <span style=\"color: #00af00; text-decoration-color: #00af00\">0</span> │\n",
       "├─────────────────────────────────┼────────────────────────┼───────────────┤\n",
       "│ dense_24 (<span style=\"color: #0087ff; text-decoration-color: #0087ff\">Dense</span>)                │ (<span style=\"color: #00d7ff; text-decoration-color: #00d7ff\">None</span>, <span style=\"color: #00af00; text-decoration-color: #00af00\">2</span>)              │             <span style=\"color: #00af00; text-decoration-color: #00af00\">6</span> │\n",
       "├─────────────────────────────────┼────────────────────────┼───────────────┤\n",
       "│ dense_25 (<span style=\"color: #0087ff; text-decoration-color: #0087ff\">Dense</span>)                │ (<span style=\"color: #00d7ff; text-decoration-color: #00d7ff\">None</span>, <span style=\"color: #00af00; text-decoration-color: #00af00\">2</span>)              │             <span style=\"color: #00af00; text-decoration-color: #00af00\">6</span> │\n",
       "├─────────────────────────────────┼────────────────────────┼───────────────┤\n",
       "│ dense_26 (<span style=\"color: #0087ff; text-decoration-color: #0087ff\">Dense</span>)                │ (<span style=\"color: #00d7ff; text-decoration-color: #00d7ff\">None</span>, <span style=\"color: #00af00; text-decoration-color: #00af00\">2</span>)              │             <span style=\"color: #00af00; text-decoration-color: #00af00\">6</span> │\n",
       "├─────────────────────────────────┼────────────────────────┼───────────────┤\n",
       "│ dense_27 (<span style=\"color: #0087ff; text-decoration-color: #0087ff\">Dense</span>)                │ (<span style=\"color: #00d7ff; text-decoration-color: #00d7ff\">None</span>, <span style=\"color: #00af00; text-decoration-color: #00af00\">2</span>)              │             <span style=\"color: #00af00; text-decoration-color: #00af00\">6</span> │\n",
       "└─────────────────────────────────┴────────────────────────┴───────────────┘\n",
       "</pre>\n"
      ]
     },
     "metadata": {},
     "output_type": "display_data"
    },
    {
     "data": {
      "text/plain": [
       "\u001B[1m Total params: \u001B[0m\u001B[38;5;34m24\u001B[0m (96.00 B)\n"
      ],
      "text/html": [
       "<pre style=\"white-space:pre;overflow-x:auto;line-height:normal;font-family:Menlo,'DejaVu Sans Mono',consolas,'Courier New',monospace\"><span style=\"font-weight: bold\"> Total params: </span><span style=\"color: #00af00; text-decoration-color: #00af00\">24</span> (96.00 B)\n",
       "</pre>\n"
      ]
     },
     "metadata": {},
     "output_type": "display_data"
    },
    {
     "data": {
      "text/plain": [
       "\u001B[1m Trainable params: \u001B[0m\u001B[38;5;34m24\u001B[0m (96.00 B)\n"
      ],
      "text/html": [
       "<pre style=\"white-space:pre;overflow-x:auto;line-height:normal;font-family:Menlo,'DejaVu Sans Mono',consolas,'Courier New',monospace\"><span style=\"font-weight: bold\"> Trainable params: </span><span style=\"color: #00af00; text-decoration-color: #00af00\">24</span> (96.00 B)\n",
       "</pre>\n"
      ]
     },
     "metadata": {},
     "output_type": "display_data"
    },
    {
     "data": {
      "text/plain": [
       "\u001B[1m Non-trainable params: \u001B[0m\u001B[38;5;34m0\u001B[0m (0.00 B)\n"
      ],
      "text/html": [
       "<pre style=\"white-space:pre;overflow-x:auto;line-height:normal;font-family:Menlo,'DejaVu Sans Mono',consolas,'Courier New',monospace\"><span style=\"font-weight: bold\"> Non-trainable params: </span><span style=\"color: #00af00; text-decoration-color: #00af00\">0</span> (0.00 B)\n",
       "</pre>\n"
      ]
     },
     "metadata": {},
     "output_type": "display_data"
    }
   ],
   "execution_count": 90
  },
  {
   "cell_type": "markdown",
   "source": [
    "# **Convolutional autoencoder**\n",
    "\n",
    "Should work better than the fully connected one"
   ],
   "metadata": {
    "id": "lWpOzb8h5xE-"
   }
  },
  {
   "cell_type": "markdown",
   "source": [
    "# Train the autoencoder"
   ],
   "metadata": {
    "id": "z-5aojR5_0No"
   }
  },
  {
   "cell_type": "code",
   "source": [
    "autoencoder.compile(optimizer='adam', loss='binary_crossentropy')\n",
    "history = autoencoder.fit(x_train, x_train, batch_size=batch_size, epochs=epochs, validation_data=(x_test, x_test))"
   ],
   "metadata": {
    "colab": {
     "base_uri": "https://localhost:8080/"
    },
    "id": "QF3580pkAGSj",
    "outputId": "33c64483-47bd-4202-ae9f-f210b2314965",
    "ExecuteTime": {
     "end_time": "2024-07-25T13:17:45.344998Z",
     "start_time": "2024-07-25T13:17:41.875602Z"
    }
   },
   "outputs": [
    {
     "name": "stdout",
     "output_type": "stream",
     "text": [
      "Epoch 1/10\n",
      "\u001B[1m300/300\u001B[0m \u001B[32m━━━━━━━━━━━━━━━━━━━━\u001B[0m\u001B[37m\u001B[0m \u001B[1m1s\u001B[0m 1ms/step - loss: 0.6614 - val_loss: 0.5744\n",
      "Epoch 2/10\n",
      "\u001B[1m300/300\u001B[0m \u001B[32m━━━━━━━━━━━━━━━━━━━━\u001B[0m\u001B[37m\u001B[0m \u001B[1m0s\u001B[0m 738us/step - loss: 0.5503 - val_loss: 0.4836\n",
      "Epoch 3/10\n",
      "\u001B[1m300/300\u001B[0m \u001B[32m━━━━━━━━━━━━━━━━━━━━\u001B[0m\u001B[37m\u001B[0m \u001B[1m0s\u001B[0m 793us/step - loss: 0.4655 - val_loss: 0.4148\n",
      "Epoch 4/10\n",
      "\u001B[1m300/300\u001B[0m \u001B[32m━━━━━━━━━━━━━━━━━━━━\u001B[0m\u001B[37m\u001B[0m \u001B[1m0s\u001B[0m 847us/step - loss: 0.4013 - val_loss: 0.3628\n",
      "Epoch 5/10\n",
      "\u001B[1m300/300\u001B[0m \u001B[32m━━━━━━━━━━━━━━━━━━━━\u001B[0m\u001B[37m\u001B[0m \u001B[1m0s\u001B[0m 690us/step - loss: 0.3530 - val_loss: 0.3236\n",
      "Epoch 6/10\n",
      "\u001B[1m300/300\u001B[0m \u001B[32m━━━━━━━━━━━━━━━━━━━━\u001B[0m\u001B[37m\u001B[0m \u001B[1m0s\u001B[0m 1ms/step - loss: 0.3163 - val_loss: 0.2939\n",
      "Epoch 7/10\n",
      "\u001B[1m300/300\u001B[0m \u001B[32m━━━━━━━━━━━━━━━━━━━━\u001B[0m\u001B[37m\u001B[0m \u001B[1m0s\u001B[0m 925us/step - loss: 0.2886 - val_loss: 0.2715\n",
      "Epoch 8/10\n",
      "\u001B[1m300/300\u001B[0m \u001B[32m━━━━━━━━━━━━━━━━━━━━\u001B[0m\u001B[37m\u001B[0m \u001B[1m0s\u001B[0m 891us/step - loss: 0.2680 - val_loss: 0.2545\n",
      "Epoch 9/10\n",
      "\u001B[1m300/300\u001B[0m \u001B[32m━━━━━━━━━━━━━━━━━━━━\u001B[0m\u001B[37m\u001B[0m \u001B[1m0s\u001B[0m 793us/step - loss: 0.2523 - val_loss: 0.2417\n",
      "Epoch 10/10\n",
      "\u001B[1m300/300\u001B[0m \u001B[32m━━━━━━━━━━━━━━━━━━━━\u001B[0m\u001B[37m\u001B[0m \u001B[1m0s\u001B[0m 848us/step - loss: 0.2401 - val_loss: 0.2321\n"
     ]
    }
   ],
   "execution_count": 91
  },
  {
   "cell_type": "markdown",
   "source": [
    "# Plot history"
   ],
   "metadata": {
    "id": "SfxDe-2rWj7_"
   }
  },
  {
   "cell_type": "code",
   "source": [
    "# summarize history for loss\n",
    "import matplotlib.pyplot as plt\n",
    "\n",
    "print(history)\n",
    "plt.plot(history.history['loss'])\n",
    "plt.plot(history.history['val_loss'])\n",
    "\n",
    "plt.title('model loss')\n",
    "plt.ylabel('loss')\n",
    "plt.xlabel('epoch')\n",
    "plt.legend(['train loss','val. loss'], loc='upper right')\n",
    "plt.show()"
   ],
   "metadata": {
    "colab": {
     "base_uri": "https://localhost:8080/",
     "height": 490
    },
    "id": "VMBHEXEWWU-q",
    "outputId": "ee08fe0d-8bcf-4cce-c804-a837ae3e2ec8",
    "ExecuteTime": {
     "end_time": "2024-07-25T13:17:47.463449Z",
     "start_time": "2024-07-25T13:17:47.311531Z"
    }
   },
   "outputs": [
    {
     "name": "stdout",
     "output_type": "stream",
     "text": [
      "<keras.src.callbacks.history.History object at 0x7e602b9f0fa0>\n"
     ]
    },
    {
     "data": {
      "text/plain": [
       "<Figure size 640x480 with 1 Axes>"
      ],
      "image/png": "[encoded data removed]"
     },
     "metadata": {},
     "output_type": "display_data"
    }
   ],
   "execution_count": 92
  },
  {
   "cell_type": "markdown",
   "source": [
    "# Plot digits"
   ],
   "metadata": {
    "id": "XRjNIK_kWqJK"
   }
  },
  {
   "metadata": {
    "ExecuteTime": {
     "end_time": "2024-07-25T13:17:51.405619Z",
     "start_time": "2024-07-25T13:17:51.078169Z"
    }
   },
   "cell_type": "code",
   "source": "decoded_data = autoencoder.predict(x_test)",
   "outputs": [
    {
     "name": "stdout",
     "output_type": "stream",
     "text": [
      "\u001B[1m300/300\u001B[0m \u001B[32m━━━━━━━━━━━━━━━━━━━━\u001B[0m\u001B[37m\u001B[0m \u001B[1m0s\u001B[0m 754us/step\n"
     ]
    }
   ],
   "execution_count": 93
  },
  {
   "metadata": {
    "ExecuteTime": {
     "end_time": "2024-07-25T13:02:07.598309Z",
     "start_time": "2024-07-25T13:02:07.594967Z"
    }
   },
   "cell_type": "code",
   "source": [
    "def bins(n, list):\n",
    "    bins = []\n",
    "\n",
    "    list = sorted(list)\n",
    "\n",
    "    last = list[-1]\n",
    "    k = np.min(list)\n",
    "    while k < last:\n",
    "        bins.append(k)\n",
    "        k += (last - list[0])/n\n",
    "\n",
    "\n",
    "    return bins"
   ],
   "outputs": [],
   "execution_count": 32
  },
  {
   "metadata": {
    "ExecuteTime": {
     "end_time": "2024-07-25T13:02:07.905762Z",
     "start_time": "2024-07-25T13:02:07.901863Z"
    }
   },
   "cell_type": "code",
   "source": [
    "def paint(key, m, list):\n",
    "    biny = bins(m, list)\n",
    "    plt.hist(list, bins=biny, color='blue')\n",
    "    plt.title(keys[key])\n",
    "    plt.show()"
   ],
   "outputs": [],
   "execution_count": 33
  },
  {
   "metadata": {
    "ExecuteTime": {
     "end_time": "2024-07-25T12:54:14.842538Z",
     "start_time": "2024-07-25T12:54:14.838048Z"
    }
   },
   "cell_type": "code",
   "source": "decoded_data.shape",
   "outputs": [
    {
     "data": {
      "text/plain": [
       "(9574, 196)"
      ]
     },
     "execution_count": 31,
     "metadata": {},
     "output_type": "execute_result"
    }
   ],
   "execution_count": 31
  },
  {
   "cell_type": "markdown",
   "source": [
    "# Read fashion mnist"
   ],
   "metadata": {
    "id": "D0isRetq0BC7"
   }
  },
  {
   "metadata": {
    "ExecuteTime": {
     "end_time": "2024-07-25T12:54:16.993211Z",
     "start_time": "2024-07-25T12:54:16.973033Z"
    }
   },
   "cell_type": "code",
   "source": [
    "data = np.load(\"new_signal_data.npy\", allow_pickle=True)\n",
    "keys = list(data.item().keys())\n",
    "max_length = max([len(data.item().get(key)) for key in keys])\n",
    "signal_data = {}\n",
    "\n",
    "for key in keys:\n",
    "    signal_data[key] = data.item().get(key)\n",
    "\n",
    "\n",
    "def padding_data(combo):\n",
    "    for key in keys:\n",
    "        combo[key] = np.pad(combo[key], (0, max_length - len(combo[key])), mode='constant', constant_values=0)\n",
    "    return combo\n",
    "\n",
    "\n",
    "signal_data = padding_data(signal_data)\n",
    "signal_matrix = np.array([values for values in signal_data.values()])\n",
    "signal_matrix.shape"
   ],
   "outputs": [
    {
     "data": {
      "text/plain": [
       "(196, 22876)"
      ]
     },
     "execution_count": 33,
     "metadata": {},
     "output_type": "execute_result"
    }
   ],
   "execution_count": 33
  },
  {
   "metadata": {
    "ExecuteTime": {
     "end_time": "2024-07-25T12:54:17.872994Z",
     "start_time": "2024-07-25T12:54:17.870294Z"
    }
   },
   "cell_type": "code",
   "source": "signal_matrix = signal_matrix.T",
   "outputs": [],
   "execution_count": 34
  },
  {
   "metadata": {
    "ExecuteTime": {
     "end_time": "2024-07-25T12:54:18.080640Z",
     "start_time": "2024-07-25T12:54:18.070290Z"
    }
   },
   "cell_type": "code",
   "source": "clean_signal_matrix = signal_matrix[:,~np.all(np.isnan(signal_matrix), axis=0)]\n",
   "outputs": [],
   "execution_count": 35
  },
  {
   "metadata": {
    "ExecuteTime": {
     "end_time": "2024-07-25T12:54:18.399079Z",
     "start_time": "2024-07-25T12:54:18.393979Z"
    }
   },
   "cell_type": "code",
   "source": "clean_signal_matrix.shape",
   "outputs": [
    {
     "data": {
      "text/plain": [
       "(22876, 196)"
      ]
     },
     "execution_count": 36,
     "metadata": {},
     "output_type": "execute_result"
    }
   ],
   "execution_count": 36
  },
  {
   "cell_type": "markdown",
   "source": [
    "# Reshape fashion data (only if you use the fully connected network)"
   ],
   "metadata": {
    "id": "fegFoFY79_DN"
   }
  },
  {
   "metadata": {
    "ExecuteTime": {
     "end_time": "2024-07-25T12:54:54.135094Z",
     "start_time": "2024-07-25T12:54:54.108436Z"
    }
   },
   "cell_type": "code",
   "source": "xs_train, xs_test = train_test_split(clean_signal_matrix, test_size=0.2, random_state=42)",
   "outputs": [],
   "execution_count": 45
  },
  {
   "metadata": {
    "ExecuteTime": {
     "end_time": "2024-07-25T12:54:54.430745Z",
     "start_time": "2024-07-25T12:54:54.427005Z"
    }
   },
   "cell_type": "code",
   "source": "xs_train.shape",
   "outputs": [
    {
     "data": {
      "text/plain": [
       "(18300, 196)"
      ]
     },
     "execution_count": 46,
     "metadata": {},
     "output_type": "execute_result"
    }
   ],
   "execution_count": 46
  },
  {
   "metadata": {
    "ExecuteTime": {
     "end_time": "2024-07-25T12:54:54.713025Z",
     "start_time": "2024-07-25T12:54:54.708699Z"
    }
   },
   "cell_type": "code",
   "source": "xs_test.shape",
   "outputs": [
    {
     "data": {
      "text/plain": [
       "(4576, 196)"
      ]
     },
     "execution_count": 47,
     "metadata": {},
     "output_type": "execute_result"
    }
   ],
   "execution_count": 47
  },
  {
   "metadata": {
    "ExecuteTime": {
     "end_time": "2024-07-25T12:54:55.037488Z",
     "start_time": "2024-07-25T12:54:55.033950Z"
    }
   },
   "cell_type": "code",
   "source": [
    "xs_train = xs_train.reshape((xs_train.shape[0], -1))\n",
    "xs_test = xs_test.reshape((xs_test.shape[0], -1))"
   ],
   "outputs": [],
   "execution_count": 48
  },
  {
   "metadata": {
    "ExecuteTime": {
     "end_time": "2024-07-25T12:54:55.723707Z",
     "start_time": "2024-07-25T12:54:55.718722Z"
    }
   },
   "cell_type": "code",
   "source": "xs_test.shape",
   "outputs": [
    {
     "data": {
      "text/plain": [
       "(4576, 196)"
      ]
     },
     "execution_count": 49,
     "metadata": {},
     "output_type": "execute_result"
    }
   ],
   "execution_count": 49
  },
  {
   "metadata": {
    "ExecuteTime": {
     "end_time": "2024-07-25T12:54:55.967269Z",
     "start_time": "2024-07-25T12:54:55.963529Z"
    }
   },
   "cell_type": "code",
   "source": "xs_train.shape",
   "outputs": [
    {
     "data": {
      "text/plain": [
       "(18300, 196)"
      ]
     },
     "execution_count": 50,
     "metadata": {},
     "output_type": "execute_result"
    }
   ],
   "execution_count": 50
  },
  {
   "metadata": {},
   "cell_type": "code",
   "source": [
    "for i in range(32):\n",
    "    paint(i, 100, x_test[:,i])"
   ],
   "outputs": [],
   "execution_count": null
  },
  {
   "cell_type": "markdown",
   "source": [
    "# Calculate the losses for mnist digits and fasion mnist and plot a histogram"
   ],
   "metadata": {
    "id": "4fBYoW_w6aVM"
   }
  },
  {
   "metadata": {
    "ExecuteTime": {
     "end_time": "2024-07-25T12:54:58.824108Z",
     "start_time": "2024-07-25T12:54:58.683358Z"
    }
   },
   "cell_type": "code",
   "source": "signal_output = autoencoder.predict(xs_test)",
   "outputs": [
    {
     "name": "stdout",
     "output_type": "stream",
     "text": [
      "\u001B[1m143/143\u001B[0m \u001B[32m━━━━━━━━━━━━━━━━━━━━\u001B[0m\u001B[37m\u001B[0m \u001B[1m0s\u001B[0m 532us/step\n"
     ]
    }
   ],
   "execution_count": 52
  },
  {
   "cell_type": "markdown",
   "source": [
    "### Reshape only if you use the convolutional autoencoder"
   ],
   "metadata": {
    "id": "AWKnxR6aBh0O"
   }
  },
  {
   "metadata": {
    "ExecuteTime": {
     "end_time": "2024-07-25T13:07:02.049422Z",
     "start_time": "2024-07-25T13:07:02.045455Z"
    }
   },
   "cell_type": "code",
   "source": [
    "def paint(key, m, list, list2):\n",
    "    biny = bins(m, list)\n",
    "    plt.hist(list, bins=biny, color='blue')\n",
    "    plt.hist(list2, bins=biny, color='red')\n",
    "    plt.title(keys[key])\n",
    "    plt.show()"
   ],
   "outputs": [],
   "execution_count": 59
  },
  {
   "metadata": {},
   "cell_type": "code",
   "source": [
    "for i in range(2):\n",
    "    paint(i, 100, x_test[:,i], decoded_data[i])"
   ],
   "outputs": [],
   "execution_count": null
  },
  {
   "cell_type": "code",
   "source": [
    "losses = keras.losses.mean_squared_error(decoded_data, x_test)\n",
    "#print(losses[0:20])\n",
    "fashion_losses = keras.losses.mean_squared_error(signal_output, xs_test)\n",
    "#print(fashion_losses[0:20])"
   ],
   "metadata": {
    "id": "AmMFP1fc3e_1",
    "ExecuteTime": {
     "end_time": "2024-07-25T12:55:16.198402Z",
     "start_time": "2024-07-25T12:55:16.181593Z"
    }
   },
   "outputs": [],
   "execution_count": 58
  },
  {
   "cell_type": "code",
   "source": [
    "plt.hist(losses,bins=200,range=(0,0.1),label=\"background\",alpha=1)\n",
    "plt.hist(fashion_losses,bins=200,range=(0,0.1),label=\"signal\",alpha=1)\n",
    "plt.title(\"Losses for background and signal\")\n",
    "plt.legend()\n",
    "#plt.yscale('log')\n",
    "plt.savefig(f'518-128 E:{epochs}, bach:{batch_size}, dim:{encoding_dim}.png')\n",
    "plt.show()"
   ],
   "metadata": {
    "colab": {
     "base_uri": "https://localhost:8080/",
     "height": 452
    },
    "id": "D_hS7j-24Ci9",
    "outputId": "a3065b1b-e8f1-476c-a82e-8371c2dff805",
    "ExecuteTime": {
     "end_time": "2024-07-25T12:55:18.462222Z",
     "start_time": "2024-07-25T12:55:16.862003Z"
    }
   },
   "outputs": [
    {
     "data": {
      "text/plain": [
       "<Figure size 640x480 with 1 Axes>"
      ],
      "image/png": "[encoded data removed]"
     },
     "metadata": {},
     "output_type": "display_data"
    }
   ],
   "execution_count": 59
  },
  {
   "metadata": {
    "ExecuteTime": {
     "end_time": "2024-07-25T12:34:41.574319Z",
     "start_time": "2024-07-25T12:34:41.569713Z"
    }
   },
   "cell_type": "code",
   "source": [
    "def visualize_reconstruction_errors(autoencoder, data):\n",
    "    decoded_data = autoencoder.predict(data)\n",
    "    errors = np.mean(np.square(data - decoded_data), axis=1)\n",
    "    plt.figure(figsize=(10, 5))\n",
    "    plt.hist(errors, bins=50)\n",
    "    plt.xlabel('Reconstruction error')\n",
    "    plt.ylabel('Frequency')\n",
    "    plt.show()"
   ],
   "outputs": [],
   "execution_count": 152
  },
  {
   "metadata": {
    "ExecuteTime": {
     "end_time": "2024-07-25T12:35:09.703847Z",
     "start_time": "2024-07-25T12:35:09.426109Z"
    }
   },
   "cell_type": "code",
   "source": "visualize_reconstruction_errors(autoencoder, xs_test)",
   "outputs": [
    {
     "name": "stdout",
     "output_type": "stream",
     "text": [
      "\u001B[1m143/143\u001B[0m \u001B[32m━━━━━━━━━━━━━━━━━━━━\u001B[0m\u001B[37m\u001B[0m \u001B[1m0s\u001B[0m 1ms/step\n"
     ]
    },
    {
     "data": {
      "text/plain": [
       "<Figure size 1000x500 with 1 Axes>"
      ],
      "image/png": "[encoded data removed]"
     },
     "metadata": {},
     "output_type": "display_data"
    }
   ],
   "execution_count": 153
  },
  {
   "cell_type": "markdown",
   "source": [
    "# Outlier detection\n",
    "\n",
    "The autoencoder is trained on mnist hand-written digits. Therefore it does not reproduce the fashion elements well, therefore the losses are much higher than for mnist digits. Putting a cut on losses allows to identify the outliers.\n",
    "\n",
    "### Remark\n",
    "The autoencoder was never trained on \"fashion\" images."
   ],
   "metadata": {
    "id": "9aM2DYvs86sL"
   }
  }
 ]
}
