{
 "cells": [
  {
   "cell_type": "code",
   "id": "initial_id",
   "metadata": {
    "collapsed": true,
    "ExecuteTime": {
     "end_time": "2024-07-19T12:25:14.261535Z",
     "start_time": "2024-07-19T12:25:14.158288Z"
    }
   },
   "source": [
    "import uproot\n",
    "import numpy as np\n",
    "import os\n",
    "liczba = os.popen('cd dane/nowe; find -type f | wc -l').read()\n",
    "liczba2 = int(liczba)"
   ],
   "outputs": [],
   "execution_count": 1
  },
  {
   "metadata": {
    "ExecuteTime": {
     "end_time": "2024-07-19T12:25:15.398961Z",
     "start_time": "2024-07-19T12:25:15.395245Z"
    }
   },
   "cell_type": "code",
   "source": [
    "import glob\n",
    "file_pattern = \"dane/nowe/*.root\"\n",
    "files = glob.glob(file_pattern)"
   ],
   "id": "f69c679717f132dc",
   "outputs": [],
   "execution_count": 2
  },
  {
   "metadata": {
    "ExecuteTime": {
     "end_time": "2024-07-19T12:07:23.810530Z",
     "start_time": "2024-07-19T12:07:23.805162Z"
    }
   },
   "cell_type": "code",
   "source": [
    "file1 = uproot.open(\"dane/700490.root\")\n",
    "file2 = uproot.open(\"dane/700492.root\")\n",
    "file3 = uproot.open(\"dane/700493.root\")\n"
   ],
   "id": "30bd134ca68a6bf7",
   "outputs": [],
   "execution_count": 47
  },
  {
   "metadata": {
    "ExecuteTime": {
     "end_time": "2024-07-19T12:07:20.022265Z",
     "start_time": "2024-07-19T12:07:18.740222Z"
    }
   },
   "cell_type": "code",
   "source": [
    "branches1 = file1['nominal'].arrays(library=\"np\")\n",
    "branches2 = file2['nominal'].arrays(library=\"np\")\n",
    "branches3 = file3['nominal'].arrays(library=\"np\")\n"
   ],
   "id": "34d113256df80ba1",
   "outputs": [],
   "execution_count": 46
  },
  {
   "metadata": {
    "ExecuteTime": {
     "end_time": "2024-07-19T12:25:20.749611Z",
     "start_time": "2024-07-19T12:25:19.079952Z"
    }
   },
   "cell_type": "code",
   "source": "branch_list = [uproot.open(files[i])['nominal'].arrays(library=\"np\") for i in range (liczba2) ]",
   "id": "7f990629c7b9c642",
   "outputs": [],
   "execution_count": 3
  },
  {
   "metadata": {
    "ExecuteTime": {
     "end_time": "2024-07-19T12:25:22.159201Z",
     "start_time": "2024-07-19T12:25:22.156665Z"
    }
   },
   "cell_type": "code",
   "source": "combined_data = {}",
   "id": "4cf090bc5dfda321",
   "outputs": [],
   "execution_count": 4
  },
  {
   "metadata": {
    "ExecuteTime": {
     "end_time": "2024-07-19T12:25:23.037397Z",
     "start_time": "2024-07-19T12:25:23.033722Z"
    }
   },
   "cell_type": "code",
   "source": [
    "def delete_branches(branches):\n",
    "    del branches['jet_isbtagged_DL1r_77']\n",
    "    del branches['mc_kFactor']\n",
    "    del branches['RunYear']\n",
    "    del branches['mc_rawXSection']\n",
    "    del branches['lep_ID_0']"
   ],
   "id": "5f4c84702e6a41a3",
   "outputs": [],
   "execution_count": 5
  },
  {
   "metadata": {
    "ExecuteTime": {
     "end_time": "2024-07-19T12:25:23.926301Z",
     "start_time": "2024-07-19T12:25:23.922872Z"
    }
   },
   "cell_type": "code",
   "source": [
    "for i in branch_list:\n",
    "    delete_branches(i)\n",
    "    "
   ],
   "id": "bd11ccbfbcff1d46",
   "outputs": [],
   "execution_count": 6
  },
  {
   "metadata": {
    "ExecuteTime": {
     "end_time": "2024-07-19T12:25:47.272985Z",
     "start_time": "2024-07-19T12:25:47.269801Z"
    }
   },
   "cell_type": "code",
   "source": "keys = list(branch_list[0])",
   "id": "e3bf42696f4340ce",
   "outputs": [],
   "execution_count": 9
  },
  {
   "metadata": {
    "ExecuteTime": {
     "end_time": "2024-07-19T12:25:48.472279Z",
     "start_time": "2024-07-19T12:25:48.465171Z"
    }
   },
   "cell_type": "code",
   "source": [
    "'''\n",
    "k = 0\n",
    "l = 0\n",
    "for key in keys:\n",
    "    for i in range(len(branches3[key])):\n",
    "        if (np.array_equal(branches3[key][i], branches4[key][i])):\n",
    "            k += 1\n",
    "        else:\n",
    "            l += 1\n",
    "\n",
    "print(k)\n",
    "print(l)\n",
    "'''"
   ],
   "id": "b1bbd82dec4d121d",
   "outputs": [
    {
     "data": {
      "text/plain": [
       "'\\nk = 0\\nl = 0\\nfor key in keys:\\n    for i in range(len(branches3[key])):\\n        if (np.array_equal(branches3[key][i], branches4[key][i])):\\n            k += 1\\n        else:\\n            l += 1\\n\\nprint(k)\\nprint(l)\\n'"
      ]
     },
     "execution_count": 10,
     "metadata": {},
     "output_type": "execute_result"
    }
   ],
   "execution_count": 10
  },
  {
   "metadata": {
    "ExecuteTime": {
     "end_time": "2024-07-19T12:25:49.297924Z",
     "start_time": "2024-07-19T12:25:49.293751Z"
    }
   },
   "cell_type": "code",
   "source": [
    "def join_branchKey(arr):\n",
    "    combo = arr\n",
    "    if len(arr) > 1:\n",
    "        combo = np.concatenate([arr[0], arr[1]])\n",
    "        for i in range(len(arr)):\n",
    "            combo = np.concatenate([combo, arr[i]])\n",
    "    return combo"
   ],
   "id": "9c8cbc5a237b90ba",
   "outputs": [],
   "execution_count": 11
  },
  {
   "metadata": {
    "ExecuteTime": {
     "end_time": "2024-07-19T12:25:49.727517Z",
     "start_time": "2024-07-19T12:25:49.723944Z"
    }
   },
   "cell_type": "code",
   "source": [
    "def join_branch(branch):\n",
    "    for key in keys:\n",
    "        if all(isinstance(item, np.ndarray) for item in branch[key]):\n",
    "            branch[key] = join_branchKey(branch[key])\n",
    "    return branch"
   ],
   "id": "ae0b03899eb801f1",
   "outputs": [],
   "execution_count": 12
  },
  {
   "metadata": {
    "ExecuteTime": {
     "end_time": "2024-07-19T12:25:50.206540Z",
     "start_time": "2024-07-19T12:25:50.184805Z"
    }
   },
   "cell_type": "code",
   "source": [
    "for i in range(len(branch_list)):\n",
    "    branch_list[i] = join_branch(branch_list[i])"
   ],
   "id": "176621a28da5123e",
   "outputs": [],
   "execution_count": 13
  },
  {
   "metadata": {
    "ExecuteTime": {
     "end_time": "2024-07-19T12:26:10.764149Z",
     "start_time": "2024-07-19T12:26:10.754503Z"
    }
   },
   "cell_type": "code",
   "source": [
    "for i in keys:\n",
    "    combo = np.concatenate([branch_list[0][i], branch_list[1][i]])\n",
    "    for k in branch_list:\n",
    "        combo = np.concatenate([combo, k[i]])\n",
    "    combined_data[i] = combo\n",
    "    try:\n",
    "        combined_data[i] = combined_data[i].astype(np.float32)\n",
    "    except ValueError:\n",
    "        print(i)"
   ],
   "id": "27e889c22df72d49",
   "outputs": [],
   "execution_count": 15
  },
  {
   "metadata": {
    "ExecuteTime": {
     "end_time": "2024-07-19T12:26:14.555112Z",
     "start_time": "2024-07-19T12:26:14.551716Z"
    }
   },
   "cell_type": "code",
   "source": "combined_data = join_branch(combined_data)",
   "id": "493704b8006cf669",
   "outputs": [],
   "execution_count": 16
  },
  {
   "metadata": {
    "ExecuteTime": {
     "end_time": "2024-07-19T12:26:15.053518Z",
     "start_time": "2024-07-19T12:26:15.048776Z"
    }
   },
   "cell_type": "code",
   "source": [
    "def minus_value_filter(keys, branch):\n",
    "    try:\n",
    "        for key in keys:\n",
    "            min = np.min(branch[key])\n",
    "            max = np.max(branch[key])\n",
    "            distance = abs(max - min)\n",
    "            for i in range(len(branch[key])):\n",
    "                branch[key][i] = branch[key][i] + distance\n",
    "        return branch\n",
    "    except ValueError:\n",
    "        print(key)"
   ],
   "id": "584a473f52818b9b",
   "outputs": [],
   "execution_count": 17
  },
  {
   "metadata": {
    "ExecuteTime": {
     "end_time": "2024-07-19T12:26:15.956914Z",
     "start_time": "2024-07-19T12:26:15.657014Z"
    }
   },
   "cell_type": "code",
   "source": "combined_data = minus_value_filter(keys, combined_data)\n",
   "id": "17d949eba91efde1",
   "outputs": [],
   "execution_count": 18
  },
  {
   "metadata": {
    "ExecuteTime": {
     "end_time": "2024-07-19T12:26:16.732081Z",
     "start_time": "2024-07-19T12:26:16.728659Z"
    }
   },
   "cell_type": "code",
   "source": [
    "def norm(keys, branch):\n",
    "    \n",
    "    maxes = {}\n",
    "    mins = {}\n",
    "    \n",
    "    for key in keys:\n",
    "        max = np.max(branch[key])\n",
    "        min = np.min(branch[key])\n",
    "        \n",
    "        \n",
    "        for i in range(len(branch[key])):\n",
    "            if max != 0:\n",
    "                branch[key][i] = branch[key][i] / max\n",
    "        if(max != 0):\n",
    "            maxes[key] = max / max    \n",
    "            mins[key] = min / max\n",
    "        \n",
    "        \n",
    "    return [branch, maxes, mins]"
   ],
   "id": "d7c0258eac28959b",
   "outputs": [],
   "execution_count": 19
  },
  {
   "metadata": {
    "ExecuteTime": {
     "end_time": "2024-07-19T12:26:20.416036Z",
     "start_time": "2024-07-19T12:26:17.743166Z"
    }
   },
   "cell_type": "code",
   "source": "combined_data = norm(keys, combined_data)[0]",
   "id": "f8e1db198e45c29d",
   "outputs": [
    {
     "name": "stderr",
     "output_type": "stream",
     "text": [
      "/tmp/ipykernel_18624/2937484694.py:13: RuntimeWarning: invalid value encountered in scalar divide\n",
      "  branch[key][i] = branch[key][i] / max\n",
      "/tmp/ipykernel_18624/2937484694.py:15: RuntimeWarning: invalid value encountered in scalar divide\n",
      "  maxes[key] = max / max\n",
      "/tmp/ipykernel_18624/2937484694.py:16: RuntimeWarning: invalid value encountered in scalar divide\n",
      "  mins[key] = min / max\n"
     ]
    }
   ],
   "execution_count": 20
  },
  {
   "metadata": {
    "ExecuteTime": {
     "end_time": "2024-07-19T12:26:21.398081Z",
     "start_time": "2024-07-19T12:26:21.210157Z"
    }
   },
   "cell_type": "code",
   "source": "import matplotlib.pyplot as plt",
   "id": "ad23dfbe8e9b8594",
   "outputs": [],
   "execution_count": 21
  },
  {
   "metadata": {
    "ExecuteTime": {
     "end_time": "2024-07-19T12:26:21.911220Z",
     "start_time": "2024-07-19T12:26:21.907457Z"
    }
   },
   "cell_type": "code",
   "source": [
    "def bins(n, list):\n",
    "    bins = []\n",
    "    \n",
    "    list = sorted(list)\n",
    "    \n",
    "    last = list[-1]\n",
    "    k = np.min(list)\n",
    "    while k < last:\n",
    "        bins.append(k)\n",
    "        k += (last - list[0])/n\n",
    "    \n",
    "    \n",
    "    return bins"
   ],
   "id": "6191a2671b537a90",
   "outputs": [],
   "execution_count": 22
  },
  {
   "metadata": {
    "ExecuteTime": {
     "end_time": "2024-07-19T12:26:22.588546Z",
     "start_time": "2024-07-19T12:26:22.584096Z"
    }
   },
   "cell_type": "code",
   "source": [
    "def cuting(list):\n",
    "    mean = np.mean(list)\n",
    "    std = np.std(list)\n",
    "    \n",
    "    filtred = []\n",
    "    \n",
    "    max_list = []\n",
    "    min_list = []\n",
    "    \n",
    "    max_plus = mean + 5*std\n",
    "    max_minus = mean - 5*std\n",
    "    for i in range(len(list)):\n",
    "        if(list[i] <= max_plus and list[i] >= max_minus):\n",
    "            filtred.append(list[i])\n",
    "        elif (list[i] >= max_plus):\n",
    "          max_list.append(list[i])\n",
    "        elif (list[i] <= max_minus):\n",
    "            min_list.append(list[i])\n",
    "    if (len(max_list) > 0):\n",
    "        cut_max = np.min(max_list)\n",
    "    else:\n",
    "        cut_max = np.max(filtred)\n",
    "    if(len(min_list) > 0):\n",
    "        cut_min = np.max(min_list)\n",
    "    else:\n",
    "        cut_min = np.min(filtred)\n",
    "    \n",
    "    \n",
    "    return [np.array(filtred), cut_max, cut_min]"
   ],
   "id": "58012cbd1eb8e18a",
   "outputs": [],
   "execution_count": 23
  },
  {
   "metadata": {
    "ExecuteTime": {
     "end_time": "2024-07-19T12:26:24.042421Z",
     "start_time": "2024-07-19T12:26:23.172789Z"
    }
   },
   "cell_type": "code",
   "source": [
    "globals_max = {}\n",
    "globals_min = {}\n",
    "\n",
    "for key in keys:\n",
    "    try:\n",
    "        cut = cuting(combined_data[key])\n",
    "        combined_data[key] = cut[0]\n",
    "        globals_max[key] = cut[1]\n",
    "        globals_min[key] = cut[2]\n",
    "    except ValueError:\n",
    "        print(key)"
   ],
   "id": "b50ba43a9d484d11",
   "outputs": [
    {
     "name": "stdout",
     "output_type": "stream",
     "text": [
      "p_sumElepAll_EJet\n",
      "p_sumPtleptauAll_Ptjet\n"
     ]
    }
   ],
   "execution_count": 24
  },
  {
   "metadata": {
    "ExecuteTime": {
     "end_time": "2024-07-19T12:26:25.066289Z",
     "start_time": "2024-07-19T12:26:25.062918Z"
    }
   },
   "cell_type": "code",
   "source": "combined_data['p_sumElepAll_EJet']",
   "id": "c461f5202af4dde5",
   "outputs": [
    {
     "data": {
      "text/plain": [
       "array([nan, nan, nan, ..., nan, nan, nan], dtype=float32)"
      ]
     },
     "execution_count": 25,
     "metadata": {},
     "output_type": "execute_result"
    }
   ],
   "execution_count": 25
  },
  {
   "metadata": {
    "ExecuteTime": {
     "end_time": "2024-07-19T12:26:26.228136Z",
     "start_time": "2024-07-19T12:26:26.224628Z"
    }
   },
   "cell_type": "code",
   "source": [
    "def paint(key, m, list):\n",
    "    fig = plt.figure()\n",
    "    biny = bins(m, list)\n",
    "    plt.hist(combined_data[key], bins=biny)\n",
    "    plt.title(key)\n",
    "    return fig"
   ],
   "id": "475f914b5fe98802",
   "outputs": [],
   "execution_count": 26
  },
  {
   "metadata": {
    "ExecuteTime": {
     "end_time": "2024-07-19T12:26:31.007849Z",
     "start_time": "2024-07-19T12:26:29.159214Z"
    }
   },
   "cell_type": "code",
   "source": [
    "for i in range(0, 10):\n",
    "    paint(keys[i], 100, combined_data[keys[i]])"
   ],
   "id": "ab0ec2ba55621351",
   "outputs": [
    {
     "data": {
      "text/plain": [
       "<Figure size 640x480 with 1 Axes>"
      ],
      "image/png": "[encoded data removed]"
     },
     "metadata": {},
     "output_type": "display_data"
    },
    {
     "data": {
      "text/plain": [
       "<Figure size 640x480 with 1 Axes>"
      ],
      "image/png": "[encoded data removed]"
     },
     "metadata": {},
     "output_type": "display_data"
    },
    {
     "data": {
      "text/plain": [
       "<Figure size 640x480 with 1 Axes>"
      ],
      "image/png": "[encoded data removed]"
     },
     "metadata": {},
     "output_type": "display_data"
    },
    {
     "data": {
      "text/plain": [
       "<Figure size 640x480 with 1 Axes>"
      ],
      "image/png": "[encoded data removed]"
     },
     "metadata": {},
     "output_type": "display_data"
    },
    {
     "data": {
      "text/plain": [
       "<Figure size 640x480 with 1 Axes>"
      ],
      "image/png": "[encoded data removed]"
     },
     "metadata": {},
     "output_type": "display_data"
    },
    {
     "data": {
      "text/plain": [
       "<Figure size 640x480 with 1 Axes>"
      ],
      "image/png": "[encoded data removed]"
     },
     "metadata": {},
     "output_type": "display_data"
    },
    {
     "data": {
      "text/plain": [
       "<Figure size 640x480 with 1 Axes>"
      ],
      "image/png": "[encoded data removed]"
     },
     "metadata": {},
     "output_type": "display_data"
    },
    {
     "data": {
      "text/plain": [
       "<Figure size 640x480 with 1 Axes>"
      ],
      "image/png": "[encoded data removed]"
     },
     "metadata": {},
     "output_type": "display_data"
    },
    {
     "data": {
      "text/plain": [
       "<Figure size 640x480 with 1 Axes>"
      ],
      "image/png": "[encoded data removed]"
     },
     "metadata": {},
     "output_type": "display_data"
    },
    {
     "data": {
      "text/plain": [
       "<Figure size 640x480 with 1 Axes>"
      ],
      "image/png": "[encoded data removed]"
     },
     "metadata": {},
     "output_type": "display_data"
    }
   ],
   "execution_count": 27
  },
  {
   "metadata": {
    "ExecuteTime": {
     "end_time": "2024-07-19T10:06:00.820723Z",
     "start_time": "2024-07-19T10:06:00.807894Z"
    }
   },
   "cell_type": "code",
   "source": "globals_min",
   "id": "69002728f02dd088",
   "outputs": [
    {
     "data": {
      "text/plain": [
       "{'jet_pt': 0.5028668,\n",
       " 'jet_eta': 0.33319655,\n",
       " 'jet_phi': 0.33335266,\n",
       " 'jet_e': 0.50213695,\n",
       " 'lep_Pt_0': 0.50006557,\n",
       " 'lep_E_0': 0.50000983,\n",
       " 'lep_Eta_0': 0.33534834,\n",
       " 'lep_Phi_0': 0.33333263,\n",
       " 'lep_EtaBE2_0': 0.33326712,\n",
       " 'lep_sigd0PV_0': 0.33323246,\n",
       " 'lep_Z0SinTheta_0': 0.45291635,\n",
       " 'lep_d0_0': 0.5930809,\n",
       " 'lep_z0_0': 0.3548144,\n",
       " 'lep_vz_0': 0.0,\n",
       " 'lep_deltaz0_0': 0.5439439,\n",
       " 'lep_RadiusCO_0': 0.22850336,\n",
       " 'lep_RadiusCOX_0': 0.20439482,\n",
       " 'lep_RadiusCOY_0': 0.21749033,\n",
       " 'lep_SeparationMinDCT_0': 0.0009847003,\n",
       " 'lep_ClosestSiTracknIL_0': 0.001994018,\n",
       " 'lep_ClosestSiTrackeIL_0': 0.000999001,\n",
       " 'lep_ClosestSiTracknNIL_0': 0.0029850747,\n",
       " 'lep_ClosestSiTrackeNIL_0': 0.000999001,\n",
       " 'lep_BestMatchTrackEta_0': 0.3333022,\n",
       " 'lep_BestMatchTrackPhi_0': 0.33329377,\n",
       " 'lep_BestMatchTrackD0_0': 0.6207278,\n",
       " 'lep_BestMatchTrackZ0_0': 0.33962548,\n",
       " 'lep_BestMatchTrackQ_0': 0.33333334,\n",
       " 'lep_ClosestSiTrackEta_0': 0.0025635234,\n",
       " 'lep_ClosestSiTrackD0_0': 0.02002804,\n",
       " 'lep_ClosestSiTrackZ0_0': 0.102060854,\n",
       " 'lep_ClosestSiTrackQ_0': 0.000999001,\n",
       " 'lep_chargeIDBDTLoose_0': 0.5,\n",
       " 'lep_ID_1': 0.33333334,\n",
       " 'lep_Pt_1': 0.50776213,\n",
       " 'lep_E_1': 0.50304574,\n",
       " 'lep_Eta_1': 0.3332953,\n",
       " 'lep_Phi_1': 0.3333855,\n",
       " 'lep_EtaBE2_1': 0.33332485,\n",
       " 'lep_sigd0PV_1': 0.33248088,\n",
       " 'lep_Z0SinTheta_1': 0.42173076,\n",
       " 'lep_d0_1': 0.77019566,\n",
       " 'lep_z0_1': 0.3485967,\n",
       " 'lep_vz_1': 0.0,\n",
       " 'lep_deltaz0_1': 0.48858455,\n",
       " 'lep_RadiusCO_1': 0.23799063,\n",
       " 'lep_RadiusCOX_1': 0.17650099,\n",
       " 'lep_RadiusCOY_1': 0.19366656,\n",
       " 'lep_SeparationMinDCT_1': 0.000940515,\n",
       " 'lep_ClosestSiTracknIL_1': 0.001994018,\n",
       " 'lep_ClosestSiTrackeIL_1': 0.000999001,\n",
       " 'lep_ClosestSiTracknNIL_1': 0.0029850747,\n",
       " 'lep_ClosestSiTrackeNIL_1': 0.000999001,\n",
       " 'lep_BestMatchTrackEta_1': 0.33396327,\n",
       " 'lep_BestMatchTrackPhi_1': 0.33338067,\n",
       " 'lep_BestMatchTrackD0_1': 0.56977373,\n",
       " 'lep_BestMatchTrackZ0_1': 0.34434608,\n",
       " 'lep_BestMatchTrackQ_1': 0.33333334,\n",
       " 'lep_ClosestSiTrackEta_1': 0.0025705984,\n",
       " 'lep_ClosestSiTrackD0_1': 0.02795578,\n",
       " 'lep_ClosestSiTrackZ0_1': 0.115429424,\n",
       " 'lep_ClosestSiTrackQ_1': 0.000999001,\n",
       " 'lep_chargeIDBDTLoose_1': 0.5,\n",
       " 'tau_pt_0': 0.5081269,\n",
       " 'tau_eta_0': 0.333264,\n",
       " 'tau_phi_0': 0.33345848,\n",
       " 'tau_charge_0': 0.33333334,\n",
       " 'tau_E_0': 0.5060293,\n",
       " 'tau_width_0': 0.5006938,\n",
       " 'tau_BDTJetScore_0': 0.34614944,\n",
       " 'tau_numTrack_0': 0.6,\n",
       " 'taus_DL1r_0': -0.0020100502,\n",
       " 'tau_BDTEleScoreSigTrans_0': 0.50002116,\n",
       " 'tau_BDTJetScoreSigTrans_0': 0.50071377,\n",
       " 'tau_RNNJetScoreSigTrans_0': 0.54070896,\n",
       " 'Mll01': 0.50001097,\n",
       " 'Ptll01': 0.5000027,\n",
       " 'DRll01': 0.50007975,\n",
       " 'best_Z_Mll': 0.0,\n",
       " 'best_Z_other_MtLepMet': 0.0,\n",
       " 'best_Z_other_Mll': 0.0,\n",
       " 'minOSSFMll': 0.0,\n",
       " 'minOSMll': 0.0,\n",
       " 'nJets_OR': 0.5,\n",
       " 'HT': 0.5002127,\n",
       " 'HT_lep': 0.50013024,\n",
       " 'HT_jets': 0.5,\n",
       " 'lead_jetPt': 0.5,\n",
       " 'lead_jetEta': 0.3332095,\n",
       " 'lead_jetPhi': 0.3334247,\n",
       " 'lead_jetE': 0.5,\n",
       " 'sublead_jetPt': 0.5,\n",
       " 'sublead_jetEta': 0.33317652,\n",
       " 'sublead_jetPhi': 0.33334538,\n",
       " 'sublead_jetE': 0.5,\n",
       " 'weight_lumi_xsec': 0.5564593,\n",
       " 'totalEventsWeighted': 0.52565503,\n",
       " 'p_Deta_l1_l2': 0.32789454,\n",
       " 'p_DR_l1_t1': 0.51876247,\n",
       " 'p_DR_l2_t1': 0.5140185,\n",
       " 'p_Deta_l1_t1': 0.33363333,\n",
       " 'p_Deta_l2_t1': 0.3316315,\n",
       " 'p_Dphi_l1_t1': 0.33331797,\n",
       " 'p_Dphi_l2_t1': 0.33333603,\n",
       " 'p_invMass_l1_t1': 0.5009267,\n",
       " 'p_invMass_l2_t1': 0.50269574,\n",
       " 'p_invMass_j1_j2': 0.5,\n",
       " 'p_Deta_j1_j2': 0.32414597,\n",
       " 'p_Dphi_j1_j2': 0.33330452,\n",
       " 'p_DR_j1_j2': 0.5,\n",
       " 'p_Dphi_l1_j1': 0.3333346,\n",
       " 'p_Dphi_l1_j2': 0.33327544,\n",
       " 'p_Dphi_l2_j1': 0.33325675,\n",
       " 'p_Dphi_l2_j2': 0.33328426,\n",
       " 'p_Deta_l1_j1': 0.32434484,\n",
       " 'p_Deta_l1_j2': 0.32837352,\n",
       " 'p_Deta_l2_j1': 0.33452284,\n",
       " 'p_Deta_l2_j2': 0.33466554,\n",
       " 'p_DR_l1_j1': 0.5040461,\n",
       " 'p_DR_l1_j2': 0.5021244,\n",
       " 'p_DR_l2_j1': 0.50341433,\n",
       " 'p_DR_l2_j2': 0.5035465,\n",
       " 'p_invMass_l1_j1': 0.5,\n",
       " 'p_invMass_l1_j2': 0.5,\n",
       " 'p_invMass_l2_j1': 0.5,\n",
       " 'p_invMass_l2_j2': 0.5,\n",
       " 'p_drCloserLepToTau': 0.51646274,\n",
       " 'p_detaCloserJetToTau': 0.50000304,\n",
       " 'p_detaCloserLepToTau': 0.32230142,\n",
       " 'p_drCloserJetToTau': 0.5027402,\n",
       " 'p_invMCloserJetToTau': 0.49995658,\n",
       " 'p_invMCloserLepToTau': 0.50068283,\n",
       " 'p_maxeta2leptons': 0.34370193,\n",
       " 'p_detaCloserJetToLeadLep': 0.500002,\n",
       " 'p_drCloserJetToLeadLep': 0.5052533,\n",
       " 'p_invMCloserJetToLeadLep': 0.5,\n",
       " 'p_detaFarestJetToTau': 0.16542862,\n",
       " 'p_drFarestJetToTau': 0.1797852,\n",
       " 'p_drFarestJetToLeadLep': 0.1779422,\n",
       " 'p_detaFarestJetToLeadLep': 0.16607583,\n",
       " 'p_invMFarestJetToLeadLep': 0.5,\n",
       " 'p_invMFarestJetToTau': 0.4999654,\n",
       " 'p_angle_LeadLepTau': 0.5081414,\n",
       " 'p_angle_Lep1_Lep2': 0.50002724,\n",
       " 'p_angle_Lep2ToTau': 0.5067254,\n",
       " 'p_angle_LeadJetToTau': 0.5,\n",
       " 'p_angle_LeadJetToLeadLep': 0.5,\n",
       " 'p_angle_LeadJetToLep2': 0.5,\n",
       " 'p_angle_LeadJetSubLeadJet': 0.5,\n",
       " 'p_angle_closetJetToTau': 0.5,\n",
       " 'p_angle_closetJetToL1': 0.5,\n",
       " 'p_angle_farestJetToTau': 0.5,\n",
       " 'p_angle_farestJetToL1': 0.5,\n",
       " 'p_angle_closetJetToL2': 0.5,\n",
       " 'p_angle_farestJetToL2': 0.5,\n",
       " 'p_drCloserJetToLep2': 0.5050287,\n",
       " 'p_detaCloserJetToLep2': 0.5000008,\n",
       " 'p_invMCloserJetToLep2': 0.5,\n",
       " 'p_drFarestJetToLep2': 0.18049662,\n",
       " 'p_detaFarestJetToLep2': 0.1662562,\n",
       " 'p_invMFarestJetToLep2': 0.5,\n",
       " 'p_sumElep1lep2_Etau': 0.500002,\n",
       " 'p_sumPtlep1lep2_Pttau': 0.5000159,\n",
       " 'p_invMl1j1j2': 0.5,\n",
       " 'p_invMl2j1j2': 0.5,\n",
       " 'p_invMt1l1l2': 0.5017,\n",
       " 'p_LBoost2L_lep1Pt': 0.50001276,\n",
       " 'p_LBoost2L_lep2Pt': 0.5000084,\n",
       " 'p_LBoost2L_tauPt': 0.50002044,\n",
       " 'p_LBoost2L_lep1Theta': 0.50111234,\n",
       " 'p_LBoost2L_lep2Theta': 0.5024281,\n",
       " 'p_LBoost2L_tauTheta': 0.50071603,\n",
       " 'p_LBoost2L_DiffLep1Lep2eta': 0.35179666,\n",
       " 'p_LBoost2L_DiffTauLep1eta': 0.31329778,\n",
       " 'p_LBoost2L_DiffTauLep2eta': 0.34892344,\n",
       " 'p_LBoost2L_DiffLep1Lep2phi': 0.3333333,\n",
       " 'p_LBoost2L_DiffTauLep1phi': 0.3332926,\n",
       " 'p_LBoost2L_DiffTauLep2phi': 0.33274564,\n",
       " 'p_LBoost2L_AngleL1L2': 0.9437567,\n",
       " 'p_LBoost2L_AngleL1Tau': 0.5142198,\n",
       " 'p_LBoost2L_AngleL2Tau': 0.5032511,\n",
       " 'p_LBoost2L_AngleL1J1': 0.5,\n",
       " 'p_LBoost2L_AngleL1J2': 0.5,\n",
       " 'p_LBoost2L_AngleL2J1': 0.5,\n",
       " 'p_LBoost2L_AngleL2J2': 0.5,\n",
       " 'p_LBoost2L_AngleTauJ1': 0.5,\n",
       " 'p_LBoost2L_AngleTauJ2': 0.5,\n",
       " 'p_LBoost2L_DRL1L2': 0.57074934,\n",
       " 'p_LBoost2L_DRL1Tau': 0.5171425,\n",
       " 'p_LBoost2L_DRL2Tau': 0.50328106,\n",
       " 'p_LBoost2L_DRL1J1': 0.50229657,\n",
       " 'p_LBoost2L_DRL1J2': 0.5009951,\n",
       " 'p_LBoost2L_DRL2J1': 0.5025929,\n",
       " 'p_LBoost2L_DRL2J2': 0.501775,\n",
       " 'p_LBoost2L_DRTauJ1': 0.50015074,\n",
       " 'p_LBoost2L_DRTauJ2': 0.500234,\n",
       " 'p_LBoost2L_drCloserJetToTau': 0.50086385,\n",
       " 'p_LBoost2L_drCloserJetToLeadLep': 0.5010367,\n",
       " 'p_LBoost2L_drFarestJetToTau': 0.5007987,\n",
       " 'p_LBoost2L_drFarestJetToLeadLep': 0.50094384,\n",
       " 'p_LBoost2L_angle_closetJetToTau': 0.5,\n",
       " 'p_LBoost2L_angle_closetJetToL1': 0.5,\n",
       " 'p_LBoost2L_angle_farestJetToTau': 0.5,\n",
       " 'p_LBoost2L_angle_farestJetToL1': 0.5,\n",
       " 'p_LBoost2L_angle_closetJetToL2': 0.5,\n",
       " 'p_LBoost2L_angle_farestJetToL2': 0.5,\n",
       " 'p_LBoost2L_drCloserJetToLep2': 0.50162524,\n",
       " 'p_LBoost2L_drFarestJetToLep2': 0.5014333,\n",
       " 'p_LBoostL1Tau_lep1Pt': 0.5004342,\n",
       " 'p_LBoostL1Tau_lep2Pt': 0.50002813,\n",
       " 'p_LBoostL1Tau_tauPt': 0.5004342,\n",
       " 'p_LBoostL1Tau_lep1Theta': 0.50361496,\n",
       " 'p_LBoostL1Tau_lep2Theta': 0.5012545,\n",
       " 'p_LBoostL1Tau_tauTheta': 0.5020888,\n",
       " 'p_LBoostL1Tau_DiffLep1Lep2eta': 0.34678772,\n",
       " 'p_LBoostL1Tau_DiffTauLep1eta': 0.34804067,\n",
       " 'p_LBoostL1Tau_DiffTauLep2eta': 0.30723345,\n",
       " 'p_LBoostL1Tau_DiffLep1Lep2phi': 0.33327636,\n",
       " 'p_LBoostL1Tau_DiffTauLep1phi': 0.3333333,\n",
       " 'p_LBoostL1Tau_DiffTauLep2phi': 0.3332925,\n",
       " 'p_LBoostL1Tau_AngleL1L2': 0.50023293,\n",
       " 'p_LBoostL1Tau_AngleL1Tau': 0.9999937,\n",
       " 'p_LBoostL1Tau_AngleL2Tau': 0.50429034,\n",
       " 'p_LBoostL1Tau_AngleL1J1': 0.5,\n",
       " 'p_LBoostL1Tau_AngleL1J2': 0.5,\n",
       " 'p_LBoostL1Tau_AngleL2J1': 0.5,\n",
       " 'p_LBoostL1Tau_AngleL2J2': 0.5,\n",
       " 'p_LBoostL1Tau_AngleTauJ1': 0.5,\n",
       " 'p_LBoostL1Tau_AngleTauJ2': 0.5,\n",
       " 'p_LBoostL1Tau_DRL1L2': 0.50010204,\n",
       " 'p_LBoostL1Tau_DRL1Tau': 0.60223454,\n",
       " 'p_LBoostL1Tau_DRL2Tau': 0.5033758,\n",
       " 'p_LBoostL1Tau_DRL1J1': 0.50213015,\n",
       " 'p_LBoostL1Tau_DRL1J2': 0.5019569,\n",
       " 'p_LBoostL1Tau_DRL2J1': 0.5009322,\n",
       " 'p_LBoostL1Tau_DRL2J2': 0.50128865,\n",
       " 'p_LBoostL1Tau_DRTauJ1': 0.5039672,\n",
       " 'p_LBoostL1Tau_DRTauJ2': 0.50216436,\n",
       " 'p_LBoostL1Tau_drCloserJetToTau': 0.5028667,\n",
       " 'p_LBoostL1Tau_drCloserJetToLeadLep': 0.5014807,\n",
       " 'p_LBoostL1Tau_drFarestJetToTau': 0.5033185,\n",
       " 'p_LBoostL1Tau_drFarestJetToLeadLep': 0.5022591,\n",
       " 'p_LBoostL1Tau_angle_closetJetToTau': 0.5,\n",
       " 'p_LBoostL1Tau_angle_closetJetToL1': 0.5,\n",
       " 'p_LBoostL1Tau_angle_farestJetToTau': 0.5,\n",
       " 'p_LBoostL1Tau_angle_farestJetToL1': 0.5,\n",
       " 'p_LBoostL1Tau_angle_closetJetToL2': 0.5,\n",
       " 'p_LBoostL1Tau_angle_farestJetToL2': 0.5,\n",
       " 'p_LBoostL1Tau_drCloserJetToLep2': 0.50167704,\n",
       " 'p_LBoostL1Tau_drFarestJetToLep2': 0.5017501,\n",
       " 'p_LBoostL2Tau_lep1Pt': 0.5000043,\n",
       " 'p_LBoostL2Tau_lep2Pt': 0.5000937,\n",
       " 'p_LBoostL2Tau_tauPt': 0.5000937,\n",
       " 'p_LBoostL2Tau_lep1Theta': 0.50300276,\n",
       " 'p_LBoostL2Tau_lep2Theta': 0.50088465,\n",
       " 'p_LBoostL2Tau_tauTheta': 0.5006204,\n",
       " 'p_LBoostL2Tau_DiffLep1Lep2eta': 0.3297528,\n",
       " 'p_LBoostL2Tau_DiffTauLep1eta': 0.33243677,\n",
       " 'p_LBoostL2Tau_DiffTauLep2eta': 0.34059873,\n",
       " 'p_LBoostL2Tau_DiffLep1Lep2phi': 0.3333444,\n",
       " 'p_LBoostL2Tau_DiffTauLep1phi': 0.3333491,\n",
       " 'p_LBoostL2Tau_DiffTauLep2phi': 0.3333333,\n",
       " 'p_LBoostL2Tau_AngleL1L2': 0.5001591,\n",
       " 'p_LBoostL2Tau_AngleL1Tau': 0.50688225,\n",
       " 'p_LBoostL2Tau_AngleL2Tau': 0.9999888,\n",
       " 'p_LBoostL2Tau_AngleL1J1': 0.5,\n",
       " 'p_LBoostL2Tau_AngleL1J2': 0.5,\n",
       " 'p_LBoostL2Tau_AngleL2J1': 0.5,\n",
       " 'p_LBoostL2Tau_AngleL2J2': 0.5,\n",
       " 'p_LBoostL2Tau_AngleTauJ1': 0.5,\n",
       " 'p_LBoostL2Tau_AngleTauJ2': 0.5,\n",
       " 'p_LBoostL2Tau_DRL1L2': 0.5000887,\n",
       " 'p_LBoostL2Tau_DRL1Tau': 0.50369865,\n",
       " 'p_LBoostL2Tau_DRL2Tau': 0.57878417,\n",
       " 'p_LBoostL2Tau_DRL1J1': 0.5006708,\n",
       " 'p_LBoostL2Tau_DRL1J2': 0.50035584,\n",
       " 'p_LBoostL2Tau_DRL2J1': 0.5027089,\n",
       " 'p_LBoostL2Tau_DRL2J2': 0.5004645,\n",
       " 'p_LBoostL2Tau_DRTauJ1': 0.5021458,\n",
       " 'p_LBoostL2Tau_DRTauJ2': 0.5012035,\n",
       " 'p_LBoostL2Tau_drCloserJetToTau': 0.5010061,\n",
       " 'p_LBoostL2Tau_drCloserJetToLeadLep': 0.5003928,\n",
       " 'p_LBoostL2Tau_drFarestJetToTau': 0.50092924,\n",
       " 'p_LBoostL2Tau_drFarestJetToLeadLep': 0.5003343,\n",
       " 'p_LBoostL2Tau_angle_closetJetToTau': 0.5,\n",
       " 'p_LBoostL2Tau_angle_closetJetToL1': 0.5,\n",
       " 'p_LBoostL2Tau_angle_farestJetToTau': 0.5,\n",
       " 'p_LBoostL2Tau_angle_farestJetToL1': 0.5,\n",
       " 'p_LBoostL2Tau_angle_closetJetToL2': 0.5,\n",
       " 'p_LBoostL2Tau_angle_farestJetToL2': 0.5,\n",
       " 'p_LBoostL2Tau_drCloserJetToLep2': 0.5004522,\n",
       " 'p_LBoostL2Tau_drFarestJetToLep2': 0.50140876}"
      ]
     },
     "execution_count": 27,
     "metadata": {},
     "output_type": "execute_result"
    }
   ],
   "execution_count": 27
  },
  {
   "metadata": {
    "ExecuteTime": {
     "end_time": "2024-07-19T10:06:01.701461Z",
     "start_time": "2024-07-19T10:06:01.688926Z"
    }
   },
   "cell_type": "code",
   "source": "globals_max",
   "id": "b1818b4b84904717",
   "outputs": [
    {
     "data": {
      "text/plain": [
       "{'jet_pt': 0.6580691,\n",
       " 'jet_eta': 1.0,\n",
       " 'jet_phi': 1.0,\n",
       " 'jet_e': 0.71757144,\n",
       " 'lep_Pt_0': 1.0,\n",
       " 'lep_E_0': 1.0,\n",
       " 'lep_Eta_0': 1.0,\n",
       " 'lep_Phi_0': 1.0,\n",
       " 'lep_EtaBE2_0': 1.0,\n",
       " 'lep_sigd0PV_0': 1.0,\n",
       " 'lep_Z0SinTheta_0': 0.9339753,\n",
       " 'lep_d0_0': 0.7340391,\n",
       " 'lep_z0_0': 1.0,\n",
       " 'lep_vz_0': 0.0,\n",
       " 'lep_deltaz0_0': 0.850042,\n",
       " 'lep_RadiusCO_0': 1.0,\n",
       " 'lep_RadiusCOX_0': 1.0,\n",
       " 'lep_RadiusCOY_0': 1.0,\n",
       " 'lep_SeparationMinDCT_0': 1.0,\n",
       " 'lep_ClosestSiTracknIL_0': 1.0,\n",
       " 'lep_ClosestSiTrackeIL_0': 1.0,\n",
       " 'lep_ClosestSiTracknNIL_0': 1.0,\n",
       " 'lep_ClosestSiTrackeNIL_0': 1.0,\n",
       " 'lep_BestMatchTrackEta_0': 1.0,\n",
       " 'lep_BestMatchTrackPhi_0': 1.0,\n",
       " 'lep_BestMatchTrackD0_0': 0.9264105,\n",
       " 'lep_BestMatchTrackZ0_0': 1.0,\n",
       " 'lep_BestMatchTrackQ_0': 1.0,\n",
       " 'lep_ClosestSiTrackEta_0': 1.0,\n",
       " 'lep_ClosestSiTrackD0_0': 1.0,\n",
       " 'lep_ClosestSiTrackZ0_0': 1.0,\n",
       " 'lep_ClosestSiTrackQ_0': 1.0,\n",
       " 'lep_chargeIDBDTLoose_0': 1.0,\n",
       " 'lep_ID_1': 1.0,\n",
       " 'lep_Pt_1': 0.66921955,\n",
       " 'lep_E_1': 0.69336236,\n",
       " 'lep_Eta_1': 1.0,\n",
       " 'lep_Phi_1': 1.0,\n",
       " 'lep_EtaBE2_1': 1.0,\n",
       " 'lep_sigd0PV_1': 1.0,\n",
       " 'lep_Z0SinTheta_1': 0.8903674,\n",
       " 'lep_d0_1': 0.9376634,\n",
       " 'lep_z0_1': 1.0,\n",
       " 'lep_vz_1': 0.0,\n",
       " 'lep_deltaz0_1': 0.817813,\n",
       " 'lep_RadiusCO_1': 1.0,\n",
       " 'lep_RadiusCOX_1': 1.0,\n",
       " 'lep_RadiusCOY_1': 1.0,\n",
       " 'lep_SeparationMinDCT_1': 1.0,\n",
       " 'lep_ClosestSiTracknIL_1': 1.0,\n",
       " 'lep_ClosestSiTrackeIL_1': 1.0,\n",
       " 'lep_ClosestSiTracknNIL_1': 1.0,\n",
       " 'lep_ClosestSiTrackeNIL_1': 1.0,\n",
       " 'lep_BestMatchTrackEta_1': 1.0,\n",
       " 'lep_BestMatchTrackPhi_1': 1.0,\n",
       " 'lep_BestMatchTrackD0_1': 0.77715945,\n",
       " 'lep_BestMatchTrackZ0_1': 1.0,\n",
       " 'lep_BestMatchTrackQ_1': 1.0,\n",
       " 'lep_ClosestSiTrackEta_1': 1.0,\n",
       " 'lep_ClosestSiTrackD0_1': 1.0,\n",
       " 'lep_ClosestSiTrackZ0_1': 1.0,\n",
       " 'lep_ClosestSiTrackQ_1': 1.0,\n",
       " 'lep_chargeIDBDTLoose_1': 1.0,\n",
       " 'tau_pt_0': 0.6698354,\n",
       " 'tau_eta_0': 1.0,\n",
       " 'tau_phi_0': 1.0,\n",
       " 'tau_charge_0': 1.0,\n",
       " 'tau_E_0': 0.7838113,\n",
       " 'tau_width_0': 1.0,\n",
       " 'tau_BDTJetScore_0': 1.0,\n",
       " 'tau_numTrack_0': 1.0,\n",
       " 'taus_DL1r_0': 1.0,\n",
       " 'tau_BDTEleScoreSigTrans_0': 1.0,\n",
       " 'tau_BDTJetScoreSigTrans_0': 1.0,\n",
       " 'tau_RNNJetScoreSigTrans_0': 1.0,\n",
       " 'Mll01': 0.60503805,\n",
       " 'Ptll01': 1.0,\n",
       " 'DRll01': 1.0,\n",
       " 'best_Z_Mll': 0.0,\n",
       " 'best_Z_other_MtLepMet': 0.0,\n",
       " 'best_Z_other_Mll': 0.0,\n",
       " 'minOSSFMll': 0.0,\n",
       " 'minOSMll': 0.0,\n",
       " 'nJets_OR': 1.0,\n",
       " 'HT': 1.0,\n",
       " 'HT_lep': 1.0,\n",
       " 'HT_jets': 0.7406169,\n",
       " 'lead_jetPt': 0.6980225,\n",
       " 'lead_jetEta': 1.0,\n",
       " 'lead_jetPhi': 1.0,\n",
       " 'lead_jetE': 0.767601,\n",
       " 'sublead_jetPt': 0.67429125,\n",
       " 'sublead_jetEta': 1.0,\n",
       " 'sublead_jetPhi': 1.0,\n",
       " 'sublead_jetE': 0.7425413,\n",
       " 'weight_lumi_xsec': 1.0,\n",
       " 'totalEventsWeighted': 1.0,\n",
       " 'p_Deta_l1_l2': 1.0,\n",
       " 'p_DR_l1_t1': 1.0,\n",
       " 'p_DR_l2_t1': 1.0,\n",
       " 'p_Deta_l1_t1': 1.0,\n",
       " 'p_Deta_l2_t1': 1.0,\n",
       " 'p_Dphi_l1_t1': 1.0,\n",
       " 'p_Dphi_l2_t1': 1.0,\n",
       " 'p_invMass_l1_t1': 0.5974118,\n",
       " 'p_invMass_l2_t1': 0.71705073,\n",
       " 'p_invMass_j1_j2': 0.6640178,\n",
       " 'p_Deta_j1_j2': 1.0,\n",
       " 'p_Dphi_j1_j2': 1.0,\n",
       " 'p_DR_j1_j2': 1.0,\n",
       " 'p_Dphi_l1_j1': 1.0,\n",
       " 'p_Dphi_l1_j2': 1.0,\n",
       " 'p_Dphi_l2_j1': 1.0,\n",
       " 'p_Dphi_l2_j2': 1.0,\n",
       " 'p_Deta_l1_j1': 1.0,\n",
       " 'p_Deta_l1_j2': 1.0,\n",
       " 'p_Deta_l2_j1': 1.0,\n",
       " 'p_Deta_l2_j2': 1.0,\n",
       " 'p_DR_l1_j1': 1.0,\n",
       " 'p_DR_l1_j2': 1.0,\n",
       " 'p_DR_l2_j1': 1.0,\n",
       " 'p_DR_l2_j2': 1.0,\n",
       " 'p_invMass_l1_j1': 0.752204,\n",
       " 'p_invMass_l1_j2': 0.64026713,\n",
       " 'p_invMass_l2_j1': 0.7334116,\n",
       " 'p_invMass_l2_j2': 0.6829745,\n",
       " 'p_drCloserLepToTau': 1.0,\n",
       " 'p_detaCloserJetToTau': 1.0,\n",
       " 'p_detaCloserLepToTau': 1.0,\n",
       " 'p_drCloserJetToTau': 1.0,\n",
       " 'p_invMCloserJetToTau': 0.7660492,\n",
       " 'p_invMCloserLepToTau': 0.56369156,\n",
       " 'p_maxeta2leptons': 1.0,\n",
       " 'p_detaCloserJetToLeadLep': 1.0,\n",
       " 'p_drCloserJetToLeadLep': 1.0,\n",
       " 'p_invMCloserJetToLeadLep': 0.6733047,\n",
       " 'p_detaFarestJetToTau': 1.0,\n",
       " 'p_drFarestJetToTau': 1.0,\n",
       " 'p_drFarestJetToLeadLep': 1.0,\n",
       " 'p_detaFarestJetToLeadLep': 1.0,\n",
       " 'p_invMFarestJetToLeadLep': 0.7432725,\n",
       " 'p_invMFarestJetToTau': 0.82219917,\n",
       " 'p_angle_LeadLepTau': 1.0,\n",
       " 'p_angle_Lep1_Lep2': 1.0,\n",
       " 'p_angle_Lep2ToTau': 1.0,\n",
       " 'p_angle_LeadJetToTau': 1.0,\n",
       " 'p_angle_LeadJetToLeadLep': 1.0,\n",
       " 'p_angle_LeadJetToLep2': 1.0,\n",
       " 'p_angle_LeadJetSubLeadJet': 1.0,\n",
       " 'p_angle_closetJetToTau': 1.0,\n",
       " 'p_angle_closetJetToL1': 1.0,\n",
       " 'p_angle_farestJetToTau': 1.0,\n",
       " 'p_angle_farestJetToL1': 1.0,\n",
       " 'p_angle_closetJetToL2': 1.0,\n",
       " 'p_angle_farestJetToL2': 1.0,\n",
       " 'p_drCloserJetToLep2': 1.0,\n",
       " 'p_detaCloserJetToLep2': 1.0,\n",
       " 'p_invMCloserJetToLep2': 0.7794769,\n",
       " 'p_drFarestJetToLep2': 1.0,\n",
       " 'p_detaFarestJetToLep2': 1.0,\n",
       " 'p_invMFarestJetToLep2': 0.72812814,\n",
       " 'p_sumElep1lep2_Etau': 1.0,\n",
       " 'p_sumPtlep1lep2_Pttau': 1.0,\n",
       " 'p_invMl1j1j2': 0.7271235,\n",
       " 'p_invMl2j1j2': 0.7000266,\n",
       " 'p_invMt1l1l2': 0.6000186,\n",
       " 'p_LBoost2L_lep1Pt': 0.6721278,\n",
       " 'p_LBoost2L_lep2Pt': 0.6721306,\n",
       " 'p_LBoost2L_tauPt': 0.58546054,\n",
       " 'p_LBoost2L_lep1Theta': 1.0,\n",
       " 'p_LBoost2L_lep2Theta': 1.0,\n",
       " 'p_LBoost2L_tauTheta': 1.0,\n",
       " 'p_LBoost2L_DiffLep1Lep2eta': 0.9612252,\n",
       " 'p_LBoost2L_DiffTauLep1eta': 1.0,\n",
       " 'p_LBoost2L_DiffTauLep2eta': 1.0,\n",
       " 'p_LBoost2L_DiffLep1Lep2phi': 1.0,\n",
       " 'p_LBoost2L_DiffTauLep1phi': 1.0,\n",
       " 'p_LBoost2L_DiffTauLep2phi': 1.0,\n",
       " 'p_LBoost2L_AngleL1L2': 1.0,\n",
       " 'p_LBoost2L_AngleL1Tau': 1.0,\n",
       " 'p_LBoost2L_AngleL2Tau': 1.0,\n",
       " 'p_LBoost2L_AngleL1J1': 1.0,\n",
       " 'p_LBoost2L_AngleL1J2': 1.0,\n",
       " 'p_LBoost2L_AngleL2J1': 1.0,\n",
       " 'p_LBoost2L_AngleL2J2': 1.0,\n",
       " 'p_LBoost2L_AngleTauJ1': 1.0,\n",
       " 'p_LBoost2L_AngleTauJ2': 1.0,\n",
       " 'p_LBoost2L_DRL1L2': 0.7695197,\n",
       " 'p_LBoost2L_DRL1Tau': 0.9803596,\n",
       " 'p_LBoost2L_DRL2Tau': 1.0,\n",
       " 'p_LBoost2L_DRL1J1': 1.0,\n",
       " 'p_LBoost2L_DRL1J2': 1.0,\n",
       " 'p_LBoost2L_DRL2J1': 1.0,\n",
       " 'p_LBoost2L_DRL2J2': 1.0,\n",
       " 'p_LBoost2L_DRTauJ1': 1.0,\n",
       " 'p_LBoost2L_DRTauJ2': 1.0,\n",
       " 'p_LBoost2L_drCloserJetToTau': 1.0,\n",
       " 'p_LBoost2L_drCloserJetToLeadLep': 1.0,\n",
       " 'p_LBoost2L_drFarestJetToTau': 1.0,\n",
       " 'p_LBoost2L_drFarestJetToLeadLep': 1.0,\n",
       " 'p_LBoost2L_angle_closetJetToTau': 1.0,\n",
       " 'p_LBoost2L_angle_closetJetToL1': 1.0,\n",
       " 'p_LBoost2L_angle_farestJetToTau': 1.0,\n",
       " 'p_LBoost2L_angle_farestJetToL1': 1.0,\n",
       " 'p_LBoost2L_angle_closetJetToL2': 1.0,\n",
       " 'p_LBoost2L_angle_farestJetToL2': 1.0,\n",
       " 'p_LBoost2L_drCloserJetToLep2': 1.0,\n",
       " 'p_LBoost2L_drFarestJetToLep2': 1.0,\n",
       " 'p_LBoostL1Tau_lep1Pt': 0.69432116,\n",
       " 'p_LBoostL1Tau_lep2Pt': 0.56532556,\n",
       " 'p_LBoostL1Tau_tauPt': 0.69432116,\n",
       " 'p_LBoostL1Tau_lep1Theta': 1.0,\n",
       " 'p_LBoostL1Tau_lep2Theta': 1.0,\n",
       " 'p_LBoostL1Tau_tauTheta': 1.0,\n",
       " 'p_LBoostL1Tau_DiffLep1Lep2eta': 1.0,\n",
       " 'p_LBoostL1Tau_DiffTauLep1eta': 1.0,\n",
       " 'p_LBoostL1Tau_DiffTauLep2eta': 1.0,\n",
       " 'p_LBoostL1Tau_DiffLep1Lep2phi': 1.0,\n",
       " 'p_LBoostL1Tau_DiffTauLep1phi': 1.0,\n",
       " 'p_LBoostL1Tau_DiffTauLep2phi': 1.0,\n",
       " 'p_LBoostL1Tau_AngleL1L2': 1.0,\n",
       " 'p_LBoostL1Tau_AngleL1Tau': 1.0,\n",
       " 'p_LBoostL1Tau_AngleL2Tau': 1.0,\n",
       " 'p_LBoostL1Tau_AngleL1J1': 1.0,\n",
       " 'p_LBoostL1Tau_AngleL1J2': 1.0,\n",
       " 'p_LBoostL1Tau_AngleL2J1': 1.0,\n",
       " 'p_LBoostL1Tau_AngleL2J2': 1.0,\n",
       " 'p_LBoostL1Tau_AngleTauJ1': 1.0,\n",
       " 'p_LBoostL1Tau_AngleTauJ2': 1.0,\n",
       " 'p_LBoostL1Tau_DRL1L2': 0.96532243,\n",
       " 'p_LBoostL1Tau_DRL1Tau': 0.86574095,\n",
       " 'p_LBoostL1Tau_DRL2Tau': 1.0,\n",
       " 'p_LBoostL1Tau_DRL1J1': 1.0,\n",
       " 'p_LBoostL1Tau_DRL1J2': 1.0,\n",
       " 'p_LBoostL1Tau_DRL2J1': 1.0,\n",
       " 'p_LBoostL1Tau_DRL2J2': 1.0,\n",
       " 'p_LBoostL1Tau_DRTauJ1': 0.9914319,\n",
       " 'p_LBoostL1Tau_DRTauJ2': 1.0,\n",
       " 'p_LBoostL1Tau_drCloserJetToTau': 1.0,\n",
       " 'p_LBoostL1Tau_drCloserJetToLeadLep': 1.0,\n",
       " 'p_LBoostL1Tau_drFarestJetToTau': 1.0,\n",
       " 'p_LBoostL1Tau_drFarestJetToLeadLep': 1.0,\n",
       " 'p_LBoostL1Tau_angle_closetJetToTau': 1.0,\n",
       " 'p_LBoostL1Tau_angle_closetJetToL1': 1.0,\n",
       " 'p_LBoostL1Tau_angle_farestJetToTau': 1.0,\n",
       " 'p_LBoostL1Tau_angle_farestJetToL1': 1.0,\n",
       " 'p_LBoostL1Tau_angle_closetJetToL2': 1.0,\n",
       " 'p_LBoostL1Tau_angle_farestJetToL2': 1.0,\n",
       " 'p_LBoostL1Tau_drCloserJetToLep2': 1.0,\n",
       " 'p_LBoostL1Tau_drFarestJetToLep2': 1.0,\n",
       " 'p_LBoostL2Tau_lep1Pt': 0.5374003,\n",
       " 'p_LBoostL2Tau_lep2Pt': 0.7555359,\n",
       " 'p_LBoostL2Tau_tauPt': 0.7555359,\n",
       " 'p_LBoostL2Tau_lep1Theta': 1.0,\n",
       " 'p_LBoostL2Tau_lep2Theta': 1.0,\n",
       " 'p_LBoostL2Tau_tauTheta': 1.0,\n",
       " 'p_LBoostL2Tau_DiffLep1Lep2eta': 1.0,\n",
       " 'p_LBoostL2Tau_DiffTauLep1eta': 1.0,\n",
       " 'p_LBoostL2Tau_DiffTauLep2eta': 1.0,\n",
       " 'p_LBoostL2Tau_DiffLep1Lep2phi': 1.0,\n",
       " 'p_LBoostL2Tau_DiffTauLep1phi': 1.0,\n",
       " 'p_LBoostL2Tau_DiffTauLep2phi': 1.0,\n",
       " 'p_LBoostL2Tau_AngleL1L2': 1.0,\n",
       " 'p_LBoostL2Tau_AngleL1Tau': 1.0,\n",
       " 'p_LBoostL2Tau_AngleL2Tau': 1.0,\n",
       " 'p_LBoostL2Tau_AngleL1J1': 1.0,\n",
       " 'p_LBoostL2Tau_AngleL1J2': 1.0,\n",
       " 'p_LBoostL2Tau_AngleL2J1': 1.0,\n",
       " 'p_LBoostL2Tau_AngleL2J2': 1.0,\n",
       " 'p_LBoostL2Tau_AngleTauJ1': 1.0,\n",
       " 'p_LBoostL2Tau_AngleTauJ2': 1.0,\n",
       " 'p_LBoostL2Tau_DRL1L2': 1.0,\n",
       " 'p_LBoostL2Tau_DRL1Tau': 1.0,\n",
       " 'p_LBoostL2Tau_DRL2Tau': 0.8069463,\n",
       " 'p_LBoostL2Tau_DRL1J1': 1.0,\n",
       " 'p_LBoostL2Tau_DRL1J2': 1.0,\n",
       " 'p_LBoostL2Tau_DRL2J1': 1.0,\n",
       " 'p_LBoostL2Tau_DRL2J2': 1.0,\n",
       " 'p_LBoostL2Tau_DRTauJ1': 0.9047507,\n",
       " 'p_LBoostL2Tau_DRTauJ2': 1.0,\n",
       " 'p_LBoostL2Tau_drCloserJetToTau': 1.0,\n",
       " 'p_LBoostL2Tau_drCloserJetToLeadLep': 1.0,\n",
       " 'p_LBoostL2Tau_drFarestJetToTau': 1.0,\n",
       " 'p_LBoostL2Tau_drFarestJetToLeadLep': 1.0,\n",
       " 'p_LBoostL2Tau_angle_closetJetToTau': 1.0,\n",
       " 'p_LBoostL2Tau_angle_closetJetToL1': 1.0,\n",
       " 'p_LBoostL2Tau_angle_farestJetToTau': 1.0,\n",
       " 'p_LBoostL2Tau_angle_farestJetToL1': 1.0,\n",
       " 'p_LBoostL2Tau_angle_closetJetToL2': 1.0,\n",
       " 'p_LBoostL2Tau_angle_farestJetToL2': 1.0,\n",
       " 'p_LBoostL2Tau_drCloserJetToLep2': 1.0,\n",
       " 'p_LBoostL2Tau_drFarestJetToLep2': 1.0}"
      ]
     },
     "execution_count": 28,
     "metadata": {},
     "output_type": "execute_result"
    }
   ],
   "execution_count": 28
  },
  {
   "metadata": {
    "ExecuteTime": {
     "end_time": "2024-07-19T11:27:17.749108Z",
     "start_time": "2024-07-19T11:27:17.623151Z"
    }
   },
   "cell_type": "code",
   "source": "from matplotlib.backends.backend_pdf import PdfPages",
   "id": "b0da5860df50c6c2",
   "outputs": [],
   "execution_count": 27
  },
  {
   "metadata": {
    "ExecuteTime": {
     "end_time": "2024-07-19T11:20:01.199238Z",
     "start_time": "2024-07-19T11:20:01.192076Z"
    }
   },
   "cell_type": "code",
   "source": "plt.figure()",
   "id": "4051fce0dd012121",
   "outputs": [
    {
     "data": {
      "text/plain": [
       "<Figure size 640x480 with 0 Axes>"
      ]
     },
     "execution_count": 33,
     "metadata": {},
     "output_type": "execute_result"
    },
    {
     "data": {
      "text/plain": [
       "<Figure size 640x480 with 0 Axes>"
      ]
     },
     "metadata": {},
     "output_type": "display_data"
    }
   ],
   "execution_count": 33
  },
  {
   "metadata": {},
   "cell_type": "code",
   "source": [
    "pp = PdfPages('plots3.pdf')\n",
    "for i in keys[201:]:\n",
    "    fig = paint(i, 100, combined_data[i])\n",
    "    plt.savefig(pp, format='pdf')\n",
    "pp.close()"
   ],
   "id": "d70f9732304eb1ec",
   "outputs": [],
   "execution_count": null
  },
  {
   "metadata": {},
   "cell_type": "code",
   "outputs": [],
   "execution_count": null,
   "source": "",
   "id": "79db711c6d6f49a8"
  }
 ],
 "metadata": {
  "kernelspec": {
   "display_name": "Python 3",
   "language": "python",
   "name": "python3"
  },
  "language_info": {
   "codemirror_mode": {
    "name": "ipython",
    "version": 2
   },
   "file_extension": ".py",
   "mimetype": "text/x-python",
   "name": "python",
   "nbconvert_exporter": "python",
   "pygments_lexer": "ipython2",
   "version": "2.7.6"
  }
 },
 "nbformat": 4,
 "nbformat_minor": 5
}
