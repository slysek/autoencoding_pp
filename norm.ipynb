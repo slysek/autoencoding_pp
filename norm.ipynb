{
 "cells": [
  {
   "cell_type": "code",
   "id": "initial_id",
   "metadata": {
    "collapsed": true,
    "ExecuteTime": {
     "end_time": "2024-07-26T12:22:26.854590Z",
     "start_time": "2024-07-26T12:22:26.795912Z"
    }
   },
   "source": [
    "import uproot\n",
    "import numpy as np\n",
    "import os\n",
    "import matplotlib.pyplot as plt\n",
    "\n",
    "\"\"\"liczba = os.popen('cd new_traning/; find -type f | wc -l').read()\n",
    "liczba2 = int(liczba)\"\"\""
   ],
   "outputs": [
    {
     "data": {
      "text/plain": [
       "\"liczba = os.popen('cd new_traning/; find -type f | wc -l').read()\\nliczba2 = int(liczba)\""
      ]
     },
     "execution_count": 1,
     "metadata": {},
     "output_type": "execute_result"
    }
   ],
   "execution_count": 1
  },
  {
   "metadata": {
    "ExecuteTime": {
     "end_time": "2024-07-26T13:34:42.110927Z",
     "start_time": "2024-07-26T13:24:56.336933Z"
    }
   },
   "cell_type": "code",
   "source": [
    "import glob\n",
    "\"\"\"file_pattern = \"new_traning/*.root\"\n",
    "files = glob.glob(file_pattern)\"\"\"\n",
    "\n",
    "file = uproot.open(\"/home/szymon/ML_ex/autoencoding_pp/new_traning/signal.root\")\n",
    "file2 = uproot.open(\"/home/szymon/ML_ex/autoencoding_pp/new_bkg/VV_org.root\")\n",
    "#file3 = uproot.open(\"/home/szymon/ML_ex/autoencoding_pp/new_traning/VV_bkg1.root\")\n",
    "#file4 = uproot.open(\"/home/szymon/ML_ex/autoencoding_pp/new_traning/VV_bkg2.root\")\n",
    "\n",
    "branch1 = file['nominal'].arrays(library=\"np\")\n",
    "branch2 = file2['nominal'].arrays(library=\"np\")\n",
    "#branch3 = file3['nominal'].arrays(library=\"np\")\n",
    "#branch4 = file4['nominal'].arrays(library=\"np\")"
   ],
   "id": "f69c679717f132dc",
   "outputs": [
    {
     "ename": "KeyboardInterrupt",
     "evalue": "",
     "output_type": "error",
     "traceback": [
      "\u001B[0;31m---------------------------------------------------------------------------\u001B[0m",
      "\u001B[0;31mKeyboardInterrupt\u001B[0m                         Traceback (most recent call last)",
      "Cell \u001B[0;32mIn[227], line 11\u001B[0m\n\u001B[1;32m      7\u001B[0m \u001B[38;5;66;03m#file3 = uproot.open(\"/home/szymon/ML_ex/autoencoding_pp/new_traning/VV_bkg1.root\")\u001B[39;00m\n\u001B[1;32m      8\u001B[0m \u001B[38;5;66;03m#file4 = uproot.open(\"/home/szymon/ML_ex/autoencoding_pp/new_traning/VV_bkg2.root\")\u001B[39;00m\n\u001B[1;32m     10\u001B[0m branch1 \u001B[38;5;241m=\u001B[39m file[\u001B[38;5;124m'\u001B[39m\u001B[38;5;124mnominal\u001B[39m\u001B[38;5;124m'\u001B[39m]\u001B[38;5;241m.\u001B[39marrays(library\u001B[38;5;241m=\u001B[39m\u001B[38;5;124m\"\u001B[39m\u001B[38;5;124mnp\u001B[39m\u001B[38;5;124m\"\u001B[39m)\n\u001B[0;32m---> 11\u001B[0m branch2 \u001B[38;5;241m=\u001B[39m \u001B[43mfile2\u001B[49m\u001B[43m[\u001B[49m\u001B[38;5;124;43m'\u001B[39;49m\u001B[38;5;124;43mnominal\u001B[39;49m\u001B[38;5;124;43m'\u001B[39;49m\u001B[43m]\u001B[49m\u001B[38;5;241;43m.\u001B[39;49m\u001B[43marrays\u001B[49m\u001B[43m(\u001B[49m\u001B[43mlibrary\u001B[49m\u001B[38;5;241;43m=\u001B[39;49m\u001B[38;5;124;43m\"\u001B[39;49m\u001B[38;5;124;43mnp\u001B[39;49m\u001B[38;5;124;43m\"\u001B[39;49m\u001B[43m)\u001B[49m\n\u001B[1;32m     12\u001B[0m \u001B[38;5;66;03m#branch3 = file3['nominal'].arrays(library=\"np\")\u001B[39;00m\n\u001B[1;32m     13\u001B[0m \u001B[38;5;66;03m#branch4 = file4['nominal'].arrays(library=\"np\")\u001B[39;00m\n",
      "File \u001B[0;32m~/ML_ex/venv/lib/python3.10/site-packages/uproot/behaviors/TBranch.py:823\u001B[0m, in \u001B[0;36mHasBranches.arrays\u001B[0;34m(self, expressions, cut, filter_name, filter_typename, filter_branch, aliases, language, entry_start, entry_stop, decompression_executor, interpretation_executor, array_cache, library, ak_add_doc, how)\u001B[0m\n\u001B[1;32m    820\u001B[0m                 ranges_or_baskets\u001B[38;5;241m.\u001B[39mappend((branch, basket_num, range_or_basket))\n\u001B[1;32m    822\u001B[0m interp_options \u001B[38;5;241m=\u001B[39m {\u001B[38;5;124m\"\u001B[39m\u001B[38;5;124mak_add_doc\u001B[39m\u001B[38;5;124m\"\u001B[39m: ak_add_doc}\n\u001B[0;32m--> 823\u001B[0m \u001B[43m_ranges_or_baskets_to_arrays\u001B[49m\u001B[43m(\u001B[49m\n\u001B[1;32m    824\u001B[0m \u001B[43m    \u001B[49m\u001B[38;5;28;43mself\u001B[39;49m\u001B[43m,\u001B[49m\n\u001B[1;32m    825\u001B[0m \u001B[43m    \u001B[49m\u001B[43mranges_or_baskets\u001B[49m\u001B[43m,\u001B[49m\n\u001B[1;32m    826\u001B[0m \u001B[43m    \u001B[49m\u001B[43mbranchid_interpretation\u001B[49m\u001B[43m,\u001B[49m\n\u001B[1;32m    827\u001B[0m \u001B[43m    \u001B[49m\u001B[43mentry_start\u001B[49m\u001B[43m,\u001B[49m\n\u001B[1;32m    828\u001B[0m \u001B[43m    \u001B[49m\u001B[43mentry_stop\u001B[49m\u001B[43m,\u001B[49m\n\u001B[1;32m    829\u001B[0m \u001B[43m    \u001B[49m\u001B[43mdecompression_executor\u001B[49m\u001B[43m,\u001B[49m\n\u001B[1;32m    830\u001B[0m \u001B[43m    \u001B[49m\u001B[43minterpretation_executor\u001B[49m\u001B[43m,\u001B[49m\n\u001B[1;32m    831\u001B[0m \u001B[43m    \u001B[49m\u001B[43mlibrary\u001B[49m\u001B[43m,\u001B[49m\n\u001B[1;32m    832\u001B[0m \u001B[43m    \u001B[49m\u001B[43marrays\u001B[49m\u001B[43m,\u001B[49m\n\u001B[1;32m    833\u001B[0m \u001B[43m    \u001B[49m\u001B[38;5;28;43;01mFalse\u001B[39;49;00m\u001B[43m,\u001B[49m\n\u001B[1;32m    834\u001B[0m \u001B[43m    \u001B[49m\u001B[43minterp_options\u001B[49m\u001B[43m,\u001B[49m\n\u001B[1;32m    835\u001B[0m \u001B[43m\u001B[49m\u001B[43m)\u001B[49m\n\u001B[1;32m    837\u001B[0m \u001B[38;5;66;03m# no longer needed; save memory\u001B[39;00m\n\u001B[1;32m    838\u001B[0m \u001B[38;5;28;01mdel\u001B[39;00m ranges_or_baskets\n",
      "File \u001B[0;32m~/ML_ex/venv/lib/python3.10/site-packages/uproot/behaviors/TBranch.py:3017\u001B[0m, in \u001B[0;36m_ranges_or_baskets_to_arrays\u001B[0;34m(hasbranches, ranges_or_baskets, branchid_interpretation, entry_start, entry_stop, decompression_executor, interpretation_executor, library, arrays, update_ranges_or_baskets, interp_options)\u001B[0m\n\u001B[1;32m   3010\u001B[0m     \u001B[38;5;28;01mif\u001B[39;00m (\n\u001B[1;32m   3011\u001B[0m         \u001B[38;5;28misinstance\u001B[39m(library, uproot\u001B[38;5;241m.\u001B[39minterpretation\u001B[38;5;241m.\u001B[39mlibrary\u001B[38;5;241m.\u001B[39mAwkward)\n\u001B[1;32m   3012\u001B[0m         \u001B[38;5;129;01mand\u001B[39;00m \u001B[38;5;28misinstance\u001B[39m(interpretation, uproot\u001B[38;5;241m.\u001B[39minterpretation\u001B[38;5;241m.\u001B[39mobjects\u001B[38;5;241m.\u001B[39mAsObjects)\n\u001B[1;32m   3013\u001B[0m         \u001B[38;5;129;01mand\u001B[39;00m cache_key \u001B[38;5;129;01min\u001B[39;00m branchid_to_branch\n\u001B[1;32m   3014\u001B[0m     ):\n\u001B[1;32m   3015\u001B[0m         branchid_to_branch[cache_key]\u001B[38;5;241m.\u001B[39m_awkward_check(interpretation)\n\u001B[0;32m-> 3017\u001B[0m \u001B[43mhasbranches\u001B[49m\u001B[38;5;241;43m.\u001B[39;49m\u001B[43m_file\u001B[49m\u001B[38;5;241;43m.\u001B[39;49m\u001B[43msource\u001B[49m\u001B[38;5;241;43m.\u001B[39;49m\u001B[43mchunks\u001B[49m\u001B[43m(\u001B[49m\u001B[43mranges\u001B[49m\u001B[43m,\u001B[49m\u001B[43m \u001B[49m\u001B[43mnotifications\u001B[49m\u001B[38;5;241;43m=\u001B[39;49m\u001B[43mnotifications\u001B[49m\u001B[43m)\u001B[49m\n\u001B[1;32m   3019\u001B[0m \u001B[38;5;28;01mdef\u001B[39;00m \u001B[38;5;21mreplace\u001B[39m(ranges_or_baskets, original_index, basket):\n\u001B[1;32m   3020\u001B[0m     branch, basket_num, range_or_basket \u001B[38;5;241m=\u001B[39m ranges_or_baskets[original_index]\n",
      "File \u001B[0;32m~/ML_ex/venv/lib/python3.10/site-packages/uproot/source/fsspec.py:169\u001B[0m, in \u001B[0;36mFSSpecSource.chunks\u001B[0;34m(self, ranges, notifications)\u001B[0m\n\u001B[1;32m    160\u001B[0m     coroutine \u001B[38;5;241m=\u001B[39m (\n\u001B[1;32m    161\u001B[0m         \u001B[38;5;28mself\u001B[39m\u001B[38;5;241m.\u001B[39m_fs\u001B[38;5;241m.\u001B[39m_cat_ranges(paths\u001B[38;5;241m=\u001B[39mpaths, starts\u001B[38;5;241m=\u001B[39mstarts, ends\u001B[38;5;241m=\u001B[39mends)\n\u001B[1;32m    162\u001B[0m         \u001B[38;5;28;01mif\u001B[39;00m \u001B[38;5;28mself\u001B[39m\u001B[38;5;241m.\u001B[39m_async_impl\n\u001B[0;32m   (...)\u001B[0m\n\u001B[1;32m    165\u001B[0m         )\n\u001B[1;32m    166\u001B[0m     )\n\u001B[1;32m    167\u001B[0m     \u001B[38;5;28;01mreturn\u001B[39;00m \u001B[38;5;28mself\u001B[39m\u001B[38;5;241m.\u001B[39m_executor\u001B[38;5;241m.\u001B[39msubmit(coroutine)\n\u001B[0;32m--> 169\u001B[0m \u001B[38;5;28;01mreturn\u001B[39;00m \u001B[43mcoalesce_requests\u001B[49m\u001B[43m(\u001B[49m\n\u001B[1;32m    170\u001B[0m \u001B[43m    \u001B[49m\u001B[43mranges\u001B[49m\u001B[43m,\u001B[49m\u001B[43m \u001B[49m\u001B[43msubmit\u001B[49m\u001B[43m,\u001B[49m\u001B[43m \u001B[49m\u001B[38;5;28;43mself\u001B[39;49m\u001B[43m,\u001B[49m\u001B[43m \u001B[49m\u001B[43mnotifications\u001B[49m\u001B[43m,\u001B[49m\u001B[43m \u001B[49m\u001B[43mconfig\u001B[49m\u001B[38;5;241;43m=\u001B[39;49m\u001B[38;5;28;43mself\u001B[39;49m\u001B[38;5;241;43m.\u001B[39;49m\u001B[43m_coalesce_config\u001B[49m\n\u001B[1;32m    171\u001B[0m \u001B[43m\u001B[49m\u001B[43m)\u001B[49m\n",
      "File \u001B[0;32m~/ML_ex/venv/lib/python3.10/site-packages/uproot/source/coalesce.py:123\u001B[0m, in \u001B[0;36mcoalesce_requests\u001B[0;34m(ranges, submit_fn, source, notifications, config)\u001B[0m\n\u001B[1;32m    121\u001B[0m     config \u001B[38;5;241m=\u001B[39m DEFAULT_CONFIG\n\u001B[1;32m    122\u001B[0m all_requests \u001B[38;5;241m=\u001B[39m [RangeRequest(start, stop, \u001B[38;5;28;01mNone\u001B[39;00m) \u001B[38;5;28;01mfor\u001B[39;00m start, stop \u001B[38;5;129;01min\u001B[39;00m ranges]\n\u001B[0;32m--> 123\u001B[0m \u001B[38;5;28;01mfor\u001B[39;00m merged_request \u001B[38;5;129;01min\u001B[39;00m _coalesce(all_requests, config):\n\u001B[1;32m    124\u001B[0m     future \u001B[38;5;241m=\u001B[39m submit_fn(merged_request\u001B[38;5;241m.\u001B[39mranges())\n\u001B[1;32m    125\u001B[0m     merged_request\u001B[38;5;241m.\u001B[39mset_future(future)\n",
      "File \u001B[0;32m~/ML_ex/venv/lib/python3.10/site-packages/uproot/source/coalesce.py:97\u001B[0m, in \u001B[0;36m_coalesce\u001B[0;34m(ranges, config)\u001B[0m\n\u001B[1;32m     95\u001B[0m request_bytes: \u001B[38;5;28mint\u001B[39m \u001B[38;5;241m=\u001B[39m \u001B[38;5;241m0\u001B[39m\n\u001B[1;32m     96\u001B[0m first_request \u001B[38;5;241m=\u001B[39m \u001B[38;5;28;01mTrue\u001B[39;00m\n\u001B[0;32m---> 97\u001B[0m \u001B[38;5;28;01mfor\u001B[39;00m cluster \u001B[38;5;129;01min\u001B[39;00m _merge_adjacent(ranges, config):\n\u001B[1;32m     98\u001B[0m     \u001B[38;5;28;01mif\u001B[39;00m clusters \u001B[38;5;129;01mand\u001B[39;00m (\n\u001B[1;32m     99\u001B[0m         \u001B[38;5;28mlen\u001B[39m(clusters) \u001B[38;5;241m+\u001B[39m \u001B[38;5;241m1\u001B[39m \u001B[38;5;241m>\u001B[39m\u001B[38;5;241m=\u001B[39m config\u001B[38;5;241m.\u001B[39mmax_request_ranges\n\u001B[1;32m    100\u001B[0m         \u001B[38;5;129;01mor\u001B[39;00m request_bytes \u001B[38;5;241m+\u001B[39m \u001B[38;5;28mlen\u001B[39m(cluster) \u001B[38;5;241m>\u001B[39m\u001B[38;5;241m=\u001B[39m config\u001B[38;5;241m.\u001B[39mmax_request_bytes\n\u001B[1;32m    101\u001B[0m         \u001B[38;5;129;01mor\u001B[39;00m (first_request \u001B[38;5;129;01mand\u001B[39;00m request_bytes \u001B[38;5;241m>\u001B[39m\u001B[38;5;241m=\u001B[39m config\u001B[38;5;241m.\u001B[39mmin_first_request_bytes)\n\u001B[1;32m    102\u001B[0m     ):\n\u001B[1;32m    103\u001B[0m         \u001B[38;5;28;01myield\u001B[39;00m CoalescedRequest(clusters)\n",
      "File \u001B[0;32m~/ML_ex/venv/lib/python3.10/site-packages/uproot/source/coalesce.py:85\u001B[0m, in \u001B[0;36m_merge_adjacent\u001B[0;34m(ranges, config)\u001B[0m\n\u001B[1;32m     83\u001B[0m cluster \u001B[38;5;241m=\u001B[39m Cluster([])\n\u001B[1;32m     84\u001B[0m \u001B[38;5;28;01mfor\u001B[39;00m current_range \u001B[38;5;129;01min\u001B[39;00m sorted_ranges:\n\u001B[0;32m---> 85\u001B[0m     \u001B[38;5;28;01mif\u001B[39;00m cluster\u001B[38;5;241m.\u001B[39mranges \u001B[38;5;129;01mand\u001B[39;00m current_range\u001B[38;5;241m.\u001B[39mstart \u001B[38;5;241m-\u001B[39m \u001B[43mcluster\u001B[49m\u001B[38;5;241;43m.\u001B[39;49m\u001B[43mstop\u001B[49m \u001B[38;5;241m>\u001B[39m config\u001B[38;5;241m.\u001B[39mmax_range_gap:\n\u001B[1;32m     86\u001B[0m         \u001B[38;5;28;01myield\u001B[39;00m cluster\n\u001B[1;32m     87\u001B[0m         cluster \u001B[38;5;241m=\u001B[39m Cluster([])\n",
      "File \u001B[0;32m~/ML_ex/venv/lib/python3.10/site-packages/uproot/source/coalesce.py:57\u001B[0m, in \u001B[0;36mCluster.stop\u001B[0;34m(self)\u001B[0m\n\u001B[1;32m     55\u001B[0m \u001B[38;5;129m@property\u001B[39m\n\u001B[1;32m     56\u001B[0m \u001B[38;5;28;01mdef\u001B[39;00m \u001B[38;5;21mstop\u001B[39m(\u001B[38;5;28mself\u001B[39m):\n\u001B[0;32m---> 57\u001B[0m     \u001B[38;5;28;01mreturn\u001B[39;00m \u001B[38;5;28;43mmax\u001B[39;49m\u001B[43m(\u001B[49m\u001B[38;5;28;43mrange\u001B[39;49m\u001B[38;5;241;43m.\u001B[39;49m\u001B[43mstop\u001B[49m\u001B[43m \u001B[49m\u001B[38;5;28;43;01mfor\u001B[39;49;00m\u001B[43m \u001B[49m\u001B[38;5;28;43mrange\u001B[39;49m\u001B[43m \u001B[49m\u001B[38;5;129;43;01min\u001B[39;49;00m\u001B[43m \u001B[49m\u001B[38;5;28;43mself\u001B[39;49m\u001B[38;5;241;43m.\u001B[39;49m\u001B[43mranges\u001B[49m\u001B[43m)\u001B[49m\n",
      "File \u001B[0;32m~/ML_ex/venv/lib/python3.10/site-packages/uproot/source/coalesce.py:57\u001B[0m, in \u001B[0;36m<genexpr>\u001B[0;34m(.0)\u001B[0m\n\u001B[1;32m     55\u001B[0m \u001B[38;5;129m@property\u001B[39m\n\u001B[1;32m     56\u001B[0m \u001B[38;5;28;01mdef\u001B[39;00m \u001B[38;5;21mstop\u001B[39m(\u001B[38;5;28mself\u001B[39m):\n\u001B[0;32m---> 57\u001B[0m     \u001B[38;5;28;01mreturn\u001B[39;00m \u001B[38;5;28mmax\u001B[39m(\u001B[38;5;28mrange\u001B[39m\u001B[38;5;241m.\u001B[39mstop \u001B[38;5;28;01mfor\u001B[39;00m \u001B[38;5;28mrange\u001B[39m \u001B[38;5;129;01min\u001B[39;00m \u001B[38;5;28mself\u001B[39m\u001B[38;5;241m.\u001B[39mranges)\n",
      "\u001B[0;31mKeyboardInterrupt\u001B[0m: "
     ]
    }
   ],
   "execution_count": 227
  },
  {
   "metadata": {
    "ExecuteTime": {
     "end_time": "2024-07-26T13:08:14.311513Z",
     "start_time": "2024-07-26T13:08:14.307585Z"
    }
   },
   "cell_type": "code",
   "source": [
    "\n",
    "#branch_list = [uproot.open(files[i])['nominal'].arrays(library=\"np\") for i in range (liczba2) ]\n",
    "\n",
    "branch_list = [branch1, branch2, branch3, branch4]"
   ],
   "id": "7f990629c7b9c642",
   "outputs": [],
   "execution_count": 188
  },
  {
   "metadata": {
    "ExecuteTime": {
     "end_time": "2024-07-26T13:08:14.644410Z",
     "start_time": "2024-07-26T13:08:14.640426Z"
    }
   },
   "cell_type": "code",
   "source": "combined_data = {}",
   "id": "4cf090bc5dfda321",
   "outputs": [],
   "execution_count": 189
  },
  {
   "metadata": {
    "ExecuteTime": {
     "end_time": "2024-07-26T13:08:15.217260Z",
     "start_time": "2024-07-26T13:08:15.213175Z"
    }
   },
   "cell_type": "code",
   "source": [
    "dobre_zmienne = [\n",
    "    \"lep_Eta_0\",\n",
    "    \"lep_Eta_1\",\n",
    "    \"tau_eta_0\",\n",
    "    \"tau_width_0\",\n",
    "    \"tau_BDTJetScore_0\",\n",
    "    \"tau_BDTJetScoreSigTrans_0\",\n",
    "    \"tau_RNNJetScoreSigTrans_0\",\n",
    "    \"DRll01\",\n",
    "    \"lead_jetEta\",\n",
    "    \"p_DR_l1_t1\",\n",
    "    \"p_DR_l2_t1\",\n",
    "    \"p_Dphi_l1_t1\",\n",
    "    \"p_Dphi_l2_t1\",\n",
    "    \"p_Deta_j1_j2\",\n",
    "    \"p_DR_j1_j2\",\n",
    "    \"p_Dphi_l1_j1\",\n",
    "    \"p_Dphi_l2_j1\",\n",
    "    \"p_Deta_l1_j1\",\n",
    "    \"p_Deta_l1_j2\",\n",
    "    \"p_Deta_l2_j1\",\n",
    "    \"p_Deta_l2_j2\",\n",
    "    \"p_DR_l1_j1\",\n",
    "    \"p_DR_l1_j2\",\n",
    "    \"p_DR_l2_j1\",\n",
    "    \"p_drCloserJetToTau\",\n",
    "    \"p_maxeta2leptons\",\n",
    "    \"p_detaCloserJetToLeadLep\",\n",
    "    \"p_drCloserJetToLeadLep\",\n",
    "    \"p_detaFarestJetToTau\",\n",
    "    \"p_drFarestJetToTau\",\n",
    "    \"p_drFarestJetToLeadLep\",\n",
    "    \"p_detaFarestJetToLeadLep\",\n",
    "    \"p_angle_LeadLepTau\",\n",
    "    \"p_angle_Lep1_Lep2\",\n",
    "    \"p_angle_Lep2ToTau\",\n",
    "    \"p_angle_LeadJetToTau\",\n",
    "    \"p_angle_LeadJetToLeadLep\",\n",
    "    \"p_angle_LeadJetToLep2\",\n",
    "    \"p_angle_closetJetToL1\",\n",
    "    \"p_angle_farestJetToTau\",\n",
    "    \"p_angle_closetJetToL2\",\n",
    "    \"p_angle_farestJetToL2\",\n",
    "    \"p_drCloserJetToLep2\",\n",
    "    \"p_drFarestJetToLep2\",\n",
    "    \"p_LBoost2L_DiffTauLep1eta\",\n",
    "    \"p_LBoost2L_AngleL2Tau\",\n",
    "    \"p_LBoost2L_AngleL2J2\",\n",
    "    \"p_LBoost2L_AngleTauJ1\",\n",
    "    \"p_LBoost2L_drFarestJetToTau\",\n",
    "    \"p_LBoost2L_angle_farestJetToL2\",\n",
    "    \"p_LBoost2L_drCloserJetToLep2\",\n",
    "    \"p_LBoost2L_drFarestJetToLep2\",\n",
    "    \"p_LBoostL1Tau_lep2Theta\",\n",
    "    \"p_LBoostL1Tau_tauTheta\",\n",
    "    \"p_LBoostL1Tau_DiffTauLep2phi\",\n",
    "    \"p_LBoostL1Tau_AngleL2Tau\",\n",
    "    \"p_LBoostL1Tau_AngleL2J1\",\n",
    "    \"p_LBoostL1Tau_AngleTauJ1\",\n",
    "    \"p_LBoostL1Tau_angle_farestJetToTau\",\n",
    "    \"p_LBoostL1Tau_angle_farestJetToL1\",\n",
    "    \"p_LBoostL1Tau_angle_closetJetToL2\",\n",
    "    \"p_LBoostL1Tau_drFarestJetToLep2\",\n",
    "    \"p_LBoostL2Tau_lep1Theta\",\n",
    "    \"p_LBoostL2Tau_tauTheta\",\n",
    "    \"p_LBoostL2Tau_DiffTauLep1phi\",\n",
    "    \"p_LBoostL2Tau_AngleL1Tau\",\n",
    "    \"p_LBoostL2Tau_AngleL1J1\",\n",
    "    \"p_LBoostL2Tau_AngleTauJ1\",\n",
    "    \"p_LBoostL2Tau_DRL1J1\",\n",
    "    \"p_LBoostL2Tau_drFarestJetToLeadLep\",\n",
    "    \"p_LBoostL2Tau_angle_closetJetToTau\",\n",
    "    \"p_LBoostL2Tau_angle_closetJetToL1\",\n",
    "    \"p_LBoostL2Tau_angle_farestJetToTau\",\n",
    "    \"p_LBoostL2Tau_angle_farestJetToL1\",\n",
    "    \"p_LBoostL2Tau_angle_closetJetToL2\",\n",
    "    \"p_LBoostL2Tau_angle_farestJetToL2\"\n",
    "]\n"
   ],
   "id": "ad4e7c751fb16b85",
   "outputs": [],
   "execution_count": 190
  },
  {
   "metadata": {
    "ExecuteTime": {
     "end_time": "2024-07-26T13:08:16.001157Z",
     "start_time": "2024-07-26T13:08:15.996422Z"
    }
   },
   "cell_type": "code",
   "source": [
    "dobre_zmienne2 = [\n",
    "    \"lep_sigd0PV_0\",\n",
    "    \"lep_sigd0PV_1\",\n",
    "    \"tau_BDTEleScoreSigTrans_0\",\n",
    "    \"p_DR_l2_j2\",\n",
    "    \"p_drCloserLepToTau\",\n",
    "    \"p_detaCloserJetToTau\",\n",
    "    \"p_detaCloserJetToLep2\",\n",
    "    \"p_detaFarestJetToLep2\",\n",
    "    \"p_LBoost2L_lep2Theta\",\n",
    "    \"p_LBoost2L_DiffTauLep2phi\",\n",
    "    \"p_LBoost2L_AngleL1Tau\",\n",
    "    \"p_LBoost2L_AngleL2J1\",\n",
    "    \"p_LBoost2L_DRL2Tau\",\n",
    "    \"p_LBoost2L_DRL1J2\",\n",
    "    \"p_LBoost2L_DRL2J1\",\n",
    "    \"p_LBoost2L_DRL2J2\",\n",
    "    \"p_LBoost2L_DRTauJ1\",\n",
    "    \"p_LBoost2L_DRTauJ2\",\n",
    "    \"p_LBoost2L_drCloserJetToLeadLep\",\n",
    "    \"p_LBoost2L_drFarestJetToLeadLep\",\n",
    "    \"p_LBoost2L_angle_closetJetToL1\",\n",
    "    \"p_LBoost2L_angle_farestJetToTau\",\n",
    "    \"p_LBoost2L_angle_closetJetToL2\",\n",
    "    \"p_LBoostL1Tau_lep1Theta\",\n",
    "    \"p_LBoostL1Tau_AngleL1L2\",\n",
    "    \"p_LBoostL1Tau_AngleL1J1\",\n",
    "    \"p_LBoostL1Tau_DRL2J1\",\n",
    "    \"p_LBoostL1Tau_DRL2J2\",\n",
    "    \"p_LBoostL1Tau_DRTauJ1\",\n",
    "    \"p_LBoostL1Tau_DRTauJ2\",\n",
    "    \"p_LBoostL1Tau_drCloserJetToTau\",\n",
    "    \"p_LBoostL1Tau_drCloserJetToLeadLep\",\n",
    "    \"p_LBoostL1Tau_drFarestJetToTau\",\n",
    "    \"p_LBoostL1Tau_drFarestJetToLeadLep\",\n",
    "    \"p_LBoostL1Tau_angle_closetJetToTau\",\n",
    "    \"p_LBoostL1Tau_angle_closetJetToL1\",\n",
    "    \"p_LBoostL1Tau_drCloserJetToLep2\",\n",
    "    \"p_LBoostL2Tau_lep2Theta\",\n",
    "    \"p_LBoostL2Tau_DiffLep1Lep2phi\",\n",
    "    \"p_LBoostL2Tau_AngleL1L2\",\n",
    "    \"p_LBoostL2Tau_AngleL2J1\",\n",
    "    \"p_LBoostL2Tau_DRL1J2\",\n",
    "    \"p_LBoostL2Tau_DRL2J2\",\n",
    "    \"p_LBoostL2Tau_DRTauJ1\",\n",
    "    \"p_LBoostL2Tau_DRTauJ2\",\n",
    "    \"p_LBoostL2Tau_drCloserJetToTau\",\n",
    "    \"p_LBoostL2Tau_drCloserJetToLeadLep\",\n",
    "    \"p_LBoostL2Tau_drFarestJetToTau\",\n",
    "    \"p_LBoostL2Tau_drCloserJetToLep2\",\n",
    "    \"p_LBoostL2Tau_drFarestJetToLep2\"\n",
    "]"
   ],
   "id": "93c860b11ee3bc1a",
   "outputs": [],
   "execution_count": 191
  },
  {
   "metadata": {
    "ExecuteTime": {
     "end_time": "2024-07-26T13:08:25.469901Z",
     "start_time": "2024-07-26T13:08:25.459416Z"
    }
   },
   "cell_type": "code",
   "source": [
    "def delete_branches(branches):\n",
    "    del branches['jet_isbtagged_DL1r_77']\n",
    "    del branches['mc_kFactor']\n",
    "    del branches['RunYear']\n",
    "    del branches['mc_rawXSection']\n",
    "    del branches['lep_ID_0']\n",
    "    del branches['p_Event_No']\n",
    "    del branches['jet_pt']\n",
    "    del branches['jet_eta']\n",
    "    del branches['jet_phi']\n",
    "    del branches['jet_e']\n",
    "    del branches['lep_vz_0']\n",
    "    del branches['lep_vz_1']\n",
    "    del branches['taus_DL1r_0']\n",
    "    del branches['p_sumElepAll_EJet']\n",
    "    del branches['p_sumPtleptauAll_Ptjet']\n",
    "    del branches['best_Z_Mll']\n",
    "    del branches['best_Z_other_MtLepMet']\n",
    "    del branches['best_Z_other_Mll']\n",
    "    del branches['minOSSFMll']\n",
    "    del branches['minOSMll']\n",
    "    del branches['totalEventsWeighted']\n",
    "    del branches['weight_lumi_xsec']\n",
    "    del branches['tau_charge_0']\n",
    "    del branches['p_LBoostL1Tau_angle_farestJetToL2']\n",
    "    del branches['eventNumber']\n",
    "    del branches['p_is2lepTight']\n",
    "    del branches['p_isTauSelected']\n",
    "    del branches['tau_passEleBDT_0']\n",
    "    del branches['tau_passMuonOLR_0']\n",
    "    del branches['lep_ambiguityType_1']\n",
    "    del branches['lep_ambiguityType_0']\n",
    "    del branches['lep_plvWP_Tight_1']\n",
    "    del branches['lep_plvWP_Tight_0']\n",
    "    del branches['lep_isMedium_1']\n",
    "    del branches['lep_isMedium_0']\n",
    "    del branches['lep_isTightLH_1']\n",
    "    del branches['lep_isTightLH_0']\n",
    "    del branches['lep_d0_0'] # niekoniecznie usuniecie\n",
    "    del branches['lep_BestMatchTrackEta_0']\n",
    "    del branches['lep_BestMatchTrackPhi_0']\n",
    "    del branches['lep_BestMatchTrackZ0_0']\n",
    "    del branches['lep_BestMatchTrackQ_0']\n",
    "    del branches['lep_chargeIDBDTLoose_0']\n",
    "    del branches['lep_ID_1']\n",
    "    del branches['lep_d0_1']\n",
    "    del branches['lep_BestMatchTrackEta_1']\n",
    "    del branches['lep_BestMatchTrackPhi_1']\n",
    "    del branches['lep_BestMatchTrackZ0_1']\n",
    "    del branches['lep_BestMatchTrackQ_1']\n",
    "    del branches['lep_chargeIDBDTLoose_1']\n",
    "    del branches['tau_numTrack_0']\n",
    "    del branches['tau_passJetIDRNNMed_0']\n",
    "    del branches['nJets_OR_DL1r_77']\n",
    "    del branches['sublead_jetEta']\n",
    "    del branches['sublead_jetPt']\n",
    "    del branches['p_angle_LeadJetSubLeadJet']\n",
    "    del branches['p_LBoost2L_tauPt']\n",
    "    del branches['p_LBoost2L_DiffLep1Lep2phi']\n",
    "    del branches['p_LBoost2L_AngleL1L2']\n",
    "    del branches['p_LBoostL1Tau_DiffTauLep1phi']\n",
    "    del branches['p_LBoostL1Tau_AngleL1Tau']\n",
    "    del branches['p_LBoostL2Tau_DiffTauLep2phi']\n",
    "    del branches['p_LBoostL2Tau_AngleL2Tau']\n",
    "    del branches['lep_Phi_0']\n",
    "    del branches['lep_EtaBE2_0']\n",
    "    del branches['lep_z0_0']\n",
    "    del branches['lep_deltaz0_0']\n",
    "    del branches['lep_BestMatchTrackD0_0']\n",
    "    del branches['lep_E_1']\n",
    "    del branches['lep_Phi_1']\n",
    "    del branches['lep_EtaBE2_1']\n",
    "    del branches['lep_deltaz0_1']\n",
    "    del branches['lep_BestMatchTrackD0_1']\n",
    "    del branches['tau_phi_0']\n",
    "    del branches['lead_jetPhi']\n",
    "    del branches['sublead_jetPhi']\n",
    "    del branches['p_Dphi_j1_j2']\n",
    "    del branches['p_Dphi_l1_j2']\n",
    "    del branches['p_Dphi_l2_j2']\n",
    "    del branches['p_invMass_l2_j2']\n",
    "    del branches['p_angle_closetJetToTau']\n",
    "    del branches['p_angle_farestJetToL1']\n",
    "    del branches['p_LBoostL1Tau_AngleL2J2']\n",
    "    del branches['p_LBoostL2Tau_AngleL2J2']\n",
    "    del branches['p_LBoostL2Tau_AngleTauJ2']\n",
    "    for i in dobre_zmienne:\n",
    "        del branches[i]\n",
    "    '''for j in dobre_zmienne2:\n",
    "        del branches[j]'''"
   ],
   "id": "5f4c84702e6a41a3",
   "outputs": [],
   "execution_count": 192
  },
  {
   "metadata": {
    "ExecuteTime": {
     "end_time": "2024-07-26T13:08:26.388649Z",
     "start_time": "2024-07-26T13:08:26.385001Z"
    }
   },
   "cell_type": "code",
   "source": [
    "# p_LBoost2L_tauPt \n",
    "# p_LBoost2L_DiffLep1Lep2phi\n",
    "# p_LBoost2L_AngleL1L2\n",
    "# p_LBoostL1Tau_DiffTauLep1phi\n",
    "# p_LBoostL2Tau_DiffTauLep2phi\n",
    "# "
   ],
   "id": "70b3c2ae6eb507ef",
   "outputs": [],
   "execution_count": 193
  },
  {
   "metadata": {
    "ExecuteTime": {
     "end_time": "2024-07-26T13:08:26.712422Z",
     "start_time": "2024-07-26T13:08:26.709243Z"
    }
   },
   "cell_type": "code",
   "source": [
    "for i in branch_list:\n",
    "    delete_branches(i)\n"
   ],
   "id": "bd11ccbfbcff1d46",
   "outputs": [],
   "execution_count": 194
  },
  {
   "metadata": {
    "ExecuteTime": {
     "end_time": "2024-07-26T13:08:27.060906Z",
     "start_time": "2024-07-26T13:08:27.057962Z"
    }
   },
   "cell_type": "code",
   "source": "keys = list(branch_list[0])",
   "id": "e3bf42696f4340ce",
   "outputs": [],
   "execution_count": 195
  },
  {
   "metadata": {
    "ExecuteTime": {
     "end_time": "2024-07-26T13:08:27.358701Z",
     "start_time": "2024-07-26T13:08:27.354682Z"
    }
   },
   "cell_type": "code",
   "source": [
    "def join_branchKey(arr):\n",
    "    combo = arr\n",
    "    if len(arr) > 1:\n",
    "        combo = np.concatenate([arr[0], arr[1]])\n",
    "        for i in range(len(arr)):\n",
    "            combo = np.concatenate([combo, arr[i]])\n",
    "    return combo"
   ],
   "id": "9c8cbc5a237b90ba",
   "outputs": [],
   "execution_count": 196
  },
  {
   "metadata": {
    "ExecuteTime": {
     "end_time": "2024-07-26T13:08:27.778234Z",
     "start_time": "2024-07-26T13:08:27.774409Z"
    }
   },
   "cell_type": "code",
   "source": [
    "def join_branch(branch):\n",
    "    try:\n",
    "        for key in keys:\n",
    "            if all(isinstance(item, np.ndarray) for item in branch[key]):\n",
    "                branch[key] = join_branchKey(branch[key])\n",
    "        return branch\n",
    "    except IndexError:\n",
    "        return branch"
   ],
   "id": "ae0b03899eb801f1",
   "outputs": [],
   "execution_count": 197
  },
  {
   "metadata": {
    "ExecuteTime": {
     "end_time": "2024-07-26T13:08:28.188077Z",
     "start_time": "2024-07-26T13:08:28.184121Z"
    }
   },
   "cell_type": "code",
   "source": [
    "for i in range(len(branch_list)):\n",
    "    branch_list[i] = join_branch(branch_list[i])"
   ],
   "id": "176621a28da5123e",
   "outputs": [],
   "execution_count": 198
  },
  {
   "metadata": {
    "ExecuteTime": {
     "end_time": "2024-07-26T13:08:28.388935Z",
     "start_time": "2024-07-26T13:08:28.383254Z"
    }
   },
   "cell_type": "code",
   "source": "combined_data",
   "id": "f86f3292a005adba",
   "outputs": [
    {
     "data": {
      "text/plain": [
       "{}"
      ]
     },
     "execution_count": 199,
     "metadata": {},
     "output_type": "execute_result"
    }
   ],
   "execution_count": 199
  },
  {
   "metadata": {
    "ExecuteTime": {
     "end_time": "2024-07-26T13:08:28.897878Z",
     "start_time": "2024-07-26T13:08:28.883088Z"
    }
   },
   "cell_type": "code",
   "source": [
    "for i in keys:\n",
    "    combo = np.concatenate([branch_list[0][i], np.array([])])\n",
    "    for k in branch_list[1:]:\n",
    "        combo = np.concatenate([combo, k[i]])\n",
    "    combined_data[i] = combo\n",
    "    try:\n",
    "        combined_data[i] = combined_data[i].astype(np.float32)\n",
    "    except ValueError:\n",
    "        print(i)"
   ],
   "id": "27e889c22df72d49",
   "outputs": [],
   "execution_count": 200
  },
  {
   "metadata": {},
   "cell_type": "markdown",
   "source": "",
   "id": "609c26683b176aef"
  },
  {
   "metadata": {
    "ExecuteTime": {
     "end_time": "2024-07-26T13:08:29.600713Z",
     "start_time": "2024-07-26T13:08:29.596004Z"
    }
   },
   "cell_type": "code",
   "source": "combined_data2 = {}",
   "id": "b7f87a486e5f0e19",
   "outputs": [],
   "execution_count": 201
  },
  {
   "metadata": {
    "ExecuteTime": {
     "end_time": "2024-07-26T13:08:29.868086Z",
     "start_time": "2024-07-26T13:08:29.858502Z"
    }
   },
   "cell_type": "code",
   "source": [
    "for i in keys:\n",
    "    combo = np.concatenate([branch_list[0][i],branch_list[1][i]], axis=None)\n",
    "    combined_data2[i] = combo\n",
    "print(len(combined_data2[\"lep_Pt_0\"]))"
   ],
   "id": "caf556746e310ef0",
   "outputs": [
    {
     "name": "stdout",
     "output_type": "stream",
     "text": [
      "26773\n"
     ]
    }
   ],
   "execution_count": 202
  },
  {
   "metadata": {
    "ExecuteTime": {
     "end_time": "2024-07-26T13:08:30.149246Z",
     "start_time": "2024-07-26T13:08:30.145091Z"
    }
   },
   "cell_type": "code",
   "source": [
    "def data_before():\n",
    "    ex = []\n",
    "    std = []\n",
    "    min = []\n",
    "    max = []\n",
    "    std5 = []\n",
    "    \n",
    "    for key in keys:\n",
    "        ex.append(np.mean(combined_data[key]))\n",
    "        std.append(np.std(combined_data[key]))\n",
    "        min.append(np.min(combined_data[key]))\n",
    "        max.append(np.max(combined_data[key]))\n",
    "        std5.append(5*np.std(combined_data[key]))\n",
    "        \n",
    "    return ex, std, min, max, std5"
   ],
   "id": "5b99c16be68143e5",
   "outputs": [],
   "execution_count": 203
  },
  {
   "metadata": {
    "ExecuteTime": {
     "end_time": "2024-07-26T13:08:30.463230Z",
     "start_time": "2024-07-26T13:08:30.455151Z"
    }
   },
   "cell_type": "code",
   "source": [
    "for i in range(len(keys)):\n",
    "    if np.min(combined_data[keys[i]]) == -999.0:\n",
    "        del combined_data[keys[i]]"
   ],
   "id": "c611908fca88bcb3",
   "outputs": [],
   "execution_count": 204
  },
  {
   "metadata": {
    "ExecuteTime": {
     "end_time": "2024-07-26T13:08:31.728626Z",
     "start_time": "2024-07-26T13:08:30.703677Z"
    }
   },
   "cell_type": "code",
   "source": [
    "for key in keys:\n",
    "    if \"_inv\" in key:\n",
    "        for i in range(len(combined_data[key])):\n",
    "            if combined_data[key][i] < 0:\n",
    "                combined_data[key][i] = 0"
   ],
   "id": "17c8c2bf6d4e7241",
   "outputs": [],
   "execution_count": 205
  },
  {
   "metadata": {
    "ExecuteTime": {
     "end_time": "2024-07-26T13:08:31.733389Z",
     "start_time": "2024-07-26T13:08:31.730339Z"
    }
   },
   "cell_type": "code",
   "source": "keys = list(combined_data)",
   "id": "da9aec54ca2961da",
   "outputs": [],
   "execution_count": 206
  },
  {
   "metadata": {
    "ExecuteTime": {
     "end_time": "2024-07-26T13:08:32.409291Z",
     "start_time": "2024-07-26T13:08:32.387138Z"
    }
   },
   "cell_type": "code",
   "source": "ex, std, min, max, std5 = data_before()",
   "id": "b0368d40d9aee19f",
   "outputs": [],
   "execution_count": 207
  },
  {
   "metadata": {
    "ExecuteTime": {
     "end_time": "2024-07-26T13:08:32.505346Z",
     "start_time": "2024-07-26T13:08:32.499783Z"
    }
   },
   "cell_type": "code",
   "source": [
    "'''for i in range(len(keys)):\n",
    "    print(f'{keys[i]}: Mean: {ex[i]}, Std: {std[i]}, Min: {min[i]}, Max: {max[i]}, Std5: {std5[i]}')\n",
    "    print(\"---------------------------------------------------------------------------------------------------\")'''"
   ],
   "id": "328943aa8fdbfe01",
   "outputs": [
    {
     "data": {
      "text/plain": [
       "'for i in range(len(keys)):\\n    print(f\\'{keys[i]}: Mean: {ex[i]}, Std: {std[i]}, Min: {min[i]}, Max: {max[i]}, Std5: {std5[i]}\\')\\n    print(\"---------------------------------------------------------------------------------------------------\")'"
      ]
     },
     "execution_count": 208,
     "metadata": {},
     "output_type": "execute_result"
    }
   ],
   "execution_count": 208
  },
  {
   "metadata": {
    "ExecuteTime": {
     "end_time": "2024-07-26T13:08:32.629031Z",
     "start_time": "2024-07-26T13:08:32.624425Z"
    }
   },
   "cell_type": "code",
   "source": [
    "def paint(m, lst, color, key):\n",
    "    fig = plt.figure()\n",
    "    biny = bins(m, lst)\n",
    "    plt.hist(lst, bins=biny, color=color)\n",
    "    plt.title(key)\n",
    "    return fig"
   ],
   "id": "cfef8c3c84c67df9",
   "outputs": [],
   "execution_count": 209
  },
  {
   "metadata": {
    "ExecuteTime": {
     "end_time": "2024-07-26T13:08:32.736338Z",
     "start_time": "2024-07-26T13:08:32.732005Z"
    }
   },
   "cell_type": "code",
   "source": [
    "def bins(n, list):\n",
    "    bins = []\n",
    "\n",
    "    list = sorted(list)\n",
    "\n",
    "    last = list[-1]\n",
    "    k = np.min(list)\n",
    "    while k < last:\n",
    "        bins.append(k)\n",
    "        k += (last - list[0])/n\n",
    "\n",
    "\n",
    "    return bins"
   ],
   "id": "310907d422a968db",
   "outputs": [],
   "execution_count": 210
  },
  {
   "metadata": {
    "ExecuteTime": {
     "end_time": "2024-07-26T13:08:32.857976Z",
     "start_time": "2024-07-26T13:08:32.853677Z"
    }
   },
   "cell_type": "code",
   "source": [
    "def cuting(list):\n",
    "    mean = np.mean(list)\n",
    "    std = np.std(list)\n",
    "    \n",
    "    filtred = []\n",
    "    \n",
    "    max_list = []\n",
    "    min_list = []\n",
    "    \n",
    "    max_plus = mean + 5*std\n",
    "    max_minus = mean - 5*std\n",
    "    for i in range(len(list)):\n",
    "        if(list[i] <= max_plus and list[i] >= max_minus):\n",
    "            filtred.append(list[i])\n",
    "        elif (list[i] >= max_plus):\n",
    "          max_list.append(list[i])\n",
    "        elif (list[i] <= max_minus):\n",
    "            min_list.append(list[i])\n",
    "    if (len(max_list) > 0):\n",
    "        cut_max = np.min(max_list)\n",
    "    else:\n",
    "        cut_max = np.max(filtred)\n",
    "    if(len(min_list) > 0):\n",
    "        cut_min = np.max(min_list)\n",
    "    else:\n",
    "        cut_min = np.min(filtred)\n",
    "    \n",
    "    for i in range(len(max_list)):\n",
    "        filtred.append(max_plus)\n",
    "    \n",
    "    for i in range(len(min_list)):\n",
    "        filtred.append(max_minus)\n",
    "    \n",
    "    return [np.asarray(filtred), cut_max, cut_min, max_list, min_list]"
   ],
   "id": "d9eb6389e85eb6ba",
   "outputs": [],
   "execution_count": 211
  },
  {
   "metadata": {
    "ExecuteTime": {
     "end_time": "2024-07-26T13:08:32.958857Z",
     "start_time": "2024-07-26T13:08:32.955205Z"
    }
   },
   "cell_type": "code",
   "source": [
    "'''for key in keys:\n",
    "    cut = cuting(combined_data[key])\n",
    "    print(f'{key} -- filtered: {len(cut[0])} right cut num: {len(cut[3])}, left cut num: {len(cut[4])}')'''"
   ],
   "id": "bcb876fb74d2da2a",
   "outputs": [
    {
     "data": {
      "text/plain": [
       "\"for key in keys:\\n    cut = cuting(combined_data[key])\\n    print(f'{key} -- filtered: {len(cut[0])} right cut num: {len(cut[3])}, left cut num: {len(cut[4])}')\""
      ]
     },
     "execution_count": 212,
     "metadata": {},
     "output_type": "execute_result"
    }
   ],
   "execution_count": 212
  },
  {
   "metadata": {
    "ExecuteTime": {
     "end_time": "2024-07-26T13:08:33.091816Z",
     "start_time": "2024-07-26T13:08:33.087071Z"
    }
   },
   "cell_type": "code",
   "source": [
    "def minus_value_filter(keys, branch):\n",
    "    try:\n",
    "        for key in keys:\n",
    "            min = np.min(branch[key])\n",
    "            max = np.max(branch[key])\n",
    "            distance = abs(max - min)\n",
    "            if min < 0:\n",
    "                for i in range(len(branch[key])):\n",
    "                    branch[key][i] = branch[key][i] + distance\n",
    "        return branch\n",
    "    except ValueError:\n",
    "        print(key)"
   ],
   "id": "584a473f52818b9b",
   "outputs": [],
   "execution_count": 213
  },
  {
   "metadata": {
    "ExecuteTime": {
     "end_time": "2024-07-26T13:08:33.333956Z",
     "start_time": "2024-07-26T13:08:33.197177Z"
    }
   },
   "cell_type": "code",
   "source": "combined_data = minus_value_filter(keys, combined_data)\n",
   "id": "17d949eba91efde1",
   "outputs": [],
   "execution_count": 214
  },
  {
   "metadata": {
    "ExecuteTime": {
     "end_time": "2024-07-26T13:08:33.340045Z",
     "start_time": "2024-07-26T13:08:33.335670Z"
    }
   },
   "cell_type": "code",
   "source": [
    "def norm(keys, branch):\n",
    "    \n",
    "    maxes = {}\n",
    "    mins = {}\n",
    "    \n",
    "    for key in keys:\n",
    "        max = np.max(branch[key])\n",
    "        min = np.min(branch[key])\n",
    "        distance = max - min\n",
    "        \n",
    "        for i in range(len(branch[key])):\n",
    "            if distance != 0:\n",
    "                branch[key][i] = (branch[key][i] - min) / distance\n",
    "        if(max != 0):\n",
    "            maxes[key] = (max - min) / distance   \n",
    "            mins[key] = 0\n",
    "        \n",
    "        \n",
    "    return [branch, maxes, mins]"
   ],
   "id": "d7c0258eac28959b",
   "outputs": [],
   "execution_count": 215
  },
  {
   "metadata": {
    "ExecuteTime": {
     "end_time": "2024-07-26T13:08:41.206069Z",
     "start_time": "2024-07-26T13:08:33.444421Z"
    }
   },
   "cell_type": "code",
   "source": "combined_data = norm(keys, combined_data)[0]",
   "id": "f8e1db198e45c29d",
   "outputs": [],
   "execution_count": 216
  },
  {
   "metadata": {
    "ExecuteTime": {
     "end_time": "2024-07-26T13:08:43.482142Z",
     "start_time": "2024-07-26T13:08:41.207184Z"
    }
   },
   "cell_type": "code",
   "source": [
    "globals_max = {}\n",
    "globals_min = {}\n",
    "\n",
    "for key in keys:\n",
    "    \n",
    "    cut = cuting(combined_data[key])\n",
    "    combined_data[key] = cut[0]\n",
    "    globals_max[key] = cut[1]\n",
    "    globals_min[key] = cut[2]\n"
   ],
   "id": "b50ba43a9d484d11",
   "outputs": [],
   "execution_count": 217
  },
  {
   "metadata": {
    "ExecuteTime": {
     "end_time": "2024-07-26T13:08:43.487242Z",
     "start_time": "2024-07-26T13:08:43.483423Z"
    }
   },
   "cell_type": "code",
   "source": [
    "'''ex, std, min, max, std5 = data_before()\n",
    "\n",
    "for i in range(len(keys)):\n",
    "    print(f'{keys[i]}: Mean: {ex[i]}, Std: {std[i]}, Min: {min[i]}, Max: {max[i]}, Std5: {std5[i]}')\n",
    "    print(\"---------------------------------------------------------------------------------------------------\")'''"
   ],
   "id": "64f68b4b03f32abe",
   "outputs": [
    {
     "data": {
      "text/plain": [
       "'ex, std, min, max, std5 = data_before()\\n\\nfor i in range(len(keys)):\\n    print(f\\'{keys[i]}: Mean: {ex[i]}, Std: {std[i]}, Min: {min[i]}, Max: {max[i]}, Std5: {std5[i]}\\')\\n    print(\"---------------------------------------------------------------------------------------------------\")'"
      ]
     },
     "execution_count": 218,
     "metadata": {},
     "output_type": "execute_result"
    }
   ],
   "execution_count": 218
  },
  {
   "metadata": {
    "ExecuteTime": {
     "end_time": "2024-07-26T13:08:43.492552Z",
     "start_time": "2024-07-26T13:08:43.488748Z"
    }
   },
   "cell_type": "code",
   "source": [
    "def paint2(key, m, lst, lst2, color, color2, alpha):\n",
    "    fig = plt.figure()\n",
    "    biny = bins(m, lst[key])\n",
    "    plt.hist(lst[key], bins=biny, color=color)\n",
    "    plt.hist(lst2[key], bins=biny, color=color2, alpha=alpha)\n",
    "    plt.title(key)\n",
    "    return fig"
   ],
   "id": "475f914b5fe98802",
   "outputs": [],
   "execution_count": 219
  },
  {
   "metadata": {
    "ExecuteTime": {
     "end_time": "2024-07-26T13:08:45.037342Z",
     "start_time": "2024-07-26T13:08:43.493745Z"
    }
   },
   "cell_type": "code",
   "source": [
    "list_keys = []\n",
    "filtered_cor = []\n",
    "\n",
    "sum = 0\n",
    "for key in keys:\n",
    "    a = combined_data[key]\n",
    "    list_keys.append(key)\n",
    "    for k in keys:\n",
    "        try:\n",
    "            if k != key and k not in list_keys:\n",
    "                b = combined_data[k]\n",
    "                cor_coff = np.corrcoef(a.reshape(1, -1), b.reshape(1, -1))\n",
    "                if abs(cor_coff[0, 1]) > 0.8:\n",
    "                    print(f'{key} with {k}: {cor_coff[0, 1]}')\n",
    "                    sum += 1\n",
    "                    if key not in filtered_cor:\n",
    "                        filtered_cor.append(key)\n",
    "        except AttributeError:\n",
    "            print(f'{key}: {a}')\n",
    "            print(f'{k}: {b}')\n",
    "        \n",
    "                \n",
    "print(sum)\n",
    "print(filtered_cor)\n",
    "print(len(filtered_cor))"
   ],
   "id": "6534d233ad751034",
   "outputs": [
    {
     "name": "stdout",
     "output_type": "stream",
     "text": [
      "p_Deta_l1_l2 with p_LBoost2L_lep1Theta: -0.9342819192873532\n",
      "p_Deta_l1_l2 with p_LBoost2L_lep2Theta: 0.9342482095232069\n",
      "p_Deta_l1_t1 with p_LBoost2L_tauTheta: 0.8012322808918452\n",
      "p_Deta_l1_t1 with p_LBoostL1Tau_lep1Theta: -0.913516241570053\n",
      "p_Deta_l2_t1 with p_LBoostL2Tau_lep2Theta: -0.9097280896840807\n",
      "p_detaCloserLepToTau with p_LBoost2L_tauTheta: 0.8041307061558616\n",
      "p_LBoost2L_lep1Pt with p_LBoost2L_lep2Pt: 0.9999999993271049\n",
      "p_LBoost2L_lep1Theta with p_LBoost2L_lep2Theta: -0.9994589153954411\n",
      "p_LBoost2L_tauTheta with p_LBoostL1Tau_lep1Theta: -0.805184347419741\n",
      "p_LBoost2L_DiffTauLep1phi with p_LBoostL1Tau_DiffLep1Lep2phi: 0.8648844404013759\n",
      "p_LBoost2L_AngleL1J1 with p_LBoost2L_AngleL2J1: -0.9991063736339486\n",
      "p_LBoost2L_AngleL1J2 with p_LBoostL1Tau_AngleL1J2: 0.914423265655642\n",
      "p_LBoost2L_AngleL1J2 with p_LBoostL2Tau_AngleL1J2: 0.8187007874055784\n",
      "p_LBoost2L_AngleTauJ2 with p_LBoostL1Tau_AngleTauJ2: 0.8609003160243873\n",
      "p_LBoost2L_drCloserJetToTau with p_LBoost2L_angle_closetJetToTau: 0.844333496288067\n",
      "p_LBoost2L_angle_closetJetToTau with p_LBoostL1Tau_angle_closetJetToTau: 0.8149786477396999\n",
      "p_LBoost2L_angle_farestJetToL1 with p_LBoost2L_angle_closetJetToL2: -0.8491268827388843\n",
      "p_LBoostL1Tau_lep1Pt with p_LBoostL1Tau_tauPt: 0.9999999999992933\n",
      "p_LBoostL1Tau_DiffLep1Lep2phi with p_LBoostL2Tau_DiffLep1Lep2phi: 0.8166273195572212\n",
      "p_LBoostL2Tau_lep2Pt with p_LBoostL2Tau_tauPt: 0.9999999999886516\n",
      "20\n",
      "['p_Deta_l1_l2', 'p_Deta_l1_t1', 'p_Deta_l2_t1', 'p_detaCloserLepToTau', 'p_LBoost2L_lep1Pt', 'p_LBoost2L_lep1Theta', 'p_LBoost2L_tauTheta', 'p_LBoost2L_DiffTauLep1phi', 'p_LBoost2L_AngleL1J1', 'p_LBoost2L_AngleL1J2', 'p_LBoost2L_AngleTauJ2', 'p_LBoost2L_drCloserJetToTau', 'p_LBoost2L_angle_closetJetToTau', 'p_LBoost2L_angle_farestJetToL1', 'p_LBoostL1Tau_lep1Pt', 'p_LBoostL1Tau_DiffLep1Lep2phi', 'p_LBoostL2Tau_lep2Pt']\n",
      "17\n"
     ]
    }
   ],
   "execution_count": 220
  },
  {
   "metadata": {
    "ExecuteTime": {
     "end_time": "2024-07-26T13:08:45.041813Z",
     "start_time": "2024-07-26T13:08:45.038478Z"
    }
   },
   "cell_type": "code",
   "source": [
    "fil_keys = []\n",
    "\n",
    "for key in keys:\n",
    "    if key not in filtered_cor:\n",
    "        fil_keys.append(key)\n",
    "        \n",
    "print(len(fil_keys))"
   ],
   "id": "dcbcfb0e56567454",
   "outputs": [
    {
     "name": "stdout",
     "output_type": "stream",
     "text": [
      "114\n"
     ]
    }
   ],
   "execution_count": 221
  },
  {
   "metadata": {
    "ExecuteTime": {
     "end_time": "2024-07-26T13:08:45.045257Z",
     "start_time": "2024-07-26T13:08:45.042653Z"
    }
   },
   "cell_type": "code",
   "source": "keys = fil_keys",
   "id": "aefe03a13a8f0bbb",
   "outputs": [],
   "execution_count": 222
  },
  {
   "metadata": {
    "ExecuteTime": {
     "end_time": "2024-07-26T13:08:45.050526Z",
     "start_time": "2024-07-26T13:08:45.046906Z"
    }
   },
   "cell_type": "code",
   "source": [
    "signal = branch_list[0]\n",
    "background = {}\n",
    "for key in keys:\n",
    "    background[key] = combined_data[key][len(signal[key]):]\n",
    "    signal[key] = combined_data[key][:len(signal[key])]\n"
   ],
   "id": "a2c5c6ba93e2c05a",
   "outputs": [],
   "execution_count": 223
  },
  {
   "metadata": {
    "ExecuteTime": {
     "end_time": "2024-07-26T13:08:45.053801Z",
     "start_time": "2024-07-26T13:08:45.051614Z"
    }
   },
   "cell_type": "code",
   "source": [
    "signal_filtered = {}\n",
    "background_filtered = {}\n",
    "combined_data_filtered = {}"
   ],
   "id": "72ba7ca3ad69ee9",
   "outputs": [],
   "execution_count": 224
  },
  {
   "metadata": {
    "ExecuteTime": {
     "end_time": "2024-07-26T13:08:45.058526Z",
     "start_time": "2024-07-26T13:08:45.055844Z"
    }
   },
   "cell_type": "code",
   "source": [
    "for key in keys:\n",
    "    signal_filtered[key] = signal[key]\n",
    "    background_filtered[key] = background[key]  \n",
    "    combined_data_filtered[key] = combined_data[key]"
   ],
   "id": "8e7e81fc5c6b1c6c",
   "outputs": [],
   "execution_count": 225
  },
  {
   "metadata": {
    "ExecuteTime": {
     "end_time": "2024-07-26T13:08:45.136511Z",
     "start_time": "2024-07-26T13:08:45.059675Z"
    }
   },
   "cell_type": "code",
   "source": [
    "np.save(\"new_signal_data.npy\", signal_filtered)\n",
    "np.save(\"new_background_data.npy\", background_filtered)\n",
    "np.save(\"new_combined_data.npy\", combined_data_filtered)"
   ],
   "id": "c85d47f14f67e739",
   "outputs": [],
   "execution_count": 226
  },
  {
   "metadata": {},
   "cell_type": "code",
   "source": [
    "for key in keys:\n",
    "    paint2(key, 100, background_filtered, signal_filtered, \"blue\", \"red\", 0.6)"
   ],
   "id": "7e914d7e63d93589",
   "outputs": [],
   "execution_count": null
  },
  {
   "metadata": {},
   "cell_type": "code",
   "outputs": [],
   "execution_count": null,
   "source": "",
   "id": "4678b2699f1a9965"
  }
 ],
 "metadata": {
  "kernelspec": {
   "display_name": "Python 3",
   "language": "python",
   "name": "python3"
  },
  "language_info": {
   "codemirror_mode": {
    "name": "ipython",
    "version": 2
   },
   "file_extension": ".py",
   "mimetype": "text/x-python",
   "name": "python",
   "nbconvert_exporter": "python",
   "pygments_lexer": "ipython2",
   "version": "2.7.6"
  }
 },
 "nbformat": 4,
 "nbformat_minor": 5
}
