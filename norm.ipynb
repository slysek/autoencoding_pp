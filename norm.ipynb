{
 "cells": [
  {
   "cell_type": "code",
   "id": "initial_id",
   "metadata": {
    "collapsed": true,
    "ExecuteTime": {
     "end_time": "2024-07-25T12:50:06.200998Z",
     "start_time": "2024-07-25T12:50:06.195889Z"
    }
   },
   "source": [
    "import uproot\n",
    "import numpy as np\n",
    "import os\n",
    "import matplotlib.pyplot as plt\n",
    "\n",
    "\"\"\"liczba = os.popen('cd new_traning/; find -type f | wc -l').read()\n",
    "liczba2 = int(liczba)\"\"\""
   ],
   "outputs": [
    {
     "data": {
      "text/plain": [
       "\"liczba = os.popen('cd new_traning/; find -type f | wc -l').read()\\nliczba2 = int(liczba)\""
      ]
     },
     "execution_count": 144,
     "metadata": {},
     "output_type": "execute_result"
    }
   ],
   "execution_count": 144
  },
  {
   "metadata": {
    "ExecuteTime": {
     "end_time": "2024-07-25T12:50:35.200867Z",
     "start_time": "2024-07-25T12:50:06.718237Z"
    }
   },
   "cell_type": "code",
   "source": [
    "import glob\n",
    "\"\"\"file_pattern = \"new_traning/*.root\"\n",
    "files = glob.glob(file_pattern)\"\"\"\n",
    "\n",
    "file = uproot.open(\"/home/szymon/ML_ex/autoencoding_pp/new_traning/signal.root\")\n",
    "file2 = uproot.open(\"/home/szymon/ML_ex/autoencoding_pp/new_traning/VV_bkg0.root\")\n",
    "file3 = uproot.open(\"/home/szymon/ML_ex/autoencoding_pp/new_traning/VV_bkg1.root\")\n",
    "file4 = uproot.open(\"/home/szymon/ML_ex/autoencoding_pp/new_traning/VV_bkg2.root\")\n",
    "\n",
    "branch1 = file['nominal'].arrays(library=\"np\")\n",
    "branch2 = file2['nominal'].arrays(library=\"np\")\n",
    "branch3 = file3['nominal'].arrays(library=\"np\")\n",
    "branch4 = file4['nominal'].arrays(library=\"np\")"
   ],
   "id": "f69c679717f132dc",
   "outputs": [],
   "execution_count": 145
  },
  {
   "metadata": {
    "ExecuteTime": {
     "end_time": "2024-07-25T12:50:36.096844Z",
     "start_time": "2024-07-25T12:50:36.090897Z"
    }
   },
   "cell_type": "code",
   "source": [
    "#branch_list = [uproot.open(files[i])['nominal'].arrays(library=\"np\") for i in range (liczba2) ]\n",
    "\n",
    "branch_list = [branch1, branch2, branch3, branch4]"
   ],
   "id": "7f990629c7b9c642",
   "outputs": [],
   "execution_count": 146
  },
  {
   "metadata": {
    "ExecuteTime": {
     "end_time": "2024-07-25T12:50:36.550786Z",
     "start_time": "2024-07-25T12:50:36.547440Z"
    }
   },
   "cell_type": "code",
   "source": "combined_data = {}",
   "id": "4cf090bc5dfda321",
   "outputs": [],
   "execution_count": 147
  },
  {
   "metadata": {
    "ExecuteTime": {
     "end_time": "2024-07-25T12:50:36.845196Z",
     "start_time": "2024-07-25T12:50:36.839362Z"
    }
   },
   "cell_type": "code",
   "source": [
    "def delete_branches(branches):\n",
    "    del branches['jet_isbtagged_DL1r_77']\n",
    "    del branches['mc_kFactor']\n",
    "    del branches['RunYear']\n",
    "    del branches['mc_rawXSection']\n",
    "    del branches['lep_ID_0']\n",
    "    del branches['p_Event_No']\n",
    "    del branches['jet_pt']\n",
    "    del branches['jet_eta']\n",
    "    del branches['jet_phi']\n",
    "    del branches['jet_e']\n",
    "    del branches['lep_vz_0']\n",
    "    del branches['lep_vz_1']\n",
    "    del branches['taus_DL1r_0']\n",
    "    del branches['p_sumElepAll_EJet']\n",
    "    del branches['p_sumPtleptauAll_Ptjet']\n",
    "    del branches['best_Z_Mll']\n",
    "    del branches['best_Z_other_MtLepMet']\n",
    "    del branches['best_Z_other_Mll']\n",
    "    del branches['minOSSFMll']\n",
    "    del branches['minOSMll']\n",
    "    del branches['totalEventsWeighted']\n",
    "    del branches['weight_lumi_xsec']\n",
    "    del branches['tau_charge_0']\n",
    "    del branches['p_LBoostL1Tau_angle_farestJetToL2']\n",
    "    del branches['eventNumber']\n",
    "    del branches['p_is2lepTight']\n",
    "    del branches['p_isTauSelected']\n",
    "    del branches['tau_passEleBDT_0']\n",
    "    del branches['tau_passMuonOLR_0']\n",
    "    del branches['lep_ambiguityType_1']\n",
    "    del branches['lep_ambiguityType_0']\n",
    "    del branches['lep_plvWP_Tight_1']\n",
    "    del branches['lep_plvWP_Tight_0']\n",
    "    del branches['lep_isMedium_1']\n",
    "    del branches['lep_isMedium_0']\n",
    "    del branches['lep_isTightLH_1']\n",
    "    del branches['lep_isTightLH_0']\n",
    "    del branches['lep_d0_0'] # niekoniecznie usuniecie\n",
    "    del branches['lep_BestMatchTrackEta_0']\n",
    "    del branches['lep_BestMatchTrackPhi_0']\n",
    "    del branches['lep_BestMatchTrackZ0_0']\n",
    "    del branches['lep_BestMatchTrackQ_0']\n",
    "    del branches['lep_chargeIDBDTLoose_0']\n",
    "    del branches['lep_ID_1']\n",
    "    del branches['lep_d0_1']\n",
    "    del branches['lep_BestMatchTrackEta_1']\n",
    "    del branches['lep_BestMatchTrackPhi_1']\n",
    "    del branches['lep_BestMatchTrackZ0_1']\n",
    "    del branches['lep_BestMatchTrackQ_1']\n",
    "    del branches['lep_chargeIDBDTLoose_1']\n",
    "    del branches['tau_numTrack_0']\n",
    "    del branches['tau_passJetIDRNNMed_0']\n",
    "    del branches['nJets_OR_DL1r_77']\n",
    "    del branches['sublead_jetEta']\n",
    "    del branches['sublead_jetPt']\n",
    "    del branches['p_angle_LeadJetSubLeadJet']\n",
    "    del branches['p_LBoost2L_tauPt']\n",
    "    del branches['p_LBoost2L_DiffLep1Lep2phi']\n",
    "    del branches['p_LBoost2L_AngleL1L2']\n",
    "    del branches['p_LBoostL1Tau_DiffTauLep1phi']\n",
    "    del branches['p_LBoostL1Tau_AngleL1Tau']\n",
    "    del branches['p_LBoostL2Tau_DiffTauLep2phi']\n",
    "    del branches['p_LBoostL2Tau_AngleL2Tau']"
   ],
   "id": "5f4c84702e6a41a3",
   "outputs": [],
   "execution_count": 148
  },
  {
   "metadata": {
    "ExecuteTime": {
     "end_time": "2024-07-25T12:50:37.142001Z",
     "start_time": "2024-07-25T12:50:37.138888Z"
    }
   },
   "cell_type": "code",
   "source": [
    "# p_LBoost2L_tauPt \n",
    "# p_LBoost2L_DiffLep1Lep2phi\n",
    "# p_LBoost2L_AngleL1L2\n",
    "# p_LBoostL1Tau_DiffTauLep1phi\n",
    "# p_LBoostL2Tau_DiffTauLep2phi\n",
    "# "
   ],
   "id": "70b3c2ae6eb507ef",
   "outputs": [],
   "execution_count": 149
  },
  {
   "metadata": {
    "ExecuteTime": {
     "end_time": "2024-07-25T12:50:37.382024Z",
     "start_time": "2024-07-25T12:50:37.379101Z"
    }
   },
   "cell_type": "code",
   "source": [
    "for i in branch_list:\n",
    "    delete_branches(i)\n"
   ],
   "id": "bd11ccbfbcff1d46",
   "outputs": [],
   "execution_count": 150
  },
  {
   "metadata": {
    "ExecuteTime": {
     "end_time": "2024-07-25T12:50:37.624025Z",
     "start_time": "2024-07-25T12:50:37.620101Z"
    }
   },
   "cell_type": "code",
   "source": "keys = list(branch_list[0])",
   "id": "e3bf42696f4340ce",
   "outputs": [],
   "execution_count": 151
  },
  {
   "metadata": {
    "ExecuteTime": {
     "end_time": "2024-07-25T12:50:37.908529Z",
     "start_time": "2024-07-25T12:50:37.902928Z"
    }
   },
   "cell_type": "code",
   "source": [
    "def join_branchKey(arr):\n",
    "    combo = arr\n",
    "    if len(arr) > 1:\n",
    "        combo = np.concatenate([arr[0], arr[1]])\n",
    "        for i in range(len(arr)):\n",
    "            combo = np.concatenate([combo, arr[i]])\n",
    "    return combo"
   ],
   "id": "9c8cbc5a237b90ba",
   "outputs": [],
   "execution_count": 152
  },
  {
   "metadata": {
    "ExecuteTime": {
     "end_time": "2024-07-25T12:50:38.137697Z",
     "start_time": "2024-07-25T12:50:38.131876Z"
    }
   },
   "cell_type": "code",
   "source": [
    "def join_branch(branch):\n",
    "    try:\n",
    "        for key in keys:\n",
    "            if all(isinstance(item, np.ndarray) for item in branch[key]):\n",
    "                branch[key] = join_branchKey(branch[key])\n",
    "        return branch\n",
    "    except IndexError:\n",
    "        return branch"
   ],
   "id": "ae0b03899eb801f1",
   "outputs": [],
   "execution_count": 153
  },
  {
   "metadata": {},
   "cell_type": "code",
   "source": [
    "for i in range(len(branch_list)):\n",
    "    branch_list[i] = join_branch(branch_list[i])"
   ],
   "id": "176621a28da5123e",
   "outputs": [],
   "execution_count": null
  },
  {
   "metadata": {
    "ExecuteTime": {
     "end_time": "2024-07-25T12:50:44.381688Z",
     "start_time": "2024-07-25T12:50:44.377966Z"
    }
   },
   "cell_type": "code",
   "source": "combined_data",
   "id": "f86f3292a005adba",
   "outputs": [
    {
     "data": {
      "text/plain": [
       "{}"
      ]
     },
     "execution_count": 156,
     "metadata": {},
     "output_type": "execute_result"
    }
   ],
   "execution_count": 156
  },
  {
   "metadata": {
    "ExecuteTime": {
     "end_time": "2024-07-25T12:50:48.648327Z",
     "start_time": "2024-07-25T12:50:48.587614Z"
    }
   },
   "cell_type": "code",
   "source": [
    "for i in keys:\n",
    "    combo = np.concatenate([branch_list[0][i], np.array([])])\n",
    "    for k in branch_list:\n",
    "        combo = np.concatenate([combo, k[i]])\n",
    "    combined_data[i] = combo\n",
    "    try:\n",
    "        combined_data[i] = combined_data[i].astype(np.float32)\n",
    "    except ValueError:\n",
    "        print(i)"
   ],
   "id": "27e889c22df72d49",
   "outputs": [],
   "execution_count": 157
  },
  {
   "metadata": {
    "ExecuteTime": {
     "end_time": "2024-07-25T08:06:40.628379Z",
     "start_time": "2024-07-25T08:06:40.623068Z"
    }
   },
   "cell_type": "code",
   "source": [
    "def data_before():\n",
    "    ex = []\n",
    "    std = []\n",
    "    min = []\n",
    "    max = []\n",
    "    std5 = []\n",
    "    \n",
    "    for key in keys:\n",
    "        ex.append(np.mean(combined_data[key]))\n",
    "        std.append(np.std(combined_data[key]))\n",
    "        min.append(np.min(combined_data[key]))\n",
    "        max.append(np.max(combined_data[key]))\n",
    "        std5.append(5*np.std(combined_data[key]))\n",
    "        \n",
    "    return ex, std, min, max, std5"
   ],
   "id": "5b99c16be68143e5",
   "outputs": [],
   "execution_count": 201
  },
  {
   "metadata": {
    "ExecuteTime": {
     "end_time": "2024-07-25T12:50:56.829368Z",
     "start_time": "2024-07-25T12:50:56.816292Z"
    }
   },
   "cell_type": "code",
   "source": [
    "for i in range(len(keys)):\n",
    "    if np.min(combined_data[keys[i]]) == -999.0:\n",
    "        del combined_data[keys[i]]"
   ],
   "id": "c611908fca88bcb3",
   "outputs": [],
   "execution_count": 158
  },
  {
   "metadata": {
    "ExecuteTime": {
     "end_time": "2024-07-25T12:50:58.004199Z",
     "start_time": "2024-07-25T12:50:57.686600Z"
    }
   },
   "cell_type": "code",
   "source": [
    "for key in keys:\n",
    "    if \"_inv\" in key:\n",
    "        for i in range(len(combined_data[key])):\n",
    "            if combined_data[key][i] < 0:\n",
    "                combined_data[key][i] = 0"
   ],
   "id": "17c8c2bf6d4e7241",
   "outputs": [],
   "execution_count": 159
  },
  {
   "metadata": {
    "ExecuteTime": {
     "end_time": "2024-07-25T12:50:59.637619Z",
     "start_time": "2024-07-25T12:50:59.634429Z"
    }
   },
   "cell_type": "code",
   "source": "keys = list(combined_data)",
   "id": "da9aec54ca2961da",
   "outputs": [],
   "execution_count": 160
  },
  {
   "metadata": {
    "ExecuteTime": {
     "end_time": "2024-07-25T08:06:45.791319Z",
     "start_time": "2024-07-25T08:06:45.717246Z"
    }
   },
   "cell_type": "code",
   "source": "ex, std, min, max, std5 = data_before()",
   "id": "b0368d40d9aee19f",
   "outputs": [],
   "execution_count": 205
  },
  {
   "metadata": {},
   "cell_type": "code",
   "source": [
    "for i in range(len(keys)):\n",
    "    print(f'{keys[i]}: Mean: {ex[i]}, Std: {std[i]}, Min: {min[i]}, Max: {max[i]}, Std5: {std5[i]}')\n",
    "    print(\"---------------------------------------------------------------------------------------------------\")"
   ],
   "id": "328943aa8fdbfe01",
   "outputs": [],
   "execution_count": null
  },
  {
   "metadata": {
    "ExecuteTime": {
     "end_time": "2024-07-25T12:51:03.211332Z",
     "start_time": "2024-07-25T12:51:03.208281Z"
    }
   },
   "cell_type": "code",
   "source": [
    "def paint(m, lst, color, key):\n",
    "    fig = plt.figure()\n",
    "    biny = bins(m, lst)\n",
    "    plt.hist(lst, bins=biny, color=color)\n",
    "    plt.title(key)\n",
    "    return fig"
   ],
   "id": "cfef8c3c84c67df9",
   "outputs": [],
   "execution_count": 161
  },
  {
   "metadata": {
    "ExecuteTime": {
     "end_time": "2024-07-25T12:51:03.535630Z",
     "start_time": "2024-07-25T12:51:03.531688Z"
    }
   },
   "cell_type": "code",
   "source": [
    "def bins(n, list):\n",
    "    bins = []\n",
    "\n",
    "    list = sorted(list)\n",
    "\n",
    "    last = list[-1]\n",
    "    k = np.min(list)\n",
    "    while k < last:\n",
    "        bins.append(k)\n",
    "        k += (last - list[0])/n\n",
    "\n",
    "\n",
    "    return bins"
   ],
   "id": "310907d422a968db",
   "outputs": [],
   "execution_count": 162
  },
  {
   "metadata": {},
   "cell_type": "code",
   "source": [
    "from matplotlib.backends.backend_pdf import PdfPages\n",
    "\n",
    "pp = PdfPages('plots_before2.pdf')\n",
    "for i in keys[102:]:\n",
    "    fig = paint(100, combined_data[i], \"red\", i)\n",
    "    plt.savefig(pp, format='pdf')\n",
    "pp.close()    "
   ],
   "id": "a79edab5b8fbf2ff",
   "outputs": [],
   "execution_count": null
  },
  {
   "metadata": {
    "ExecuteTime": {
     "end_time": "2024-07-25T12:51:06.802654Z",
     "start_time": "2024-07-25T12:51:06.796897Z"
    }
   },
   "cell_type": "code",
   "source": [
    "def cuting(list):\n",
    "    mean = np.mean(list)\n",
    "    std = np.std(list)\n",
    "    \n",
    "    filtred = []\n",
    "    \n",
    "    max_list = []\n",
    "    min_list = []\n",
    "    \n",
    "    max_plus = mean + 5*std\n",
    "    max_minus = mean - 5*std\n",
    "    for i in range(len(list)):\n",
    "        if(list[i] <= max_plus and list[i] >= max_minus):\n",
    "            filtred.append(list[i])\n",
    "        elif (list[i] >= max_plus):\n",
    "          max_list.append(list[i])\n",
    "        elif (list[i] <= max_minus):\n",
    "            min_list.append(list[i])\n",
    "    if (len(max_list) > 0):\n",
    "        cut_max = np.min(max_list)\n",
    "    else:\n",
    "        cut_max = np.max(filtred)\n",
    "    if(len(min_list) > 0):\n",
    "        cut_min = np.max(min_list)\n",
    "    else:\n",
    "        cut_min = np.min(filtred)\n",
    "    \n",
    "    for i in range(len(max_list)):\n",
    "        filtred.append(max_plus)\n",
    "    \n",
    "    for i in range(len(min_list)):\n",
    "        filtred.append(max_minus)\n",
    "    \n",
    "    return [np.asarray(filtred), cut_max, cut_min, max_list, min_list]"
   ],
   "id": "d9eb6389e85eb6ba",
   "outputs": [],
   "execution_count": 163
  },
  {
   "metadata": {},
   "cell_type": "code",
   "source": [
    "for key in keys:\n",
    "    cut = cuting(combined_data[key])\n",
    "    print(f'{key} -- filtered: {len(cut[0])} right cut num: {len(cut[3])}, left cut num: {len(cut[4])}')"
   ],
   "id": "bcb876fb74d2da2a",
   "outputs": [],
   "execution_count": null
  },
  {
   "metadata": {},
   "cell_type": "code",
   "source": [
    "from matplotlib.backends.backend_pdf import PdfPages\n",
    "\n",
    "pp = PdfPages('plots_before3.pdf')\n",
    "for i in keys[202:]:\n",
    "    fig = paint(i, 100, combined_data, \"red\")\n",
    "    plt.savefig(pp, format='pdf')\n",
    "pp.close()"
   ],
   "id": "81cf6b1a152b10d2",
   "outputs": [],
   "execution_count": null
  },
  {
   "metadata": {
    "ExecuteTime": {
     "end_time": "2024-07-25T12:51:13.820645Z",
     "start_time": "2024-07-25T12:51:13.817087Z"
    }
   },
   "cell_type": "code",
   "source": [
    "def minus_value_filter(keys, branch):\n",
    "    try:\n",
    "        for key in keys:\n",
    "            min = np.min(branch[key])\n",
    "            max = np.max(branch[key])\n",
    "            distance = abs(max - min)\n",
    "            if min < 0:\n",
    "                for i in range(len(branch[key])):\n",
    "                    branch[key][i] = branch[key][i] + distance\n",
    "        return branch\n",
    "    except ValueError:\n",
    "        print(key)"
   ],
   "id": "584a473f52818b9b",
   "outputs": [],
   "execution_count": 164
  },
  {
   "metadata": {
    "ExecuteTime": {
     "end_time": "2024-07-25T12:51:15.565851Z",
     "start_time": "2024-07-25T12:51:14.946774Z"
    }
   },
   "cell_type": "code",
   "source": "combined_data = minus_value_filter(keys, combined_data)\n",
   "id": "17d949eba91efde1",
   "outputs": [],
   "execution_count": 165
  },
  {
   "metadata": {
    "ExecuteTime": {
     "end_time": "2024-07-25T12:51:17.899120Z",
     "start_time": "2024-07-25T12:51:17.895153Z"
    }
   },
   "cell_type": "code",
   "source": [
    "def norm(keys, branch):\n",
    "    \n",
    "    maxes = {}\n",
    "    mins = {}\n",
    "    \n",
    "    for key in keys:\n",
    "        max = np.max(branch[key])\n",
    "        min = np.min(branch[key])\n",
    "        distance = max - min\n",
    "        \n",
    "        for i in range(len(branch[key])):\n",
    "            if distance != 0:\n",
    "                branch[key][i] = (branch[key][i] - min) / distance\n",
    "        if(max != 0):\n",
    "            maxes[key] = (max - min) / distance   \n",
    "            mins[key] = 0\n",
    "        \n",
    "        \n",
    "    return [branch, maxes, mins]"
   ],
   "id": "d7c0258eac28959b",
   "outputs": [],
   "execution_count": 166
  },
  {
   "metadata": {
    "ExecuteTime": {
     "end_time": "2024-07-25T09:01:36.127947Z",
     "start_time": "2024-07-25T09:01:35.755272Z"
    }
   },
   "cell_type": "code",
   "source": [
    "from sklearn import preprocessing\n",
    "\n",
    "def new_norm(keys, branch):\n",
    "    \n",
    "    for key in keys:\n",
    "        branch[key] = preprocessing.normalize(branch[key].reshape(1, -1))\n",
    "        branch[key] = branch[key].T\n",
    "        \n",
    "    return branch"
   ],
   "id": "9bd0972b7244f3ff",
   "outputs": [],
   "execution_count": 26
  },
  {
   "metadata": {
    "ExecuteTime": {
     "end_time": "2024-07-25T12:51:25.200439Z",
     "start_time": "2024-07-25T12:51:21.939722Z"
    }
   },
   "cell_type": "code",
   "source": "combined_data = norm(keys, combined_data)[0]",
   "id": "f8e1db198e45c29d",
   "outputs": [],
   "execution_count": 167
  },
  {
   "metadata": {
    "ExecuteTime": {
     "end_time": "2024-07-25T12:51:31.892645Z",
     "start_time": "2024-07-25T12:51:28.326437Z"
    }
   },
   "cell_type": "code",
   "source": [
    "globals_max = {}\n",
    "globals_min = {}\n",
    "\n",
    "for key in keys:\n",
    "    \n",
    "    cut = cuting(combined_data[key])\n",
    "    combined_data[key] = cut[0]\n",
    "    globals_max[key] = cut[1]\n",
    "    globals_min[key] = cut[2]\n"
   ],
   "id": "b50ba43a9d484d11",
   "outputs": [],
   "execution_count": 168
  },
  {
   "metadata": {},
   "cell_type": "code",
   "source": [
    "ex, std, min, max, std5 = data_before()\n",
    "\n",
    "for i in range(len(keys)):\n",
    "    print(f'{keys[i]}: Mean: {ex[i]}, Std: {std[i]}, Min: {min[i]}, Max: {max[i]}, Std5: {std5[i]}')\n",
    "    print(\"---------------------------------------------------------------------------------------------------\")"
   ],
   "id": "64f68b4b03f32abe",
   "outputs": [],
   "execution_count": null
  },
  {
   "metadata": {
    "ExecuteTime": {
     "end_time": "2024-07-25T09:56:37.689402Z",
     "start_time": "2024-07-25T09:56:37.684603Z"
    }
   },
   "cell_type": "code",
   "source": [
    "def paint2(key, m, lst, lst2, color, color2, alpha):\n",
    "    fig = plt.figure()\n",
    "    biny = bins(m, lst[key])\n",
    "    plt.hist(lst[key], bins=biny, color=color)\n",
    "    plt.hist(lst2[key], bins=biny, color=color2, alpha=alpha)\n",
    "    plt.title(key)\n",
    "    return fig"
   ],
   "id": "475f914b5fe98802",
   "outputs": [],
   "execution_count": 124
  },
  {
   "metadata": {},
   "cell_type": "code",
   "source": [
    "pp = PdfPages('plots_after1.pdf')\n",
    "for i in keys[:101]:\n",
    "    fig = paint2(i, 100, background, \"blue\")\n",
    "    plt.savefig(pp, format='pdf')\n",
    "pp.close()"
   ],
   "id": "c24d747151f3183f",
   "outputs": [],
   "execution_count": null
  },
  {
   "metadata": {},
   "cell_type": "code",
   "source": [
    "list_keys = []\n",
    "filtered_cor = []\n",
    "\n",
    "sum = 0\n",
    "for key in keys:\n",
    "    a = combined_data[key]\n",
    "    list_keys.append(key)\n",
    "    for k in keys:\n",
    "        try:\n",
    "            if k != key and k not in list_keys:\n",
    "                b = combined_data[k]\n",
    "                cor_coff = np.corrcoef(a.reshape(1, -1), b.reshape(1, -1))\n",
    "                if abs(cor_coff[0, 1]) > 0.8:\n",
    "                    print(f'{key} with {k}: {cor_coff[0, 1]}')\n",
    "                    sum += 1\n",
    "                    if key not in filtered_cor:\n",
    "                        filtered_cor.append(key)\n",
    "        except AttributeError:\n",
    "            print(f'{key}: {a}')\n",
    "            print(f'{k}: {b}')\n",
    "        \n",
    "                \n",
    "print(sum)\n",
    "print(filtered_cor)\n",
    "print(len(filtered_cor))"
   ],
   "id": "6534d233ad751034",
   "outputs": [],
   "execution_count": null
  },
  {
   "metadata": {
    "ExecuteTime": {
     "end_time": "2024-07-25T12:51:58.136485Z",
     "start_time": "2024-07-25T12:51:58.131927Z"
    }
   },
   "cell_type": "code",
   "source": [
    "fil_keys = []\n",
    "\n",
    "for key in keys:\n",
    "    if key not in filtered_cor:\n",
    "        fil_keys.append(key)\n",
    "        \n",
    "print(len(fil_keys))"
   ],
   "id": "dcbcfb0e56567454",
   "outputs": [
    {
     "name": "stdout",
     "output_type": "stream",
     "text": [
      "196\n"
     ]
    }
   ],
   "execution_count": 170
  },
  {
   "metadata": {
    "ExecuteTime": {
     "end_time": "2024-07-25T12:52:03.257313Z",
     "start_time": "2024-07-25T12:52:03.254639Z"
    }
   },
   "cell_type": "code",
   "source": "keys = fil_keys",
   "id": "aefe03a13a8f0bbb",
   "outputs": [],
   "execution_count": 171
  },
  {
   "metadata": {
    "ExecuteTime": {
     "end_time": "2024-07-25T12:52:06.635349Z",
     "start_time": "2024-07-25T12:52:06.630820Z"
    }
   },
   "cell_type": "code",
   "source": [
    "signal = branch_list[0]\n",
    "background = {}\n",
    "for key in keys:\n",
    "    background[key] = combined_data[key][len(signal[key]):]\n",
    "    signal[key] = combined_data[key][:len(signal[key])]\n"
   ],
   "id": "a2c5c6ba93e2c05a",
   "outputs": [],
   "execution_count": 172
  },
  {
   "metadata": {
    "ExecuteTime": {
     "end_time": "2024-07-25T12:52:10.567195Z",
     "start_time": "2024-07-25T12:52:10.563934Z"
    }
   },
   "cell_type": "code",
   "source": [
    "signal_filtered = {}\n",
    "background_filtered = {}\n",
    "combined_data_filtered = {}"
   ],
   "id": "72ba7ca3ad69ee9",
   "outputs": [],
   "execution_count": 173
  },
  {
   "metadata": {
    "ExecuteTime": {
     "end_time": "2024-07-25T12:52:10.876671Z",
     "start_time": "2024-07-25T12:52:10.872567Z"
    }
   },
   "cell_type": "code",
   "source": [
    "for key in keys:\n",
    "    signal_filtered[key] = signal[key]\n",
    "    background_filtered[key] = background[key]  \n",
    "    combined_data_filtered[key] = combined_data[key]"
   ],
   "id": "8e7e81fc5c6b1c6c",
   "outputs": [],
   "execution_count": 174
  },
  {
   "metadata": {},
   "cell_type": "code",
   "outputs": [],
   "execution_count": 178,
   "source": [
    "np.save(\"new_signal_data.npy\", signal_filtered)\n",
    "np.save(\"new_background_data.npy\", background_filtered)\n",
    "np.save(\"new_combined_data.npy\", combined_data_filtered)"
   ],
   "id": "c85d47f14f67e739"
  },
  {
   "metadata": {},
   "cell_type": "code",
   "source": [
    "pp = PdfPages('plots_after2.pdf')\n",
    "for i in keys[101:]:\n",
    "    fig = paint2(i, 100, background_filtered, signal_filtered, \"blue\", \"red\", 0.6)\n",
    "    plt.savefig(pp, format='pdf')\n",
    "pp.close()"
   ],
   "id": "abeb129df0f6cb43",
   "outputs": [],
   "execution_count": null
  },
  {
   "metadata": {},
   "cell_type": "code",
   "outputs": [],
   "execution_count": null,
   "source": [
    "for i in range(10):\n",
    "    paint(100, signal_filtered[i], )"
   ],
   "id": "e6797413506d9b98"
  },
  {
   "metadata": {},
   "cell_type": "code",
   "outputs": [],
   "execution_count": null,
   "source": "",
   "id": "7e914d7e63d93589"
  }
 ],
 "metadata": {
  "kernelspec": {
   "display_name": "Python 3",
   "language": "python",
   "name": "python3"
  },
  "language_info": {
   "codemirror_mode": {
    "name": "ipython",
    "version": 2
   },
   "file_extension": ".py",
   "mimetype": "text/x-python",
   "name": "python",
   "nbconvert_exporter": "python",
   "pygments_lexer": "ipython2",
   "version": "2.7.6"
  }
 },
 "nbformat": 4,
 "nbformat_minor": 5
}
