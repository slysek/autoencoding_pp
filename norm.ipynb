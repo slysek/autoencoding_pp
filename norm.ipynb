{
 "cells": [
  {
   "cell_type": "code",
   "id": "initial_id",
   "metadata": {
    "collapsed": true,
    "ExecuteTime": {
     "end_time": "2024-07-30T09:27:10.124944Z",
     "start_time": "2024-07-30T09:27:10.063960Z"
    }
   },
   "source": [
    "import uproot\n",
    "import numpy as np\n",
    "import os\n",
    "import matplotlib.pyplot as plt\n"
   ],
   "outputs": [
    {
     "data": {
      "text/plain": [
       "\"liczba = os.popen('cd new_traning/; find -type f | wc -l').read()\\nliczba2 = int(liczba)\""
      ]
     },
     "execution_count": 1,
     "metadata": {},
     "output_type": "execute_result"
    }
   ],
   "execution_count": 1
  },
  {
   "metadata": {
    "ExecuteTime": {
     "end_time": "2024-07-30T09:41:01.187329Z",
     "start_time": "2024-07-30T09:27:10.901873Z"
    }
   },
   "cell_type": "code",
   "source": [
    "file = uproot.open(\"/home/szymon/ML_ex/autoencoding_pp/new_bkg/signal.root\")\n",
    "file2 = uproot.open(\"/home/szymon/ML_ex/autoencoding_pp/new_bkg/VV_org.root\")\n",
    "\n",
    "branch1 = file['nominal'].arrays(library=\"np\")\n",
    "branch2 = file2['nominal'].arrays(library=\"np\")"
   ],
   "id": "f69c679717f132dc",
   "outputs": [],
   "execution_count": 2
  },
  {
   "metadata": {
    "ExecuteTime": {
     "end_time": "2024-07-30T09:52:48.745377Z",
     "start_time": "2024-07-30T09:52:48.741672Z"
    }
   },
   "cell_type": "code",
   "source": "branch_test = [branch1, branch2]",
   "id": "cd8244cc127ba824",
   "outputs": [],
   "execution_count": 3
  },
  {
   "metadata": {
    "ExecuteTime": {
     "end_time": "2024-07-30T09:52:48.930048Z",
     "start_time": "2024-07-30T09:52:48.927386Z"
    }
   },
   "cell_type": "code",
   "source": "branch_list = branch_test",
   "id": "7f990629c7b9c642",
   "outputs": [],
   "execution_count": 4
  },
  {
   "metadata": {
    "ExecuteTime": {
     "end_time": "2024-07-30T09:52:49.116457Z",
     "start_time": "2024-07-30T09:52:49.113744Z"
    }
   },
   "cell_type": "code",
   "source": "combined_data = {}",
   "id": "4cf090bc5dfda321",
   "outputs": [],
   "execution_count": 5
  },
  {
   "metadata": {
    "ExecuteTime": {
     "end_time": "2024-07-30T09:52:49.364954Z",
     "start_time": "2024-07-30T09:52:49.358615Z"
    }
   },
   "cell_type": "code",
   "source": [
    "dobre_zmienne = [\n",
    "    \"lep_Eta_0\",\n",
    "    \"lep_Eta_1\",\n",
    "    \"tau_eta_0\",\n",
    "    \"tau_width_0\",\n",
    "    \"tau_BDTJetScore_0\",\n",
    "    \"tau_BDTJetScoreSigTrans_0\",\n",
    "    \"tau_RNNJetScoreSigTrans_0\",\n",
    "    \"DRll01\",\n",
    "    \"lead_jetEta\",\n",
    "    \"p_DR_l1_t1\",\n",
    "    \"p_DR_l2_t1\",\n",
    "    \"p_Dphi_l1_t1\",\n",
    "    \"p_Dphi_l2_t1\",\n",
    "    \"p_Deta_j1_j2\",\n",
    "    \"p_DR_j1_j2\",\n",
    "    \"p_Dphi_l1_j1\",\n",
    "    \"p_Dphi_l2_j1\",\n",
    "    \"p_Deta_l1_j1\",\n",
    "    \"p_Deta_l1_j2\",\n",
    "    \"p_Deta_l2_j1\",\n",
    "    \"p_Deta_l2_j2\",\n",
    "    \"p_DR_l1_j1\",\n",
    "    \"p_DR_l1_j2\",\n",
    "    \"p_DR_l2_j1\",\n",
    "    \"p_drCloserJetToTau\",\n",
    "    \"p_maxeta2leptons\",\n",
    "    \"p_detaCloserJetToLeadLep\",\n",
    "    \"p_drCloserJetToLeadLep\",\n",
    "    \"p_detaFarestJetToTau\",\n",
    "    \"p_drFarestJetToTau\",\n",
    "    \"p_drFarestJetToLeadLep\",\n",
    "    \"p_detaFarestJetToLeadLep\",\n",
    "    \"p_angle_LeadLepTau\",\n",
    "    \"p_angle_Lep1_Lep2\",\n",
    "    \"p_angle_Lep2ToTau\",\n",
    "    \"p_angle_LeadJetToTau\",\n",
    "    \"p_angle_LeadJetToLeadLep\",\n",
    "    \"p_angle_LeadJetToLep2\",\n",
    "    \"p_angle_closetJetToL1\",\n",
    "    \"p_angle_farestJetToTau\",\n",
    "    \"p_angle_closetJetToL2\",\n",
    "    \"p_angle_farestJetToL2\",\n",
    "    \"p_drCloserJetToLep2\",\n",
    "    \"p_drFarestJetToLep2\",\n",
    "    \"p_LBoost2L_DiffTauLep1eta\",\n",
    "    \"p_LBoost2L_AngleL2Tau\",\n",
    "    \"p_LBoost2L_AngleL2J2\",\n",
    "    \"p_LBoost2L_AngleTauJ1\",\n",
    "    \"p_LBoost2L_drFarestJetToTau\",\n",
    "    \"p_LBoost2L_angle_farestJetToL2\",\n",
    "    \"p_LBoost2L_drCloserJetToLep2\",\n",
    "    \"p_LBoost2L_drFarestJetToLep2\",\n",
    "    \"p_LBoostL1Tau_lep2Theta\",\n",
    "    \"p_LBoostL1Tau_tauTheta\",\n",
    "    \"p_LBoostL1Tau_DiffTauLep2phi\",\n",
    "    \"p_LBoostL1Tau_AngleL2Tau\",\n",
    "    \"p_LBoostL1Tau_AngleL2J1\",\n",
    "    \"p_LBoostL1Tau_AngleTauJ1\",\n",
    "    \"p_LBoostL1Tau_angle_farestJetToTau\",\n",
    "    \"p_LBoostL1Tau_angle_farestJetToL1\",\n",
    "    \"p_LBoostL1Tau_angle_closetJetToL2\",\n",
    "    \"p_LBoostL1Tau_drFarestJetToLep2\",\n",
    "    \"p_LBoostL2Tau_lep1Theta\",\n",
    "    \"p_LBoostL2Tau_tauTheta\",\n",
    "    \"p_LBoostL2Tau_DiffTauLep1phi\",\n",
    "    \"p_LBoostL2Tau_AngleL1Tau\",\n",
    "    \"p_LBoostL2Tau_AngleL1J1\",\n",
    "    \"p_LBoostL2Tau_AngleTauJ1\",\n",
    "    \"p_LBoostL2Tau_DRL1J1\",\n",
    "    \"p_LBoostL2Tau_drFarestJetToLeadLep\",\n",
    "    \"p_LBoostL2Tau_angle_closetJetToTau\",\n",
    "    \"p_LBoostL2Tau_angle_closetJetToL1\",\n",
    "    \"p_LBoostL2Tau_angle_farestJetToTau\",\n",
    "    \"p_LBoostL2Tau_angle_farestJetToL1\",\n",
    "    \"p_LBoostL2Tau_angle_closetJetToL2\",\n",
    "    \"p_LBoostL2Tau_angle_farestJetToL2\"\n",
    "]"
   ],
   "id": "ad4e7c751fb16b85",
   "outputs": [],
   "execution_count": 6
  },
  {
   "metadata": {
    "ExecuteTime": {
     "end_time": "2024-07-30T09:52:49.582952Z",
     "start_time": "2024-07-30T09:52:49.579032Z"
    }
   },
   "cell_type": "code",
   "source": [
    "dobre_zmienne2 = [\n",
    "    \"lep_sigd0PV_0\",\n",
    "    \"lep_sigd0PV_1\",\n",
    "    \"tau_BDTEleScoreSigTrans_0\",\n",
    "    \"p_DR_l2_j2\",\n",
    "    \"p_drCloserLepToTau\",\n",
    "    \"p_detaCloserJetToTau\",\n",
    "    \"p_detaCloserJetToLep2\",\n",
    "    \"p_detaFarestJetToLep2\",\n",
    "    \"p_LBoost2L_lep2Theta\",\n",
    "    \"p_LBoost2L_DiffTauLep2phi\",\n",
    "    \"p_LBoost2L_AngleL1Tau\",\n",
    "    \"p_LBoost2L_AngleL2J1\",\n",
    "    \"p_LBoost2L_DRL2Tau\",\n",
    "    \"p_LBoost2L_DRL1J2\",\n",
    "    \"p_LBoost2L_DRL2J1\",\n",
    "    \"p_LBoost2L_DRL2J2\",\n",
    "    \"p_LBoost2L_DRTauJ1\",\n",
    "    \"p_LBoost2L_DRTauJ2\",\n",
    "    \"p_LBoost2L_drCloserJetToLeadLep\",\n",
    "    \"p_LBoost2L_drFarestJetToLeadLep\",\n",
    "    \"p_LBoost2L_angle_closetJetToL1\",\n",
    "    \"p_LBoost2L_angle_farestJetToTau\",\n",
    "    \"p_LBoost2L_angle_closetJetToL2\",\n",
    "    \"p_LBoostL1Tau_lep1Theta\",\n",
    "    \"p_LBoostL1Tau_AngleL1L2\",\n",
    "    \"p_LBoostL1Tau_AngleL1J1\",\n",
    "    \"p_LBoostL1Tau_DRL2J1\",\n",
    "    \"p_LBoostL1Tau_DRL2J2\",\n",
    "    \"p_LBoostL1Tau_DRTauJ1\",\n",
    "    \"p_LBoostL1Tau_DRTauJ2\",\n",
    "    \"p_LBoostL1Tau_drCloserJetToTau\",\n",
    "    \"p_LBoostL1Tau_drCloserJetToLeadLep\",\n",
    "    \"p_LBoostL1Tau_drFarestJetToTau\",\n",
    "    \"p_LBoostL1Tau_drFarestJetToLeadLep\",\n",
    "    \"p_LBoostL1Tau_angle_closetJetToTau\",\n",
    "    \"p_LBoostL1Tau_angle_closetJetToL1\",\n",
    "    \"p_LBoostL1Tau_drCloserJetToLep2\",\n",
    "    \"p_LBoostL2Tau_lep2Theta\",\n",
    "    \"p_LBoostL2Tau_DiffLep1Lep2phi\",\n",
    "    \"p_LBoostL2Tau_AngleL1L2\",\n",
    "    \"p_LBoostL2Tau_AngleL2J1\",\n",
    "    \"p_LBoostL2Tau_DRL1J2\",\n",
    "    \"p_LBoostL2Tau_DRL2J2\",\n",
    "    \"p_LBoostL2Tau_DRTauJ1\",\n",
    "    \"p_LBoostL2Tau_DRTauJ2\",\n",
    "    \"p_LBoostL2Tau_drCloserJetToTau\",\n",
    "    \"p_LBoostL2Tau_drCloserJetToLeadLep\",\n",
    "    \"p_LBoostL2Tau_drFarestJetToTau\",\n",
    "    \"p_LBoostL2Tau_drCloserJetToLep2\",\n",
    "    \"p_LBoostL2Tau_drFarestJetToLep2\"\n",
    "]"
   ],
   "id": "93c860b11ee3bc1a",
   "outputs": [],
   "execution_count": 7
  },
  {
   "metadata": {
    "ExecuteTime": {
     "end_time": "2024-07-30T09:52:49.837951Z",
     "start_time": "2024-07-30T09:52:49.831940Z"
    }
   },
   "cell_type": "code",
   "source": [
    "def delete_branches(branches):\n",
    "    del branches['jet_isbtagged_DL1r_77']\n",
    "    del branches['mc_kFactor']\n",
    "    del branches['RunYear']\n",
    "    del branches['mc_rawXSection']\n",
    "    del branches['lep_ID_0']\n",
    "    del branches['p_Event_No']\n",
    "    del branches['jet_pt']\n",
    "    del branches['jet_eta']\n",
    "    del branches['jet_phi']\n",
    "    del branches['jet_e']\n",
    "    del branches['lep_vz_0']\n",
    "    del branches['lep_vz_1']\n",
    "    del branches['taus_DL1r_0']\n",
    "    del branches['p_sumElepAll_EJet']\n",
    "    del branches['p_sumPtleptauAll_Ptjet']\n",
    "    del branches['best_Z_Mll']\n",
    "    del branches['best_Z_other_MtLepMet']\n",
    "    del branches['best_Z_other_Mll']\n",
    "    del branches['minOSSFMll']\n",
    "    del branches['minOSMll']\n",
    "    del branches['totalEventsWeighted']\n",
    "    #del branches['weight_lumi_xsec'] #dodac potem do .root\n",
    "    del branches['tau_charge_0']\n",
    "    del branches['p_LBoostL1Tau_angle_farestJetToL2']\n",
    "    del branches['eventNumber']\n",
    "    #del branches['p_is2lepTight'] #flaga\n",
    "    #del branches['p_isTauSelected'] #flaga\n",
    "    del branches['tau_passEleBDT_0']\n",
    "    del branches['tau_passMuonOLR_0']\n",
    "    del branches['lep_ambiguityType_1']\n",
    "    del branches['lep_ambiguityType_0']\n",
    "    del branches['lep_plvWP_Tight_1']\n",
    "    del branches['lep_plvWP_Tight_0']\n",
    "    del branches['lep_isMedium_1']\n",
    "    del branches['lep_isMedium_0']\n",
    "    del branches['lep_isTightLH_1']\n",
    "    del branches['lep_isTightLH_0']\n",
    "    del branches['lep_d0_0'] # niekoniecznie usuniecie\n",
    "    del branches['lep_BestMatchTrackEta_0']\n",
    "    del branches['lep_BestMatchTrackPhi_0']\n",
    "    del branches['lep_BestMatchTrackZ0_0']\n",
    "    del branches['lep_BestMatchTrackQ_0']\n",
    "    del branches['lep_chargeIDBDTLoose_0']\n",
    "    del branches['lep_ID_1']\n",
    "    del branches['lep_d0_1']\n",
    "    del branches['lep_BestMatchTrackEta_1']\n",
    "    del branches['lep_BestMatchTrackPhi_1']\n",
    "    del branches['lep_BestMatchTrackZ0_1']\n",
    "    del branches['lep_BestMatchTrackQ_1']\n",
    "    del branches['lep_chargeIDBDTLoose_1']\n",
    "    del branches['tau_numTrack_0']\n",
    "    del branches['tau_passJetIDRNNMed_0']\n",
    "    del branches['nJets_OR_DL1r_77']\n",
    "    del branches['sublead_jetEta']\n",
    "    del branches['sublead_jetPt']\n",
    "    del branches['p_angle_LeadJetSubLeadJet']\n",
    "    del branches['p_LBoost2L_tauPt']\n",
    "    del branches['p_LBoost2L_DiffLep1Lep2phi']\n",
    "    del branches['p_LBoost2L_AngleL1L2']\n",
    "    del branches['p_LBoostL1Tau_DiffTauLep1phi']\n",
    "    del branches['p_LBoostL1Tau_AngleL1Tau']\n",
    "    del branches['p_LBoostL2Tau_DiffTauLep2phi']\n",
    "    del branches['p_LBoostL2Tau_AngleL2Tau']\n",
    "    del branches['lep_Phi_0']\n",
    "    del branches['lep_EtaBE2_0']\n",
    "    del branches['lep_z0_0']\n",
    "    del branches['lep_deltaz0_0']\n",
    "    del branches['lep_BestMatchTrackD0_0']\n",
    "    del branches['lep_E_1']\n",
    "    del branches['lep_Phi_1']\n",
    "    del branches['lep_EtaBE2_1']\n",
    "    del branches['lep_deltaz0_1']\n",
    "    del branches['lep_BestMatchTrackD0_1']\n",
    "    del branches['tau_phi_0']\n",
    "    del branches['lead_jetPhi']\n",
    "    del branches['sublead_jetPhi']\n",
    "    del branches['p_Dphi_j1_j2']\n",
    "    del branches['p_Dphi_l1_j2']\n",
    "    del branches['p_Dphi_l2_j2']\n",
    "    del branches['p_invMass_l2_j2']\n",
    "    del branches['p_angle_closetJetToTau']\n",
    "    del branches['p_angle_farestJetToL1']\n",
    "    del branches['p_LBoostL1Tau_AngleL2J2']\n",
    "    del branches['p_LBoostL2Tau_AngleL2J2']\n",
    "    del branches['p_LBoostL2Tau_AngleTauJ2']\n",
    "    '''for i in dobre_zmienne:\n",
    "        del branches[i]\n",
    "    for j in dobre_zmienne2:\n",
    "        del branches[j]'''"
   ],
   "id": "5f4c84702e6a41a3",
   "outputs": [],
   "execution_count": 8
  },
  {
   "metadata": {
    "ExecuteTime": {
     "end_time": "2024-07-30T09:52:50.087513Z",
     "start_time": "2024-07-30T09:52:50.084117Z"
    }
   },
   "cell_type": "code",
   "source": [
    "# p_LBoost2L_tauPt \n",
    "# p_LBoost2L_DiffLep1Lep2phi\n",
    "# p_LBoost2L_AngleL1L2\n",
    "# p_LBoostL1Tau_DiffTauLep1phi\n",
    "# p_LBoostL2Tau_DiffTauLep2phi\n",
    "# "
   ],
   "id": "70b3c2ae6eb507ef",
   "outputs": [],
   "execution_count": 9
  },
  {
   "metadata": {
    "ExecuteTime": {
     "end_time": "2024-07-30T09:52:50.393612Z",
     "start_time": "2024-07-30T09:52:50.377176Z"
    }
   },
   "cell_type": "code",
   "source": [
    "for i in branch_list:\n",
    "    delete_branches(i)\n"
   ],
   "id": "bd11ccbfbcff1d46",
   "outputs": [],
   "execution_count": 10
  },
  {
   "metadata": {
    "ExecuteTime": {
     "end_time": "2024-07-30T09:52:50.695307Z",
     "start_time": "2024-07-30T09:52:50.691100Z"
    }
   },
   "cell_type": "code",
   "source": "keys = list(branch_list[0])",
   "id": "e3bf42696f4340ce",
   "outputs": [],
   "execution_count": 11
  },
  {
   "metadata": {
    "ExecuteTime": {
     "end_time": "2024-07-30T09:52:51.099007Z",
     "start_time": "2024-07-30T09:52:51.095322Z"
    }
   },
   "cell_type": "code",
   "source": [
    "def join_branchKey(arr):\n",
    "    combo = arr\n",
    "    if len(arr) > 1:\n",
    "        combo = np.concatenate([arr[0], arr[1]])\n",
    "        for i in range(len(arr)):\n",
    "            combo = np.concatenate([combo, arr[i]])\n",
    "    return combo"
   ],
   "id": "9c8cbc5a237b90ba",
   "outputs": [],
   "execution_count": 12
  },
  {
   "metadata": {
    "ExecuteTime": {
     "end_time": "2024-07-30T09:52:51.441463Z",
     "start_time": "2024-07-30T09:52:51.438290Z"
    }
   },
   "cell_type": "code",
   "source": [
    "def join_branch(branch):\n",
    "    try:\n",
    "        for key in keys:\n",
    "            if all(isinstance(item, np.ndarray) for item in branch[key]):\n",
    "                branch[key] = join_branchKey(branch[key])\n",
    "        return branch\n",
    "    except IndexError:\n",
    "        return branch"
   ],
   "id": "ae0b03899eb801f1",
   "outputs": [],
   "execution_count": 13
  },
  {
   "metadata": {
    "ExecuteTime": {
     "end_time": "2024-07-30T09:52:51.912743Z",
     "start_time": "2024-07-30T09:52:51.909711Z"
    }
   },
   "cell_type": "code",
   "source": [
    "for i in range(len(branch_list)):\n",
    "    branch_list[i] = join_branch(branch_list[i])"
   ],
   "id": "176621a28da5123e",
   "outputs": [],
   "execution_count": 14
  },
  {
   "metadata": {
    "ExecuteTime": {
     "end_time": "2024-07-30T09:52:52.289901Z",
     "start_time": "2024-07-30T09:52:52.285723Z"
    }
   },
   "cell_type": "code",
   "source": "combined_data",
   "id": "f86f3292a005adba",
   "outputs": [
    {
     "data": {
      "text/plain": [
       "{}"
      ]
     },
     "execution_count": 15,
     "metadata": {},
     "output_type": "execute_result"
    }
   ],
   "execution_count": 15
  },
  {
   "metadata": {
    "ExecuteTime": {
     "end_time": "2024-07-30T09:52:52.753907Z",
     "start_time": "2024-07-30T09:52:52.685531Z"
    }
   },
   "cell_type": "code",
   "source": [
    "for i in keys:\n",
    "    combo = np.concatenate([branch_list[0][i], np.array([])])\n",
    "    for k in branch_list[1:]:\n",
    "        combo = np.concatenate([combo, k[i]])\n",
    "    combined_data[i] = combo\n",
    "    try:\n",
    "        combined_data[i] = combined_data[i].astype(np.float32)\n",
    "    except ValueError:\n",
    "        print(i)"
   ],
   "id": "27e889c22df72d49",
   "outputs": [],
   "execution_count": 16
  },
  {
   "metadata": {
    "ExecuteTime": {
     "end_time": "2024-07-30T09:52:53.375985Z",
     "start_time": "2024-07-30T09:52:53.373750Z"
    }
   },
   "cell_type": "code",
   "source": "",
   "id": "45523e19a6792c1c",
   "outputs": [],
   "execution_count": 16
  },
  {
   "metadata": {
    "ExecuteTime": {
     "end_time": "2024-07-30T09:52:53.843267Z",
     "start_time": "2024-07-30T09:52:53.840823Z"
    }
   },
   "cell_type": "code",
   "source": [
    "keep_dict = {}\n",
    "keep_dict['weight_lumi_xsec'] = combined_data['weight_lumi_xsec']\n",
    "keep_dict['p_is2lepTight'] = combined_data['p_is2lepTight']\n",
    "keep_dict['p_isTauSelected'] = combined_data['p_isTauSelected']"
   ],
   "id": "11f2a9ad410752b1",
   "outputs": [],
   "execution_count": 17
  },
  {
   "metadata": {
    "ExecuteTime": {
     "end_time": "2024-07-30T09:52:54.458562Z",
     "start_time": "2024-07-30T09:52:54.456381Z"
    }
   },
   "cell_type": "code",
   "source": [
    "del combined_data['weight_lumi_xsec']\n",
    "del combined_data['p_is2lepTight']\n",
    "del combined_data['p_isTauSelected']"
   ],
   "id": "a927f5eaa9bac5c7",
   "outputs": [],
   "execution_count": 18
  },
  {
   "metadata": {},
   "cell_type": "markdown",
   "source": "",
   "id": "609c26683b176aef"
  },
  {
   "metadata": {
    "ExecuteTime": {
     "end_time": "2024-07-30T09:52:55.458988Z",
     "start_time": "2024-07-30T09:52:55.456369Z"
    }
   },
   "cell_type": "code",
   "source": "combined_data2 = {}",
   "id": "b7f87a486e5f0e19",
   "outputs": [],
   "execution_count": 19
  },
  {
   "metadata": {
    "ExecuteTime": {
     "end_time": "2024-07-30T09:52:55.754020Z",
     "start_time": "2024-07-30T09:52:55.707789Z"
    }
   },
   "cell_type": "code",
   "source": [
    "for i in keys:\n",
    "    combo = np.concatenate([branch_list[0][i],branch_list[1][i]], axis=None)\n",
    "    combined_data2[i] = combo\n",
    "print(len(combined_data2[\"lep_Pt_0\"]))"
   ],
   "id": "caf556746e310ef0",
   "outputs": [
    {
     "name": "stdout",
     "output_type": "stream",
     "text": [
      "131333\n"
     ]
    }
   ],
   "execution_count": 20
  },
  {
   "metadata": {
    "ExecuteTime": {
     "end_time": "2024-07-30T09:52:56.281358Z",
     "start_time": "2024-07-30T09:52:56.278066Z"
    }
   },
   "cell_type": "code",
   "source": [
    "def data_before():\n",
    "    ex = []\n",
    "    std = []\n",
    "    min = []\n",
    "    max = []\n",
    "    std5 = []\n",
    "    \n",
    "    for key in keys:\n",
    "        ex.append(np.mean(combined_data[key]))\n",
    "        std.append(np.std(combined_data[key]))\n",
    "        min.append(np.min(combined_data[key]))\n",
    "        max.append(np.max(combined_data[key]))\n",
    "        std5.append(5*np.std(combined_data[key]))\n",
    "        \n",
    "    return ex, std, min, max, std5"
   ],
   "id": "5b99c16be68143e5",
   "outputs": [],
   "execution_count": 21
  },
  {
   "metadata": {
    "ExecuteTime": {
     "end_time": "2024-07-30T09:59:18.326185Z",
     "start_time": "2024-07-30T09:59:18.321794Z"
    }
   },
   "cell_type": "code",
   "source": "keys = list(combined_data)",
   "id": "6fbe5931bd348058",
   "outputs": [],
   "execution_count": 30
  },
  {
   "metadata": {
    "ExecuteTime": {
     "end_time": "2024-07-30T09:59:27.427958Z",
     "start_time": "2024-07-30T09:59:27.420622Z"
    }
   },
   "cell_type": "code",
   "source": "keys",
   "id": "51400bdee59240a8",
   "outputs": [
    {
     "data": {
      "text/plain": [
       "['met_met',\n",
       " 'lep_Pt_0',\n",
       " 'lep_E_0',\n",
       " 'lep_Eta_0',\n",
       " 'lep_sigd0PV_0',\n",
       " 'lep_Z0SinTheta_0',\n",
       " 'lep_Pt_1',\n",
       " 'lep_Eta_1',\n",
       " 'lep_sigd0PV_1',\n",
       " 'lep_Z0SinTheta_1',\n",
       " 'lep_z0_1',\n",
       " 'tau_pt_0',\n",
       " 'tau_eta_0',\n",
       " 'tau_E_0',\n",
       " 'tau_width_0',\n",
       " 'tau_BDTJetScore_0',\n",
       " 'tau_BDTEleScoreSigTrans_0',\n",
       " 'tau_BDTJetScoreSigTrans_0',\n",
       " 'tau_RNNJetScoreSigTrans_0',\n",
       " 'Mll01',\n",
       " 'Ptll01',\n",
       " 'DRll01',\n",
       " 'nJets_OR',\n",
       " 'HT',\n",
       " 'HT_lep',\n",
       " 'HT_jets',\n",
       " 'lead_jetPt',\n",
       " 'lead_jetEta',\n",
       " 'lead_jetE',\n",
       " 'sublead_jetE',\n",
       " 'p_Deta_l1_l2',\n",
       " 'p_DR_l1_t1',\n",
       " 'p_DR_l2_t1',\n",
       " 'p_Deta_l1_t1',\n",
       " 'p_Deta_l2_t1',\n",
       " 'p_Dphi_l1_t1',\n",
       " 'p_Dphi_l2_t1',\n",
       " 'p_invMass_l1_t1',\n",
       " 'p_invMass_l2_t1',\n",
       " 'p_invMass_j1_j2',\n",
       " 'p_Deta_j1_j2',\n",
       " 'p_DR_j1_j2',\n",
       " 'p_Dphi_l1_j1',\n",
       " 'p_Dphi_l2_j1',\n",
       " 'p_Deta_l1_j1',\n",
       " 'p_Deta_l1_j2',\n",
       " 'p_Deta_l2_j1',\n",
       " 'p_Deta_l2_j2',\n",
       " 'p_DR_l1_j1',\n",
       " 'p_DR_l1_j2',\n",
       " 'p_DR_l2_j1',\n",
       " 'p_DR_l2_j2',\n",
       " 'p_invMass_l1_j1',\n",
       " 'p_invMass_l1_j2',\n",
       " 'p_invMass_l2_j1',\n",
       " 'p_drCloserLepToTau',\n",
       " 'p_detaCloserJetToTau',\n",
       " 'p_detaCloserLepToTau',\n",
       " 'p_drCloserJetToTau',\n",
       " 'p_invMCloserJetToTau',\n",
       " 'p_invMCloserLepToTau',\n",
       " 'p_maxeta2leptons',\n",
       " 'p_detaCloserJetToLeadLep',\n",
       " 'p_drCloserJetToLeadLep',\n",
       " 'p_invMCloserJetToLeadLep',\n",
       " 'p_detaFarestJetToTau',\n",
       " 'p_drFarestJetToTau',\n",
       " 'p_drFarestJetToLeadLep',\n",
       " 'p_detaFarestJetToLeadLep',\n",
       " 'p_invMFarestJetToLeadLep',\n",
       " 'p_invMFarestJetToTau',\n",
       " 'p_angle_LeadLepTau',\n",
       " 'p_angle_Lep1_Lep2',\n",
       " 'p_angle_Lep2ToTau',\n",
       " 'p_angle_LeadJetToTau',\n",
       " 'p_angle_LeadJetToLeadLep',\n",
       " 'p_angle_LeadJetToLep2',\n",
       " 'p_angle_closetJetToL1',\n",
       " 'p_angle_farestJetToTau',\n",
       " 'p_angle_closetJetToL2',\n",
       " 'p_angle_farestJetToL2',\n",
       " 'p_drCloserJetToLep2',\n",
       " 'p_detaCloserJetToLep2',\n",
       " 'p_invMCloserJetToLep2',\n",
       " 'p_drFarestJetToLep2',\n",
       " 'p_detaFarestJetToLep2',\n",
       " 'p_invMFarestJetToLep2',\n",
       " 'p_sumElep1lep2_Etau',\n",
       " 'p_sumPtlep1lep2_Pttau',\n",
       " 'p_invMl1j1j2',\n",
       " 'p_invMl2j1j2',\n",
       " 'p_invMt1l1l2',\n",
       " 'p_LBoost2L_lep1Pt',\n",
       " 'p_LBoost2L_lep2Pt',\n",
       " 'p_LBoost2L_lep1Theta',\n",
       " 'p_LBoost2L_lep2Theta',\n",
       " 'p_LBoost2L_tauTheta',\n",
       " 'p_LBoost2L_DiffLep1Lep2eta',\n",
       " 'p_LBoost2L_DiffTauLep1eta',\n",
       " 'p_LBoost2L_DiffTauLep2eta',\n",
       " 'p_LBoost2L_DiffTauLep1phi',\n",
       " 'p_LBoost2L_DiffTauLep2phi',\n",
       " 'p_LBoost2L_AngleL1Tau',\n",
       " 'p_LBoost2L_AngleL2Tau',\n",
       " 'p_LBoost2L_AngleL1J1',\n",
       " 'p_LBoost2L_AngleL1J2',\n",
       " 'p_LBoost2L_AngleL2J1',\n",
       " 'p_LBoost2L_AngleL2J2',\n",
       " 'p_LBoost2L_AngleTauJ1',\n",
       " 'p_LBoost2L_AngleTauJ2',\n",
       " 'p_LBoost2L_DRL1L2',\n",
       " 'p_LBoost2L_DRL1Tau',\n",
       " 'p_LBoost2L_DRL2Tau',\n",
       " 'p_LBoost2L_DRL1J1',\n",
       " 'p_LBoost2L_DRL1J2',\n",
       " 'p_LBoost2L_DRL2J1',\n",
       " 'p_LBoost2L_DRL2J2',\n",
       " 'p_LBoost2L_DRTauJ1',\n",
       " 'p_LBoost2L_DRTauJ2',\n",
       " 'p_LBoost2L_drCloserJetToTau',\n",
       " 'p_LBoost2L_drCloserJetToLeadLep',\n",
       " 'p_LBoost2L_drFarestJetToTau',\n",
       " 'p_LBoost2L_drFarestJetToLeadLep',\n",
       " 'p_LBoost2L_angle_closetJetToTau',\n",
       " 'p_LBoost2L_angle_closetJetToL1',\n",
       " 'p_LBoost2L_angle_farestJetToTau',\n",
       " 'p_LBoost2L_angle_farestJetToL1',\n",
       " 'p_LBoost2L_angle_closetJetToL2',\n",
       " 'p_LBoost2L_angle_farestJetToL2',\n",
       " 'p_LBoost2L_drCloserJetToLep2',\n",
       " 'p_LBoost2L_drFarestJetToLep2',\n",
       " 'p_LBoostL1Tau_lep1Pt',\n",
       " 'p_LBoostL1Tau_lep2Pt',\n",
       " 'p_LBoostL1Tau_tauPt',\n",
       " 'p_LBoostL1Tau_lep1Theta',\n",
       " 'p_LBoostL1Tau_lep2Theta',\n",
       " 'p_LBoostL1Tau_tauTheta',\n",
       " 'p_LBoostL1Tau_DiffLep1Lep2eta',\n",
       " 'p_LBoostL1Tau_DiffTauLep1eta',\n",
       " 'p_LBoostL1Tau_DiffTauLep2eta',\n",
       " 'p_LBoostL1Tau_DiffLep1Lep2phi',\n",
       " 'p_LBoostL1Tau_DiffTauLep2phi',\n",
       " 'p_LBoostL1Tau_AngleL1L2',\n",
       " 'p_LBoostL1Tau_AngleL2Tau',\n",
       " 'p_LBoostL1Tau_AngleL1J1',\n",
       " 'p_LBoostL1Tau_AngleL1J2',\n",
       " 'p_LBoostL1Tau_AngleL2J1',\n",
       " 'p_LBoostL1Tau_AngleTauJ1',\n",
       " 'p_LBoostL1Tau_AngleTauJ2',\n",
       " 'p_LBoostL1Tau_DRL1L2',\n",
       " 'p_LBoostL1Tau_DRL1Tau',\n",
       " 'p_LBoostL1Tau_DRL2Tau',\n",
       " 'p_LBoostL1Tau_DRL1J1',\n",
       " 'p_LBoostL1Tau_DRL1J2',\n",
       " 'p_LBoostL1Tau_DRL2J1',\n",
       " 'p_LBoostL1Tau_DRL2J2',\n",
       " 'p_LBoostL1Tau_DRTauJ1',\n",
       " 'p_LBoostL1Tau_DRTauJ2',\n",
       " 'p_LBoostL1Tau_drCloserJetToTau',\n",
       " 'p_LBoostL1Tau_drCloserJetToLeadLep',\n",
       " 'p_LBoostL1Tau_drFarestJetToTau',\n",
       " 'p_LBoostL1Tau_drFarestJetToLeadLep',\n",
       " 'p_LBoostL1Tau_angle_closetJetToTau',\n",
       " 'p_LBoostL1Tau_angle_closetJetToL1',\n",
       " 'p_LBoostL1Tau_angle_farestJetToTau',\n",
       " 'p_LBoostL1Tau_angle_farestJetToL1',\n",
       " 'p_LBoostL1Tau_angle_closetJetToL2',\n",
       " 'p_LBoostL1Tau_drCloserJetToLep2',\n",
       " 'p_LBoostL1Tau_drFarestJetToLep2',\n",
       " 'p_LBoostL2Tau_lep1Pt',\n",
       " 'p_LBoostL2Tau_lep2Pt',\n",
       " 'p_LBoostL2Tau_tauPt',\n",
       " 'p_LBoostL2Tau_lep1Theta',\n",
       " 'p_LBoostL2Tau_lep2Theta',\n",
       " 'p_LBoostL2Tau_tauTheta',\n",
       " 'p_LBoostL2Tau_DiffLep1Lep2eta',\n",
       " 'p_LBoostL2Tau_DiffTauLep1eta',\n",
       " 'p_LBoostL2Tau_DiffTauLep2eta',\n",
       " 'p_LBoostL2Tau_DiffLep1Lep2phi',\n",
       " 'p_LBoostL2Tau_DiffTauLep1phi',\n",
       " 'p_LBoostL2Tau_AngleL1L2',\n",
       " 'p_LBoostL2Tau_AngleL1Tau',\n",
       " 'p_LBoostL2Tau_AngleL1J1',\n",
       " 'p_LBoostL2Tau_AngleL1J2',\n",
       " 'p_LBoostL2Tau_AngleL2J1',\n",
       " 'p_LBoostL2Tau_AngleTauJ1',\n",
       " 'p_LBoostL2Tau_DRL1L2',\n",
       " 'p_LBoostL2Tau_DRL1Tau',\n",
       " 'p_LBoostL2Tau_DRL2Tau',\n",
       " 'p_LBoostL2Tau_DRL1J1',\n",
       " 'p_LBoostL2Tau_DRL1J2',\n",
       " 'p_LBoostL2Tau_DRL2J1',\n",
       " 'p_LBoostL2Tau_DRL2J2',\n",
       " 'p_LBoostL2Tau_DRTauJ1',\n",
       " 'p_LBoostL2Tau_DRTauJ2',\n",
       " 'p_LBoostL2Tau_drCloserJetToTau',\n",
       " 'p_LBoostL2Tau_drCloserJetToLeadLep',\n",
       " 'p_LBoostL2Tau_drFarestJetToTau',\n",
       " 'p_LBoostL2Tau_drFarestJetToLeadLep',\n",
       " 'p_LBoostL2Tau_angle_closetJetToTau',\n",
       " 'p_LBoostL2Tau_angle_closetJetToL1',\n",
       " 'p_LBoostL2Tau_angle_farestJetToTau',\n",
       " 'p_LBoostL2Tau_angle_farestJetToL1',\n",
       " 'p_LBoostL2Tau_angle_closetJetToL2',\n",
       " 'p_LBoostL2Tau_angle_farestJetToL2',\n",
       " 'p_LBoostL2Tau_drCloserJetToLep2',\n",
       " 'p_LBoostL2Tau_drFarestJetToLep2']"
      ]
     },
     "execution_count": 31,
     "metadata": {},
     "output_type": "execute_result"
    }
   ],
   "execution_count": 31
  },
  {
   "metadata": {
    "ExecuteTime": {
     "end_time": "2024-07-30T09:59:35.736214Z",
     "start_time": "2024-07-30T09:59:35.727143Z"
    }
   },
   "cell_type": "code",
   "source": [
    "for i in range(len(keys)):\n",
    "    if np.min(combined_data[keys[i]]) == -999.0:\n",
    "        del combined_data[keys[i]]"
   ],
   "id": "c611908fca88bcb3",
   "outputs": [],
   "execution_count": 32
  },
  {
   "metadata": {
    "ExecuteTime": {
     "end_time": "2024-07-30T09:59:40.297460Z",
     "start_time": "2024-07-30T09:59:37.990990Z"
    }
   },
   "cell_type": "code",
   "source": [
    "for key in keys:\n",
    "    if \"_inv\" in key:\n",
    "        for i in range(len(combined_data[key])):\n",
    "            if combined_data[key][i] < 0:\n",
    "                combined_data[key][i] = 0"
   ],
   "id": "17c8c2bf6d4e7241",
   "outputs": [],
   "execution_count": 33
  },
  {
   "metadata": {
    "ExecuteTime": {
     "end_time": "2024-07-30T09:59:41.160692Z",
     "start_time": "2024-07-30T09:59:41.157121Z"
    }
   },
   "cell_type": "code",
   "source": "keys = list(combined_data)",
   "id": "da9aec54ca2961da",
   "outputs": [],
   "execution_count": 34
  },
  {
   "metadata": {
    "ExecuteTime": {
     "end_time": "2024-07-30T09:59:41.852990Z",
     "start_time": "2024-07-30T09:59:41.799429Z"
    }
   },
   "cell_type": "code",
   "source": "ex, std, min, max, std5 = data_before()",
   "id": "b0368d40d9aee19f",
   "outputs": [],
   "execution_count": 35
  },
  {
   "metadata": {
    "ExecuteTime": {
     "end_time": "2024-07-30T09:59:42.489841Z",
     "start_time": "2024-07-30T09:59:42.486324Z"
    }
   },
   "cell_type": "code",
   "source": [
    "\n",
    "'''for i in range(len(keys)):\n",
    "    print(f'{keys[i]}: Mean: {ex[i]}, Std: {std[i]}, Min: {min[i]}, Max: {max[i]}, Std5: {std5[i]}')\n",
    "    print(\"---------------------------------------------------------------------------------------------------\")'''"
   ],
   "id": "328943aa8fdbfe01",
   "outputs": [
    {
     "data": {
      "text/plain": [
       "'for i in range(len(keys)):\\n    print(f\\'{keys[i]}: Mean: {ex[i]}, Std: {std[i]}, Min: {min[i]}, Max: {max[i]}, Std5: {std5[i]}\\')\\n    print(\"---------------------------------------------------------------------------------------------------\")'"
      ]
     },
     "execution_count": 36,
     "metadata": {},
     "output_type": "execute_result"
    }
   ],
   "execution_count": 36
  },
  {
   "metadata": {
    "ExecuteTime": {
     "end_time": "2024-07-30T09:59:42.840835Z",
     "start_time": "2024-07-30T09:59:42.837010Z"
    }
   },
   "cell_type": "code",
   "source": [
    "def paint(m, lst, color, key):\n",
    "    fig = plt.figure()\n",
    "    biny = bins(m, lst)\n",
    "    plt.hist(lst, bins=biny, color=color)\n",
    "    plt.title(key)\n",
    "    return fig"
   ],
   "id": "cfef8c3c84c67df9",
   "outputs": [],
   "execution_count": 37
  },
  {
   "metadata": {
    "ExecuteTime": {
     "end_time": "2024-07-30T09:59:43.283692Z",
     "start_time": "2024-07-30T09:59:43.279368Z"
    }
   },
   "cell_type": "code",
   "source": [
    "def bins(n, list):\n",
    "    bins = []\n",
    "\n",
    "    list = sorted(list)\n",
    "\n",
    "    last = list[-1]\n",
    "    k = np.min(list)\n",
    "    while k < last:\n",
    "        bins.append(k)\n",
    "        k += (last - list[0])/n\n",
    "\n",
    "\n",
    "    return bins"
   ],
   "id": "310907d422a968db",
   "outputs": [],
   "execution_count": 38
  },
  {
   "metadata": {
    "ExecuteTime": {
     "end_time": "2024-07-30T09:59:43.783652Z",
     "start_time": "2024-07-30T09:59:43.779284Z"
    }
   },
   "cell_type": "code",
   "source": [
    "def cuting(list):\n",
    "    mean = np.mean(list)\n",
    "    std = np.std(list)\n",
    "    \n",
    "    filtred = []\n",
    "    \n",
    "    max_list = []\n",
    "    min_list = []\n",
    "    \n",
    "    max_plus = mean + 5*std\n",
    "    max_minus = mean - 5*std\n",
    "    for i in range(len(list)):\n",
    "        if(list[i] <= max_plus and list[i] >= max_minus):\n",
    "            filtred.append(list[i])\n",
    "        elif (list[i] >= max_plus):\n",
    "          max_list.append(list[i])\n",
    "        elif (list[i] <= max_minus):\n",
    "            min_list.append(list[i])\n",
    "    if (len(max_list) > 0):\n",
    "        cut_max = np.min(max_list)\n",
    "    else:\n",
    "        cut_max = np.max(filtred)\n",
    "    if(len(min_list) > 0):\n",
    "        cut_min = np.max(min_list)\n",
    "    else:\n",
    "        cut_min = np.min(filtred)\n",
    "    \n",
    "    for i in range(len(max_list)):\n",
    "        filtred.append(max_plus)\n",
    "    \n",
    "    for i in range(len(min_list)):\n",
    "        filtred.append(max_minus)\n",
    "    \n",
    "    return [np.asarray(filtred), cut_max, cut_min, max_list, min_list]"
   ],
   "id": "d9eb6389e85eb6ba",
   "outputs": [],
   "execution_count": 39
  },
  {
   "metadata": {
    "ExecuteTime": {
     "end_time": "2024-07-30T09:59:44.257792Z",
     "start_time": "2024-07-30T09:59:44.253415Z"
    }
   },
   "cell_type": "code",
   "source": [
    "def minus_value_filter(keys, branch):\n",
    "    try:\n",
    "        for key in keys:\n",
    "            min = np.min(branch[key])\n",
    "            max = np.max(branch[key])\n",
    "            distance = abs(max - min)\n",
    "            if min < 0:\n",
    "                for i in range(len(branch[key])):\n",
    "                    branch[key][i] = branch[key][i] + distance\n",
    "        return branch\n",
    "    except ValueError:\n",
    "        print(key)"
   ],
   "id": "584a473f52818b9b",
   "outputs": [],
   "execution_count": 40
  },
  {
   "metadata": {
    "ExecuteTime": {
     "end_time": "2024-07-30T09:59:45.350645Z",
     "start_time": "2024-07-30T09:59:44.606851Z"
    }
   },
   "cell_type": "code",
   "source": "combined_data = minus_value_filter(keys, combined_data)\n",
   "id": "17d949eba91efde1",
   "outputs": [],
   "execution_count": 41
  },
  {
   "metadata": {
    "ExecuteTime": {
     "end_time": "2024-07-30T09:59:46.259564Z",
     "start_time": "2024-07-30T09:59:46.256058Z"
    }
   },
   "cell_type": "code",
   "source": [
    "def norm(keys, branch):\n",
    "    \n",
    "    maxes = {}\n",
    "    mins = {}\n",
    "    \n",
    "    for key in keys:\n",
    "        max = np.max(branch[key])\n",
    "        min = np.min(branch[key])\n",
    "        distance = max - min\n",
    "        \n",
    "        for i in range(len(branch[key])):\n",
    "            if distance != 0:\n",
    "                branch[key][i] = (branch[key][i] - min) / distance\n",
    "        if(max != 0):\n",
    "            maxes[key] = (max - min) / distance   \n",
    "            mins[key] = 0\n",
    "        \n",
    "        \n",
    "    return [branch, maxes, mins]"
   ],
   "id": "d7c0258eac28959b",
   "outputs": [],
   "execution_count": 42
  },
  {
   "metadata": {
    "ExecuteTime": {
     "end_time": "2024-07-30T09:59:46.999440Z",
     "start_time": "2024-07-30T09:59:46.995346Z"
    }
   },
   "cell_type": "code",
   "source": [
    "arr1 = {\"one\": [2, 8, 7, 4, 2, 0, 12, 15, 17]}\n",
    "arr2 = {\"one\": [3, 6, 4, 1, 7, 3, 2, 1, 9, 15, 11]}\n",
    "\n",
    "print(norm([\"one\"], arr1))\n",
    "print(norm([\"one\"], arr2))"
   ],
   "id": "3216f01a8bde0a12",
   "outputs": [
    {
     "name": "stdout",
     "output_type": "stream",
     "text": [
      "[{'one': [0.11764705882352941, 0.47058823529411764, 0.4117647058823529, 0.23529411764705882, 0.11764705882352941, 0.0, 0.7058823529411765, 0.8823529411764706, 1.0]}, {'one': 1.0}, {'one': 0}]\n",
      "[{'one': [0.14285714285714285, 0.35714285714285715, 0.21428571428571427, 0.0, 0.42857142857142855, 0.14285714285714285, 0.07142857142857142, 0.0, 0.5714285714285714, 1.0, 0.7142857142857143]}, {'one': 1.0}, {'one': 0}]\n"
     ]
    }
   ],
   "execution_count": 43
  },
  {
   "metadata": {
    "ExecuteTime": {
     "end_time": "2024-07-30T09:59:56.852174Z",
     "start_time": "2024-07-30T09:59:47.336396Z"
    }
   },
   "cell_type": "code",
   "source": [
    "globals_max = {}\n",
    "globals_min = {}\n",
    "\n",
    "for key in keys:\n",
    "    \n",
    "    cut = cuting(combined_data[key])\n",
    "    combined_data[key] = cut[0]\n",
    "    globals_max[key] = cut[1]\n",
    "    globals_min[key] = cut[2]\n"
   ],
   "id": "b50ba43a9d484d11",
   "outputs": [],
   "execution_count": 44
  },
  {
   "metadata": {
    "ExecuteTime": {
     "end_time": "2024-07-30T10:00:14.579010Z",
     "start_time": "2024-07-30T09:59:56.853325Z"
    }
   },
   "cell_type": "code",
   "source": "combined_data = norm(keys, combined_data)[0]",
   "id": "f9f847f47c24f88d",
   "outputs": [],
   "execution_count": 45
  },
  {
   "metadata": {
    "ExecuteTime": {
     "end_time": "2024-07-30T10:00:18.777387Z",
     "start_time": "2024-07-30T10:00:18.773427Z"
    }
   },
   "cell_type": "code",
   "source": [
    "def paint2(key, m, lst, lst2, color, color2, alpha):\n",
    "    fig = plt.figure()\n",
    "    biny = bins(m, lst[key])\n",
    "    plt.hist(lst[key], bins=biny, color=color)\n",
    "    plt.hist(lst2[key], bins=biny, color=color2, alpha=alpha)\n",
    "    plt.title(key)\n",
    "    return fig"
   ],
   "id": "475f914b5fe98802",
   "outputs": [],
   "execution_count": 46
  },
  {
   "metadata": {
    "ExecuteTime": {
     "end_time": "2024-07-30T10:00:28.374985Z",
     "start_time": "2024-07-30T10:00:19.223657Z"
    }
   },
   "cell_type": "code",
   "source": [
    "list_keys = []\n",
    "filtered_cor = []\n",
    "\n",
    "sum = 0\n",
    "for key in keys:\n",
    "    a = combined_data[key]\n",
    "    list_keys.append(key)\n",
    "    for k in keys:\n",
    "        try:\n",
    "            if k != key and k not in list_keys:\n",
    "                b = combined_data[k]\n",
    "                cor_coff = np.corrcoef(a.reshape(1, -1), b.reshape(1, -1))\n",
    "                if abs(cor_coff[0, 1]) > 0.8:\n",
    "                    print(f'{key} with {k}: {cor_coff[0, 1]}')\n",
    "                    sum += 1\n",
    "                    if key not in filtered_cor:\n",
    "                        filtered_cor.append(key)\n",
    "        except AttributeError:\n",
    "            print(f'{key}: {a}')\n",
    "            print(f'{k}: {b}')\n",
    "        \n",
    "                \n",
    "print(sum)\n",
    "print(filtered_cor)\n",
    "print(len(filtered_cor))"
   ],
   "id": "6534d233ad751034",
   "outputs": [
    {
     "name": "stdout",
     "output_type": "stream",
     "text": [
      "p_Deta_l1_l2 with p_LBoost2L_lep1Theta: -0.9251341291099482\n",
      "p_Deta_l1_l2 with p_LBoost2L_lep2Theta: 0.9251786358617177\n",
      "p_Deta_l1_t1 with p_LBoostL1Tau_lep1Theta: -0.909659502703395\n",
      "p_Deta_l1_t1 with p_LBoostL1Tau_tauTheta: 0.9096594943315038\n",
      "p_Deta_l2_t1 with p_LBoostL2Tau_lep2Theta: -0.9054723401810656\n",
      "p_Deta_l2_t1 with p_LBoostL2Tau_tauTheta: 0.9054730005856889\n",
      "p_LBoost2L_lep1Pt with p_LBoost2L_lep2Pt: 0.9999999999508564\n",
      "p_LBoost2L_lep1Theta with p_LBoost2L_lep2Theta: -0.9998980901894307\n",
      "p_LBoost2L_lep1Theta with p_LBoostL1Tau_lep2Theta: -0.8098672614029959\n",
      "p_LBoost2L_lep1Theta with p_LBoostL1Tau_DiffLep1Lep2eta: -0.8167974949067522\n",
      "p_LBoost2L_lep2Theta with p_LBoostL1Tau_lep2Theta: 0.8098341706549481\n",
      "p_LBoost2L_lep2Theta with p_LBoostL1Tau_DiffLep1Lep2eta: 0.816837690166679\n",
      "p_LBoost2L_tauTheta with p_LBoostL1Tau_lep1Theta: -0.8063550114938633\n",
      "p_LBoost2L_tauTheta with p_LBoostL1Tau_tauTheta: 0.8063549153684673\n",
      "p_LBoost2L_DiffTauLep1phi with p_LBoostL1Tau_DiffLep1Lep2phi: 0.8389599012543778\n",
      "p_LBoost2L_AngleL1Tau with p_LBoost2L_AngleL2Tau: -0.999839161460967\n",
      "p_LBoost2L_AngleL1J1 with p_LBoost2L_AngleL2J1: -0.9998161810481452\n",
      "p_LBoost2L_AngleL1J2 with p_LBoostL1Tau_AngleL1J2: 0.9120278509361135\n",
      "p_LBoost2L_AngleL2J2 with p_LBoostL1Tau_AngleTauJ2: 0.8691359375206454\n",
      "p_LBoost2L_AngleTauJ2 with p_LBoostL1Tau_AngleTauJ2: 0.8215995332734783\n",
      "p_LBoost2L_angle_closetJetToTau with p_LBoostL1Tau_angle_closetJetToTau: 0.8138722557952818\n",
      "p_LBoost2L_angle_farestJetToTau with p_LBoostL1Tau_angle_farestJetToTau: 0.8007717248608583\n",
      "p_LBoost2L_angle_closetJetToL2 with p_LBoostL1Tau_angle_closetJetToL2: 0.8055969469768056\n",
      "p_LBoostL1Tau_lep1Pt with p_LBoostL1Tau_tauPt: 0.9999999999991173\n",
      "p_LBoostL1Tau_lep1Theta with p_LBoostL1Tau_tauTheta: -0.9999999999724962\n",
      "p_LBoostL1Tau_AngleL1L2 with p_LBoostL1Tau_AngleL2Tau: -0.9999999999532797\n",
      "p_LBoostL1Tau_AngleL1J1 with p_LBoostL1Tau_AngleTauJ1: -0.9999999999505271\n",
      "p_LBoostL2Tau_lep2Pt with p_LBoostL2Tau_tauPt: 0.999999999985985\n",
      "p_LBoostL2Tau_lep2Theta with p_LBoostL2Tau_tauTheta: -0.9999999998893027\n",
      "p_LBoostL2Tau_AngleL1L2 with p_LBoostL2Tau_AngleL1Tau: -0.99999999980798\n",
      "p_LBoostL2Tau_AngleL2J1 with p_LBoostL2Tau_AngleTauJ1: -0.9999999997681775\n",
      "31\n",
      "['p_Deta_l1_l2', 'p_Deta_l1_t1', 'p_Deta_l2_t1', 'p_LBoost2L_lep1Pt', 'p_LBoost2L_lep1Theta', 'p_LBoost2L_lep2Theta', 'p_LBoost2L_tauTheta', 'p_LBoost2L_DiffTauLep1phi', 'p_LBoost2L_AngleL1Tau', 'p_LBoost2L_AngleL1J1', 'p_LBoost2L_AngleL1J2', 'p_LBoost2L_AngleL2J2', 'p_LBoost2L_AngleTauJ2', 'p_LBoost2L_angle_closetJetToTau', 'p_LBoost2L_angle_farestJetToTau', 'p_LBoost2L_angle_closetJetToL2', 'p_LBoostL1Tau_lep1Pt', 'p_LBoostL1Tau_lep1Theta', 'p_LBoostL1Tau_AngleL1L2', 'p_LBoostL1Tau_AngleL1J1', 'p_LBoostL2Tau_lep2Pt', 'p_LBoostL2Tau_lep2Theta', 'p_LBoostL2Tau_AngleL1L2', 'p_LBoostL2Tau_AngleL2J1']\n",
      "24\n"
     ]
    }
   ],
   "execution_count": 47
  },
  {
   "metadata": {
    "ExecuteTime": {
     "end_time": "2024-07-30T10:00:28.379415Z",
     "start_time": "2024-07-30T10:00:28.376211Z"
    }
   },
   "cell_type": "code",
   "source": [
    "fil_keys = []\n",
    "\n",
    "for key in keys:\n",
    "    if key not in filtered_cor:\n",
    "        fil_keys.append(key)\n",
    "        \n",
    "print(len(fil_keys))"
   ],
   "id": "dcbcfb0e56567454",
   "outputs": [
    {
     "name": "stdout",
     "output_type": "stream",
     "text": [
      "183\n"
     ]
    }
   ],
   "execution_count": 48
  },
  {
   "metadata": {
    "ExecuteTime": {
     "end_time": "2024-07-30T10:00:29.444594Z",
     "start_time": "2024-07-30T10:00:29.441232Z"
    }
   },
   "cell_type": "code",
   "source": "keys = fil_keys",
   "id": "aefe03a13a8f0bbb",
   "outputs": [],
   "execution_count": 49
  },
  {
   "metadata": {
    "ExecuteTime": {
     "end_time": "2024-07-30T10:00:29.892730Z",
     "start_time": "2024-07-30T10:00:29.889416Z"
    }
   },
   "cell_type": "code",
   "source": [
    "signal = branch_list[0]\n",
    "background = {}\n",
    "for key in keys:\n",
    "    background[key] = combined_data[key][len(signal[key]):]\n",
    "    signal[key] = combined_data[key][:len(signal[key])]\n"
   ],
   "id": "a2c5c6ba93e2c05a",
   "outputs": [],
   "execution_count": 50
  },
  {
   "metadata": {
    "ExecuteTime": {
     "end_time": "2024-07-30T10:00:30.714070Z",
     "start_time": "2024-07-30T10:00:30.711005Z"
    }
   },
   "cell_type": "code",
   "source": [
    "signal_filtered = {}\n",
    "background_filtered = {}\n",
    "combined_data_filtered = {}"
   ],
   "id": "72ba7ca3ad69ee9",
   "outputs": [],
   "execution_count": 51
  },
  {
   "metadata": {
    "ExecuteTime": {
     "end_time": "2024-07-30T10:00:31.260817Z",
     "start_time": "2024-07-30T10:00:31.257286Z"
    }
   },
   "cell_type": "code",
   "source": [
    "for key in keys:\n",
    "    \n",
    "    \n",
    "    signal_filtered[key] = signal[key]\n",
    "    background_filtered[key] = background[key]  \n",
    "    combined_data_filtered[key] = combined_data[key]"
   ],
   "id": "8e7e81fc5c6b1c6c",
   "outputs": [],
   "execution_count": 52
  },
  {
   "metadata": {
    "ExecuteTime": {
     "end_time": "2024-07-30T10:00:32.985850Z",
     "start_time": "2024-07-30T10:00:32.734600Z"
    }
   },
   "cell_type": "code",
   "source": [
    "np.save(\"new_signal_data.npy\", signal_filtered)\n",
    "np.save(\"new_background_data.npy\", background_filtered)\n",
    "np.save(\"new_combined_data.npy\", combined_data_filtered)\n",
    "np.save(\"keep_data.npy\", keep_dict)"
   ],
   "id": "c85d47f14f67e739",
   "outputs": [],
   "execution_count": 53
  },
  {
   "metadata": {},
   "cell_type": "code",
   "outputs": [],
   "execution_count": null,
   "source": "",
   "id": "307deb3b7037f6d8"
  }
 ],
 "metadata": {
  "kernelspec": {
   "display_name": "Python 3",
   "language": "python",
   "name": "python3"
  },
  "language_info": {
   "codemirror_mode": {
    "name": "ipython",
    "version": 2
   },
   "file_extension": ".py",
   "mimetype": "text/x-python",
   "name": "python",
   "nbconvert_exporter": "python",
   "pygments_lexer": "ipython2",
   "version": "2.7.6"
  }
 },
 "nbformat": 4,
 "nbformat_minor": 5
}
